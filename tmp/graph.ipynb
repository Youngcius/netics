{
 "cells": [
  {
   "cell_type": "code",
   "execution_count": 1,
   "metadata": {},
   "outputs": [],
   "source": [
    "import torch\n",
    "import dgl\n",
    "import networkx as nx\n",
    "import matplotlib.pyplot as plt"
   ]
  },
  {
   "cell_type": "code",
   "execution_count": 2,
   "metadata": {},
   "outputs": [
    {
     "data": {
      "image/png": "[encoded data removed]",
      "text/plain": [
       "<Figure size 300x300 with 1 Axes>"
      ]
     },
     "metadata": {},
     "output_type": "display_data"
    }
   ],
   "source": [
    "g = nx.grid_2d_graph(4,4)\n",
    "nx.set_node_attributes(g, {node: (node[1], node[0]) for node in g.nodes}, 'pos')\n",
    "g = nx.convert_node_labels_to_integers(g)\n",
    "plt.figure(figsize=(3,3))\n",
    "nx.draw(g, pos=nx.get_node_attributes(g, 'pos'), with_labels=True)"
   ]
  },
  {
   "cell_type": "code",
   "execution_count": null,
   "metadata": {},
   "outputs": [],
   "source": []
  },
  {
   "cell_type": "code",
   "execution_count": 3,
   "metadata": {},
   "outputs": [],
   "source": [
    "g = nx.grid_2d_graph(4,4)\n",
    "g = nx.convert_node_labels_to_integers(g)\n",
    "d = dgl.from_networkx(g)\n",
    "d.ndata['h'] = torch.ones(d.num_nodes())\n",
    "d.edata['e'] = torch.zeros(d.num_edges())"
   ]
  },
  {
   "cell_type": "code",
   "execution_count": 4,
   "metadata": {},
   "outputs": [
    {
     "name": "stdout",
     "output_type": "stream",
     "text": [
      "torch.Size([48]) torch.Size([48])\n",
      "torch.Size([4, 2]) tensor([[1., 1.],\n",
      "        [1., 1.],\n",
      "        [1., 1.],\n",
      "        [1., 1.]])\n",
      "torch.Size([8, 3]) tensor([[1., 1., 1.],\n",
      "        [1., 1., 1.],\n",
      "        [1., 1., 1.],\n",
      "        [1., 1., 1.],\n",
      "        [1., 1., 1.],\n",
      "        [1., 1., 1.],\n",
      "        [1., 1., 1.],\n",
      "        [1., 1., 1.]])\n",
      "torch.Size([4, 4]) tensor([[1., 1., 1., 1.],\n",
      "        [1., 1., 1., 1.],\n",
      "        [1., 1., 1., 1.],\n",
      "        [1., 1., 1., 1.]])\n"
     ]
    }
   ],
   "source": [
    "# d.update_all(dgl.function.copy_u('h', out='m'), dgl.function.sum(msg='m', out='h'))\n",
    "\n",
    "def msg_func(edges):\n",
    "    print(edges.src['h'].size(), edges.dst['h'].size())\n",
    "    return {'m': edges.src['h']}\n",
    "def reduce_func(nodes):\n",
    "    print(nodes.mailbox['m'].size(), nodes.mailbox['m'])\n",
    "    return {'h': torch.sum(nodes.mailbox['m'], 1)}\n",
    "d.update_all(msg_func, reduce_func)"
   ]
  },
  {
   "cell_type": "code",
   "execution_count": 15,
   "metadata": {},
   "outputs": [],
   "source": [
    "# d.update_all(dgl.function.copy_u('h', out='m'), dgl.function.sum(msg='m', out='h'))\n",
    "\n",
    "d.update_all(dgl.function.copy_u('h', out='m'), dgl.function.sum(msg='m', out='h'))"
   ]
  },
  {
   "cell_type": "code",
   "execution_count": 16,
   "metadata": {},
   "outputs": [
    {
     "ename": "NameError",
     "evalue": "name 't' is not defined",
     "output_type": "error",
     "traceback": [
      "\u001b[1;31m---------------------------------------------------------------------------\u001b[0m",
      "\u001b[1;31mNameError\u001b[0m                                 Traceback (most recent call last)",
      "Cell \u001b[1;32mIn[16], line 1\u001b[0m\n\u001b[1;32m----> 1\u001b[0m t\n",
      "\u001b[1;31mNameError\u001b[0m: name 't' is not defined"
     ]
    }
   ],
   "source": [
    "t"
   ]
  },
  {
   "cell_type": "code",
   "execution_count": 162,
   "metadata": {},
   "outputs": [
    {
     "data": {
      "text/plain": [
       "Graph(num_nodes=16, num_edges=48,\n",
       "      ndata_schemes={'h': Scheme(shape=(), dtype=torch.float32)}\n",
       "      edata_schemes={'e': Scheme(shape=(), dtype=torch.float32)})"
      ]
     },
     "execution_count": 162,
     "metadata": {},
     "output_type": "execute_result"
    }
   ],
   "source": [
    "d.cpu()"
   ]
  },
  {
   "cell_type": "code",
   "execution_count": null,
   "metadata": {},
   "outputs": [],
   "source": []
  },
  {
   "cell_type": "code",
   "execution_count": 112,
   "metadata": {},
   "outputs": [],
   "source": [
    "edges = list(zip(*edges))"
   ]
  },
  {
   "cell_type": "code",
   "execution_count": 114,
   "metadata": {},
   "outputs": [],
   "source": [
    "nx.set_edge_attributes(g, dict(zip(edges, data)), 'ss')"
   ]
  },
  {
   "cell_type": "code",
   "execution_count": 117,
   "metadata": {},
   "outputs": [
    {
     "name": "stdout",
     "output_type": "stream",
     "text": [
      "(tensor([ 0,  0,  1,  1,  1,  2,  2,  2,  3,  3,  4,  4,  4,  5,  5,  5,  5,  6,\n",
      "         6,  6,  6,  7,  7,  7,  8,  8,  8,  9,  9,  9,  9, 10, 10, 10, 10, 11,\n",
      "        11, 11, 12, 12, 13, 13, 13, 14, 14, 14, 15, 15]), tensor([ 4,  1,  0,  5,  2,  1,  6,  3,  2,  7,  0,  8,  5,  1,  4,  9,  6,  2,\n",
      "         5, 10,  7,  3,  6, 11,  4, 12,  9,  5,  8, 13, 10,  6,  9, 14, 11,  7,\n",
      "        10, 15,  8, 13,  9, 12, 14, 10, 13, 15, 11, 14]))\n",
      "[(0, 4), (0, 1), (1, 0), (1, 5), (1, 2), (2, 1), (2, 6), (2, 3), (3, 2), (3, 7), (4, 0), (4, 8), (4, 5), (5, 1), (5, 4), (5, 9), (5, 6), (6, 2), (6, 5), (6, 10), (6, 7), (7, 3), (7, 6), (7, 11), (8, 4), (8, 12), (8, 9), (9, 5), (9, 8), (9, 13), (9, 10), (10, 6), (10, 9), (10, 14), (10, 11), (11, 7), (11, 10), (11, 15), (12, 8), (12, 13), (13, 9), (13, 12), (13, 14), (14, 10), (14, 13), (14, 15), (15, 11), (15, 14)]\n",
      "[(0, 4), (0, 1), (1, 0), (1, 5), (1, 2), (2, 1), (2, 6), (2, 3), (3, 2), (3, 7), (4, 0), (4, 8), (4, 5), (5, 1), (5, 4), (5, 9), (5, 6), (6, 2), (6, 5), (6, 10), (6, 7), (7, 3), (7, 6), (7, 11), (8, 4), (8, 12), (8, 9), (9, 5), (9, 8), (9, 13), (9, 10), (10, 6), (10, 9), (10, 14), (10, 11), (11, 7), (11, 10), (11, 15), (12, 8), (12, 13), (13, 9), (13, 12), (13, 14), (14, 10), (14, 13), (14, 15), (15, 11), (15, 14)]\n"
     ]
    }
   ],
   "source": [
    "g = d\n",
    "nx_graph = g.to_networkx()\n",
    "print(g.edges())\n",
    "print(nx_graph.edges())\n",
    "for nfeat, data in g.ndata.items():\n",
    "    nx.set_node_attributes(nx_graph, dict(zip(range(g.number_of_nodes()), data.numpy())), nfeat)\n",
    "print(nx_graph.edges())\n"
   ]
  },
  {
   "cell_type": "code",
   "execution_count": 119,
   "metadata": {},
   "outputs": [
    {
     "data": {
      "text/plain": [
       "NodeView((0, 1, 2, 3, 4, 5, 6, 7, 8, 9, 10, 11, 12, 13, 14, 15))"
      ]
     },
     "execution_count": 119,
     "metadata": {},
     "output_type": "execute_result"
    }
   ],
   "source": [
    "nx_graph.nodes()"
   ]
  },
  {
   "cell_type": "code",
   "execution_count": 120,
   "metadata": {},
   "outputs": [],
   "source": [
    "\n",
    "edges = list(zip(*torch.stack(g.edges()).numpy()))  # size (num_edges, 2)\n"
   ]
  },
  {
   "cell_type": "code",
   "execution_count": 122,
   "metadata": {},
   "outputs": [
    {
     "name": "stdout",
     "output_type": "stream",
     "text": [
      "{(0, 4): 0.0, (0, 1): 0.0, (1, 0): 0.0, (1, 5): 0.0, (1, 2): 0.0, (2, 1): 0.0, (2, 6): 0.0, (2, 3): 0.0, (3, 2): 0.0, (3, 7): 0.0, (4, 0): 0.0, (4, 8): 0.0, (4, 5): 0.0, (5, 1): 0.0, (5, 4): 0.0, (5, 9): 0.0, (5, 6): 0.0, (6, 2): 0.0, (6, 5): 0.0, (6, 10): 0.0, (6, 7): 0.0, (7, 3): 0.0, (7, 6): 0.0, (7, 11): 0.0, (8, 4): 0.0, (8, 12): 0.0, (8, 9): 0.0, (9, 5): 0.0, (9, 8): 0.0, (9, 13): 0.0, (9, 10): 0.0, (10, 6): 0.0, (10, 9): 0.0, (10, 14): 0.0, (10, 11): 0.0, (11, 7): 0.0, (11, 10): 0.0, (11, 15): 0.0, (12, 8): 0.0, (12, 13): 0.0, (13, 9): 0.0, (13, 12): 0.0, (13, 14): 0.0, (14, 10): 0.0, (14, 13): 0.0, (14, 15): 0.0, (15, 11): 0.0, (15, 14): 0.0}\n"
     ]
    }
   ],
   "source": [
    "\n",
    "for efeat, data in g.edata.items():\n",
    "    print( dict(zip(edges, data.numpy())))\n",
    "    # nx.set_edge_attributes(nx_graph, dict(zip(edges, data.numpy())), efeat)\n",
    "# nx_graph = nx_graph.to_undirected()\n"
   ]
  },
  {
   "cell_type": "code",
   "execution_count": 146,
   "metadata": {},
   "outputs": [
    {
     "data": {
      "text/plain": [
       "OutMultiEdgeDataView([(0, 4, {'id': 0, 'weight': dict_items([((0, 4), 0.0), ((0, 1), 0.0), ((1, 0), 0.0), ((1, 5), 0.0), ((1, 2), 0.0), ((2, 1), 0.0), ((2, 6), 0.0), ((2, 3), 0.0), ((3, 2), 0.0), ((3, 7), 0.0), ((4, 0), 0.0), ((4, 8), 0.0), ((4, 5), 0.0), ((5, 1), 0.0), ((5, 4), 0.0), ((5, 9), 0.0), ((5, 6), 0.0), ((6, 2), 0.0), ((6, 5), 0.0), ((6, 10), 0.0), ((6, 7), 0.0), ((7, 3), 0.0), ((7, 6), 0.0), ((7, 11), 0.0), ((8, 4), 0.0), ((8, 12), 0.0), ((8, 9), 0.0), ((9, 5), 0.0), ((9, 8), 0.0), ((9, 13), 0.0), ((9, 10), 0.0), ((10, 6), 0.0), ((10, 9), 0.0), ((10, 14), 0.0), ((10, 11), 0.0), ((11, 7), 0.0), ((11, 10), 0.0), ((11, 15), 0.0), ((12, 8), 0.0), ((12, 13), 0.0), ((13, 9), 0.0), ((13, 12), 0.0), ((13, 14), 0.0), ((14, 10), 0.0), ((14, 13), 0.0), ((14, 15), 0.0), ((15, 11), 0.0), ((15, 14), 0.0)])}), (0, 1, {'id': 1, 'weight': dict_items([((0, 4), 0.0), ((0, 1), 0.0), ((1, 0), 0.0), ((1, 5), 0.0), ((1, 2), 0.0), ((2, 1), 0.0), ((2, 6), 0.0), ((2, 3), 0.0), ((3, 2), 0.0), ((3, 7), 0.0), ((4, 0), 0.0), ((4, 8), 0.0), ((4, 5), 0.0), ((5, 1), 0.0), ((5, 4), 0.0), ((5, 9), 0.0), ((5, 6), 0.0), ((6, 2), 0.0), ((6, 5), 0.0), ((6, 10), 0.0), ((6, 7), 0.0), ((7, 3), 0.0), ((7, 6), 0.0), ((7, 11), 0.0), ((8, 4), 0.0), ((8, 12), 0.0), ((8, 9), 0.0), ((9, 5), 0.0), ((9, 8), 0.0), ((9, 13), 0.0), ((9, 10), 0.0), ((10, 6), 0.0), ((10, 9), 0.0), ((10, 14), 0.0), ((10, 11), 0.0), ((11, 7), 0.0), ((11, 10), 0.0), ((11, 15), 0.0), ((12, 8), 0.0), ((12, 13), 0.0), ((13, 9), 0.0), ((13, 12), 0.0), ((13, 14), 0.0), ((14, 10), 0.0), ((14, 13), 0.0), ((14, 15), 0.0), ((15, 11), 0.0), ((15, 14), 0.0)])}), (1, 0, {'id': 2, 'weight': dict_items([((0, 4), 0.0), ((0, 1), 0.0), ((1, 0), 0.0), ((1, 5), 0.0), ((1, 2), 0.0), ((2, 1), 0.0), ((2, 6), 0.0), ((2, 3), 0.0), ((3, 2), 0.0), ((3, 7), 0.0), ((4, 0), 0.0), ((4, 8), 0.0), ((4, 5), 0.0), ((5, 1), 0.0), ((5, 4), 0.0), ((5, 9), 0.0), ((5, 6), 0.0), ((6, 2), 0.0), ((6, 5), 0.0), ((6, 10), 0.0), ((6, 7), 0.0), ((7, 3), 0.0), ((7, 6), 0.0), ((7, 11), 0.0), ((8, 4), 0.0), ((8, 12), 0.0), ((8, 9), 0.0), ((9, 5), 0.0), ((9, 8), 0.0), ((9, 13), 0.0), ((9, 10), 0.0), ((10, 6), 0.0), ((10, 9), 0.0), ((10, 14), 0.0), ((10, 11), 0.0), ((11, 7), 0.0), ((11, 10), 0.0), ((11, 15), 0.0), ((12, 8), 0.0), ((12, 13), 0.0), ((13, 9), 0.0), ((13, 12), 0.0), ((13, 14), 0.0), ((14, 10), 0.0), ((14, 13), 0.0), ((14, 15), 0.0), ((15, 11), 0.0), ((15, 14), 0.0)])}), (1, 5, {'id': 3, 'weight': dict_items([((0, 4), 0.0), ((0, 1), 0.0), ((1, 0), 0.0), ((1, 5), 0.0), ((1, 2), 0.0), ((2, 1), 0.0), ((2, 6), 0.0), ((2, 3), 0.0), ((3, 2), 0.0), ((3, 7), 0.0), ((4, 0), 0.0), ((4, 8), 0.0), ((4, 5), 0.0), ((5, 1), 0.0), ((5, 4), 0.0), ((5, 9), 0.0), ((5, 6), 0.0), ((6, 2), 0.0), ((6, 5), 0.0), ((6, 10), 0.0), ((6, 7), 0.0), ((7, 3), 0.0), ((7, 6), 0.0), ((7, 11), 0.0), ((8, 4), 0.0), ((8, 12), 0.0), ((8, 9), 0.0), ((9, 5), 0.0), ((9, 8), 0.0), ((9, 13), 0.0), ((9, 10), 0.0), ((10, 6), 0.0), ((10, 9), 0.0), ((10, 14), 0.0), ((10, 11), 0.0), ((11, 7), 0.0), ((11, 10), 0.0), ((11, 15), 0.0), ((12, 8), 0.0), ((12, 13), 0.0), ((13, 9), 0.0), ((13, 12), 0.0), ((13, 14), 0.0), ((14, 10), 0.0), ((14, 13), 0.0), ((14, 15), 0.0), ((15, 11), 0.0), ((15, 14), 0.0)])}), (1, 2, {'id': 4, 'weight': dict_items([((0, 4), 0.0), ((0, 1), 0.0), ((1, 0), 0.0), ((1, 5), 0.0), ((1, 2), 0.0), ((2, 1), 0.0), ((2, 6), 0.0), ((2, 3), 0.0), ((3, 2), 0.0), ((3, 7), 0.0), ((4, 0), 0.0), ((4, 8), 0.0), ((4, 5), 0.0), ((5, 1), 0.0), ((5, 4), 0.0), ((5, 9), 0.0), ((5, 6), 0.0), ((6, 2), 0.0), ((6, 5), 0.0), ((6, 10), 0.0), ((6, 7), 0.0), ((7, 3), 0.0), ((7, 6), 0.0), ((7, 11), 0.0), ((8, 4), 0.0), ((8, 12), 0.0), ((8, 9), 0.0), ((9, 5), 0.0), ((9, 8), 0.0), ((9, 13), 0.0), ((9, 10), 0.0), ((10, 6), 0.0), ((10, 9), 0.0), ((10, 14), 0.0), ((10, 11), 0.0), ((11, 7), 0.0), ((11, 10), 0.0), ((11, 15), 0.0), ((12, 8), 0.0), ((12, 13), 0.0), ((13, 9), 0.0), ((13, 12), 0.0), ((13, 14), 0.0), ((14, 10), 0.0), ((14, 13), 0.0), ((14, 15), 0.0), ((15, 11), 0.0), ((15, 14), 0.0)])}), (2, 1, {'id': 5, 'weight': dict_items([((0, 4), 0.0), ((0, 1), 0.0), ((1, 0), 0.0), ((1, 5), 0.0), ((1, 2), 0.0), ((2, 1), 0.0), ((2, 6), 0.0), ((2, 3), 0.0), ((3, 2), 0.0), ((3, 7), 0.0), ((4, 0), 0.0), ((4, 8), 0.0), ((4, 5), 0.0), ((5, 1), 0.0), ((5, 4), 0.0), ((5, 9), 0.0), ((5, 6), 0.0), ((6, 2), 0.0), ((6, 5), 0.0), ((6, 10), 0.0), ((6, 7), 0.0), ((7, 3), 0.0), ((7, 6), 0.0), ((7, 11), 0.0), ((8, 4), 0.0), ((8, 12), 0.0), ((8, 9), 0.0), ((9, 5), 0.0), ((9, 8), 0.0), ((9, 13), 0.0), ((9, 10), 0.0), ((10, 6), 0.0), ((10, 9), 0.0), ((10, 14), 0.0), ((10, 11), 0.0), ((11, 7), 0.0), ((11, 10), 0.0), ((11, 15), 0.0), ((12, 8), 0.0), ((12, 13), 0.0), ((13, 9), 0.0), ((13, 12), 0.0), ((13, 14), 0.0), ((14, 10), 0.0), ((14, 13), 0.0), ((14, 15), 0.0), ((15, 11), 0.0), ((15, 14), 0.0)])}), (2, 6, {'id': 6, 'weight': dict_items([((0, 4), 0.0), ((0, 1), 0.0), ((1, 0), 0.0), ((1, 5), 0.0), ((1, 2), 0.0), ((2, 1), 0.0), ((2, 6), 0.0), ((2, 3), 0.0), ((3, 2), 0.0), ((3, 7), 0.0), ((4, 0), 0.0), ((4, 8), 0.0), ((4, 5), 0.0), ((5, 1), 0.0), ((5, 4), 0.0), ((5, 9), 0.0), ((5, 6), 0.0), ((6, 2), 0.0), ((6, 5), 0.0), ((6, 10), 0.0), ((6, 7), 0.0), ((7, 3), 0.0), ((7, 6), 0.0), ((7, 11), 0.0), ((8, 4), 0.0), ((8, 12), 0.0), ((8, 9), 0.0), ((9, 5), 0.0), ((9, 8), 0.0), ((9, 13), 0.0), ((9, 10), 0.0), ((10, 6), 0.0), ((10, 9), 0.0), ((10, 14), 0.0), ((10, 11), 0.0), ((11, 7), 0.0), ((11, 10), 0.0), ((11, 15), 0.0), ((12, 8), 0.0), ((12, 13), 0.0), ((13, 9), 0.0), ((13, 12), 0.0), ((13, 14), 0.0), ((14, 10), 0.0), ((14, 13), 0.0), ((14, 15), 0.0), ((15, 11), 0.0), ((15, 14), 0.0)])}), (2, 3, {'id': 7, 'weight': dict_items([((0, 4), 0.0), ((0, 1), 0.0), ((1, 0), 0.0), ((1, 5), 0.0), ((1, 2), 0.0), ((2, 1), 0.0), ((2, 6), 0.0), ((2, 3), 0.0), ((3, 2), 0.0), ((3, 7), 0.0), ((4, 0), 0.0), ((4, 8), 0.0), ((4, 5), 0.0), ((5, 1), 0.0), ((5, 4), 0.0), ((5, 9), 0.0), ((5, 6), 0.0), ((6, 2), 0.0), ((6, 5), 0.0), ((6, 10), 0.0), ((6, 7), 0.0), ((7, 3), 0.0), ((7, 6), 0.0), ((7, 11), 0.0), ((8, 4), 0.0), ((8, 12), 0.0), ((8, 9), 0.0), ((9, 5), 0.0), ((9, 8), 0.0), ((9, 13), 0.0), ((9, 10), 0.0), ((10, 6), 0.0), ((10, 9), 0.0), ((10, 14), 0.0), ((10, 11), 0.0), ((11, 7), 0.0), ((11, 10), 0.0), ((11, 15), 0.0), ((12, 8), 0.0), ((12, 13), 0.0), ((13, 9), 0.0), ((13, 12), 0.0), ((13, 14), 0.0), ((14, 10), 0.0), ((14, 13), 0.0), ((14, 15), 0.0), ((15, 11), 0.0), ((15, 14), 0.0)])}), (3, 2, {'id': 8, 'weight': dict_items([((0, 4), 0.0), ((0, 1), 0.0), ((1, 0), 0.0), ((1, 5), 0.0), ((1, 2), 0.0), ((2, 1), 0.0), ((2, 6), 0.0), ((2, 3), 0.0), ((3, 2), 0.0), ((3, 7), 0.0), ((4, 0), 0.0), ((4, 8), 0.0), ((4, 5), 0.0), ((5, 1), 0.0), ((5, 4), 0.0), ((5, 9), 0.0), ((5, 6), 0.0), ((6, 2), 0.0), ((6, 5), 0.0), ((6, 10), 0.0), ((6, 7), 0.0), ((7, 3), 0.0), ((7, 6), 0.0), ((7, 11), 0.0), ((8, 4), 0.0), ((8, 12), 0.0), ((8, 9), 0.0), ((9, 5), 0.0), ((9, 8), 0.0), ((9, 13), 0.0), ((9, 10), 0.0), ((10, 6), 0.0), ((10, 9), 0.0), ((10, 14), 0.0), ((10, 11), 0.0), ((11, 7), 0.0), ((11, 10), 0.0), ((11, 15), 0.0), ((12, 8), 0.0), ((12, 13), 0.0), ((13, 9), 0.0), ((13, 12), 0.0), ((13, 14), 0.0), ((14, 10), 0.0), ((14, 13), 0.0), ((14, 15), 0.0), ((15, 11), 0.0), ((15, 14), 0.0)])}), (3, 7, {'id': 9, 'weight': dict_items([((0, 4), 0.0), ((0, 1), 0.0), ((1, 0), 0.0), ((1, 5), 0.0), ((1, 2), 0.0), ((2, 1), 0.0), ((2, 6), 0.0), ((2, 3), 0.0), ((3, 2), 0.0), ((3, 7), 0.0), ((4, 0), 0.0), ((4, 8), 0.0), ((4, 5), 0.0), ((5, 1), 0.0), ((5, 4), 0.0), ((5, 9), 0.0), ((5, 6), 0.0), ((6, 2), 0.0), ((6, 5), 0.0), ((6, 10), 0.0), ((6, 7), 0.0), ((7, 3), 0.0), ((7, 6), 0.0), ((7, 11), 0.0), ((8, 4), 0.0), ((8, 12), 0.0), ((8, 9), 0.0), ((9, 5), 0.0), ((9, 8), 0.0), ((9, 13), 0.0), ((9, 10), 0.0), ((10, 6), 0.0), ((10, 9), 0.0), ((10, 14), 0.0), ((10, 11), 0.0), ((11, 7), 0.0), ((11, 10), 0.0), ((11, 15), 0.0), ((12, 8), 0.0), ((12, 13), 0.0), ((13, 9), 0.0), ((13, 12), 0.0), ((13, 14), 0.0), ((14, 10), 0.0), ((14, 13), 0.0), ((14, 15), 0.0), ((15, 11), 0.0), ((15, 14), 0.0)])}), (4, 0, {'id': 10, 'weight': dict_items([((0, 4), 0.0), ((0, 1), 0.0), ((1, 0), 0.0), ((1, 5), 0.0), ((1, 2), 0.0), ((2, 1), 0.0), ((2, 6), 0.0), ((2, 3), 0.0), ((3, 2), 0.0), ((3, 7), 0.0), ((4, 0), 0.0), ((4, 8), 0.0), ((4, 5), 0.0), ((5, 1), 0.0), ((5, 4), 0.0), ((5, 9), 0.0), ((5, 6), 0.0), ((6, 2), 0.0), ((6, 5), 0.0), ((6, 10), 0.0), ((6, 7), 0.0), ((7, 3), 0.0), ((7, 6), 0.0), ((7, 11), 0.0), ((8, 4), 0.0), ((8, 12), 0.0), ((8, 9), 0.0), ((9, 5), 0.0), ((9, 8), 0.0), ((9, 13), 0.0), ((9, 10), 0.0), ((10, 6), 0.0), ((10, 9), 0.0), ((10, 14), 0.0), ((10, 11), 0.0), ((11, 7), 0.0), ((11, 10), 0.0), ((11, 15), 0.0), ((12, 8), 0.0), ((12, 13), 0.0), ((13, 9), 0.0), ((13, 12), 0.0), ((13, 14), 0.0), ((14, 10), 0.0), ((14, 13), 0.0), ((14, 15), 0.0), ((15, 11), 0.0), ((15, 14), 0.0)])}), (4, 8, {'id': 11, 'weight': dict_items([((0, 4), 0.0), ((0, 1), 0.0), ((1, 0), 0.0), ((1, 5), 0.0), ((1, 2), 0.0), ((2, 1), 0.0), ((2, 6), 0.0), ((2, 3), 0.0), ((3, 2), 0.0), ((3, 7), 0.0), ((4, 0), 0.0), ((4, 8), 0.0), ((4, 5), 0.0), ((5, 1), 0.0), ((5, 4), 0.0), ((5, 9), 0.0), ((5, 6), 0.0), ((6, 2), 0.0), ((6, 5), 0.0), ((6, 10), 0.0), ((6, 7), 0.0), ((7, 3), 0.0), ((7, 6), 0.0), ((7, 11), 0.0), ((8, 4), 0.0), ((8, 12), 0.0), ((8, 9), 0.0), ((9, 5), 0.0), ((9, 8), 0.0), ((9, 13), 0.0), ((9, 10), 0.0), ((10, 6), 0.0), ((10, 9), 0.0), ((10, 14), 0.0), ((10, 11), 0.0), ((11, 7), 0.0), ((11, 10), 0.0), ((11, 15), 0.0), ((12, 8), 0.0), ((12, 13), 0.0), ((13, 9), 0.0), ((13, 12), 0.0), ((13, 14), 0.0), ((14, 10), 0.0), ((14, 13), 0.0), ((14, 15), 0.0), ((15, 11), 0.0), ((15, 14), 0.0)])}), (4, 5, {'id': 12, 'weight': dict_items([((0, 4), 0.0), ((0, 1), 0.0), ((1, 0), 0.0), ((1, 5), 0.0), ((1, 2), 0.0), ((2, 1), 0.0), ((2, 6), 0.0), ((2, 3), 0.0), ((3, 2), 0.0), ((3, 7), 0.0), ((4, 0), 0.0), ((4, 8), 0.0), ((4, 5), 0.0), ((5, 1), 0.0), ((5, 4), 0.0), ((5, 9), 0.0), ((5, 6), 0.0), ((6, 2), 0.0), ((6, 5), 0.0), ((6, 10), 0.0), ((6, 7), 0.0), ((7, 3), 0.0), ((7, 6), 0.0), ((7, 11), 0.0), ((8, 4), 0.0), ((8, 12), 0.0), ((8, 9), 0.0), ((9, 5), 0.0), ((9, 8), 0.0), ((9, 13), 0.0), ((9, 10), 0.0), ((10, 6), 0.0), ((10, 9), 0.0), ((10, 14), 0.0), ((10, 11), 0.0), ((11, 7), 0.0), ((11, 10), 0.0), ((11, 15), 0.0), ((12, 8), 0.0), ((12, 13), 0.0), ((13, 9), 0.0), ((13, 12), 0.0), ((13, 14), 0.0), ((14, 10), 0.0), ((14, 13), 0.0), ((14, 15), 0.0), ((15, 11), 0.0), ((15, 14), 0.0)])}), (5, 1, {'id': 13, 'weight': dict_items([((0, 4), 0.0), ((0, 1), 0.0), ((1, 0), 0.0), ((1, 5), 0.0), ((1, 2), 0.0), ((2, 1), 0.0), ((2, 6), 0.0), ((2, 3), 0.0), ((3, 2), 0.0), ((3, 7), 0.0), ((4, 0), 0.0), ((4, 8), 0.0), ((4, 5), 0.0), ((5, 1), 0.0), ((5, 4), 0.0), ((5, 9), 0.0), ((5, 6), 0.0), ((6, 2), 0.0), ((6, 5), 0.0), ((6, 10), 0.0), ((6, 7), 0.0), ((7, 3), 0.0), ((7, 6), 0.0), ((7, 11), 0.0), ((8, 4), 0.0), ((8, 12), 0.0), ((8, 9), 0.0), ((9, 5), 0.0), ((9, 8), 0.0), ((9, 13), 0.0), ((9, 10), 0.0), ((10, 6), 0.0), ((10, 9), 0.0), ((10, 14), 0.0), ((10, 11), 0.0), ((11, 7), 0.0), ((11, 10), 0.0), ((11, 15), 0.0), ((12, 8), 0.0), ((12, 13), 0.0), ((13, 9), 0.0), ((13, 12), 0.0), ((13, 14), 0.0), ((14, 10), 0.0), ((14, 13), 0.0), ((14, 15), 0.0), ((15, 11), 0.0), ((15, 14), 0.0)])}), (5, 4, {'id': 14, 'weight': dict_items([((0, 4), 0.0), ((0, 1), 0.0), ((1, 0), 0.0), ((1, 5), 0.0), ((1, 2), 0.0), ((2, 1), 0.0), ((2, 6), 0.0), ((2, 3), 0.0), ((3, 2), 0.0), ((3, 7), 0.0), ((4, 0), 0.0), ((4, 8), 0.0), ((4, 5), 0.0), ((5, 1), 0.0), ((5, 4), 0.0), ((5, 9), 0.0), ((5, 6), 0.0), ((6, 2), 0.0), ((6, 5), 0.0), ((6, 10), 0.0), ((6, 7), 0.0), ((7, 3), 0.0), ((7, 6), 0.0), ((7, 11), 0.0), ((8, 4), 0.0), ((8, 12), 0.0), ((8, 9), 0.0), ((9, 5), 0.0), ((9, 8), 0.0), ((9, 13), 0.0), ((9, 10), 0.0), ((10, 6), 0.0), ((10, 9), 0.0), ((10, 14), 0.0), ((10, 11), 0.0), ((11, 7), 0.0), ((11, 10), 0.0), ((11, 15), 0.0), ((12, 8), 0.0), ((12, 13), 0.0), ((13, 9), 0.0), ((13, 12), 0.0), ((13, 14), 0.0), ((14, 10), 0.0), ((14, 13), 0.0), ((14, 15), 0.0), ((15, 11), 0.0), ((15, 14), 0.0)])}), (5, 9, {'id': 15, 'weight': dict_items([((0, 4), 0.0), ((0, 1), 0.0), ((1, 0), 0.0), ((1, 5), 0.0), ((1, 2), 0.0), ((2, 1), 0.0), ((2, 6), 0.0), ((2, 3), 0.0), ((3, 2), 0.0), ((3, 7), 0.0), ((4, 0), 0.0), ((4, 8), 0.0), ((4, 5), 0.0), ((5, 1), 0.0), ((5, 4), 0.0), ((5, 9), 0.0), ((5, 6), 0.0), ((6, 2), 0.0), ((6, 5), 0.0), ((6, 10), 0.0), ((6, 7), 0.0), ((7, 3), 0.0), ((7, 6), 0.0), ((7, 11), 0.0), ((8, 4), 0.0), ((8, 12), 0.0), ((8, 9), 0.0), ((9, 5), 0.0), ((9, 8), 0.0), ((9, 13), 0.0), ((9, 10), 0.0), ((10, 6), 0.0), ((10, 9), 0.0), ((10, 14), 0.0), ((10, 11), 0.0), ((11, 7), 0.0), ((11, 10), 0.0), ((11, 15), 0.0), ((12, 8), 0.0), ((12, 13), 0.0), ((13, 9), 0.0), ((13, 12), 0.0), ((13, 14), 0.0), ((14, 10), 0.0), ((14, 13), 0.0), ((14, 15), 0.0), ((15, 11), 0.0), ((15, 14), 0.0)])}), (5, 6, {'id': 16, 'weight': dict_items([((0, 4), 0.0), ((0, 1), 0.0), ((1, 0), 0.0), ((1, 5), 0.0), ((1, 2), 0.0), ((2, 1), 0.0), ((2, 6), 0.0), ((2, 3), 0.0), ((3, 2), 0.0), ((3, 7), 0.0), ((4, 0), 0.0), ((4, 8), 0.0), ((4, 5), 0.0), ((5, 1), 0.0), ((5, 4), 0.0), ((5, 9), 0.0), ((5, 6), 0.0), ((6, 2), 0.0), ((6, 5), 0.0), ((6, 10), 0.0), ((6, 7), 0.0), ((7, 3), 0.0), ((7, 6), 0.0), ((7, 11), 0.0), ((8, 4), 0.0), ((8, 12), 0.0), ((8, 9), 0.0), ((9, 5), 0.0), ((9, 8), 0.0), ((9, 13), 0.0), ((9, 10), 0.0), ((10, 6), 0.0), ((10, 9), 0.0), ((10, 14), 0.0), ((10, 11), 0.0), ((11, 7), 0.0), ((11, 10), 0.0), ((11, 15), 0.0), ((12, 8), 0.0), ((12, 13), 0.0), ((13, 9), 0.0), ((13, 12), 0.0), ((13, 14), 0.0), ((14, 10), 0.0), ((14, 13), 0.0), ((14, 15), 0.0), ((15, 11), 0.0), ((15, 14), 0.0)])}), (6, 2, {'id': 17, 'weight': dict_items([((0, 4), 0.0), ((0, 1), 0.0), ((1, 0), 0.0), ((1, 5), 0.0), ((1, 2), 0.0), ((2, 1), 0.0), ((2, 6), 0.0), ((2, 3), 0.0), ((3, 2), 0.0), ((3, 7), 0.0), ((4, 0), 0.0), ((4, 8), 0.0), ((4, 5), 0.0), ((5, 1), 0.0), ((5, 4), 0.0), ((5, 9), 0.0), ((5, 6), 0.0), ((6, 2), 0.0), ((6, 5), 0.0), ((6, 10), 0.0), ((6, 7), 0.0), ((7, 3), 0.0), ((7, 6), 0.0), ((7, 11), 0.0), ((8, 4), 0.0), ((8, 12), 0.0), ((8, 9), 0.0), ((9, 5), 0.0), ((9, 8), 0.0), ((9, 13), 0.0), ((9, 10), 0.0), ((10, 6), 0.0), ((10, 9), 0.0), ((10, 14), 0.0), ((10, 11), 0.0), ((11, 7), 0.0), ((11, 10), 0.0), ((11, 15), 0.0), ((12, 8), 0.0), ((12, 13), 0.0), ((13, 9), 0.0), ((13, 12), 0.0), ((13, 14), 0.0), ((14, 10), 0.0), ((14, 13), 0.0), ((14, 15), 0.0), ((15, 11), 0.0), ((15, 14), 0.0)])}), (6, 5, {'id': 18, 'weight': dict_items([((0, 4), 0.0), ((0, 1), 0.0), ((1, 0), 0.0), ((1, 5), 0.0), ((1, 2), 0.0), ((2, 1), 0.0), ((2, 6), 0.0), ((2, 3), 0.0), ((3, 2), 0.0), ((3, 7), 0.0), ((4, 0), 0.0), ((4, 8), 0.0), ((4, 5), 0.0), ((5, 1), 0.0), ((5, 4), 0.0), ((5, 9), 0.0), ((5, 6), 0.0), ((6, 2), 0.0), ((6, 5), 0.0), ((6, 10), 0.0), ((6, 7), 0.0), ((7, 3), 0.0), ((7, 6), 0.0), ((7, 11), 0.0), ((8, 4), 0.0), ((8, 12), 0.0), ((8, 9), 0.0), ((9, 5), 0.0), ((9, 8), 0.0), ((9, 13), 0.0), ((9, 10), 0.0), ((10, 6), 0.0), ((10, 9), 0.0), ((10, 14), 0.0), ((10, 11), 0.0), ((11, 7), 0.0), ((11, 10), 0.0), ((11, 15), 0.0), ((12, 8), 0.0), ((12, 13), 0.0), ((13, 9), 0.0), ((13, 12), 0.0), ((13, 14), 0.0), ((14, 10), 0.0), ((14, 13), 0.0), ((14, 15), 0.0), ((15, 11), 0.0), ((15, 14), 0.0)])}), (6, 10, {'id': 19, 'weight': dict_items([((0, 4), 0.0), ((0, 1), 0.0), ((1, 0), 0.0), ((1, 5), 0.0), ((1, 2), 0.0), ((2, 1), 0.0), ((2, 6), 0.0), ((2, 3), 0.0), ((3, 2), 0.0), ((3, 7), 0.0), ((4, 0), 0.0), ((4, 8), 0.0), ((4, 5), 0.0), ((5, 1), 0.0), ((5, 4), 0.0), ((5, 9), 0.0), ((5, 6), 0.0), ((6, 2), 0.0), ((6, 5), 0.0), ((6, 10), 0.0), ((6, 7), 0.0), ((7, 3), 0.0), ((7, 6), 0.0), ((7, 11), 0.0), ((8, 4), 0.0), ((8, 12), 0.0), ((8, 9), 0.0), ((9, 5), 0.0), ((9, 8), 0.0), ((9, 13), 0.0), ((9, 10), 0.0), ((10, 6), 0.0), ((10, 9), 0.0), ((10, 14), 0.0), ((10, 11), 0.0), ((11, 7), 0.0), ((11, 10), 0.0), ((11, 15), 0.0), ((12, 8), 0.0), ((12, 13), 0.0), ((13, 9), 0.0), ((13, 12), 0.0), ((13, 14), 0.0), ((14, 10), 0.0), ((14, 13), 0.0), ((14, 15), 0.0), ((15, 11), 0.0), ((15, 14), 0.0)])}), (6, 7, {'id': 20, 'weight': dict_items([((0, 4), 0.0), ((0, 1), 0.0), ((1, 0), 0.0), ((1, 5), 0.0), ((1, 2), 0.0), ((2, 1), 0.0), ((2, 6), 0.0), ((2, 3), 0.0), ((3, 2), 0.0), ((3, 7), 0.0), ((4, 0), 0.0), ((4, 8), 0.0), ((4, 5), 0.0), ((5, 1), 0.0), ((5, 4), 0.0), ((5, 9), 0.0), ((5, 6), 0.0), ((6, 2), 0.0), ((6, 5), 0.0), ((6, 10), 0.0), ((6, 7), 0.0), ((7, 3), 0.0), ((7, 6), 0.0), ((7, 11), 0.0), ((8, 4), 0.0), ((8, 12), 0.0), ((8, 9), 0.0), ((9, 5), 0.0), ((9, 8), 0.0), ((9, 13), 0.0), ((9, 10), 0.0), ((10, 6), 0.0), ((10, 9), 0.0), ((10, 14), 0.0), ((10, 11), 0.0), ((11, 7), 0.0), ((11, 10), 0.0), ((11, 15), 0.0), ((12, 8), 0.0), ((12, 13), 0.0), ((13, 9), 0.0), ((13, 12), 0.0), ((13, 14), 0.0), ((14, 10), 0.0), ((14, 13), 0.0), ((14, 15), 0.0), ((15, 11), 0.0), ((15, 14), 0.0)])}), (7, 3, {'id': 21, 'weight': dict_items([((0, 4), 0.0), ((0, 1), 0.0), ((1, 0), 0.0), ((1, 5), 0.0), ((1, 2), 0.0), ((2, 1), 0.0), ((2, 6), 0.0), ((2, 3), 0.0), ((3, 2), 0.0), ((3, 7), 0.0), ((4, 0), 0.0), ((4, 8), 0.0), ((4, 5), 0.0), ((5, 1), 0.0), ((5, 4), 0.0), ((5, 9), 0.0), ((5, 6), 0.0), ((6, 2), 0.0), ((6, 5), 0.0), ((6, 10), 0.0), ((6, 7), 0.0), ((7, 3), 0.0), ((7, 6), 0.0), ((7, 11), 0.0), ((8, 4), 0.0), ((8, 12), 0.0), ((8, 9), 0.0), ((9, 5), 0.0), ((9, 8), 0.0), ((9, 13), 0.0), ((9, 10), 0.0), ((10, 6), 0.0), ((10, 9), 0.0), ((10, 14), 0.0), ((10, 11), 0.0), ((11, 7), 0.0), ((11, 10), 0.0), ((11, 15), 0.0), ((12, 8), 0.0), ((12, 13), 0.0), ((13, 9), 0.0), ((13, 12), 0.0), ((13, 14), 0.0), ((14, 10), 0.0), ((14, 13), 0.0), ((14, 15), 0.0), ((15, 11), 0.0), ((15, 14), 0.0)])}), (7, 6, {'id': 22, 'weight': dict_items([((0, 4), 0.0), ((0, 1), 0.0), ((1, 0), 0.0), ((1, 5), 0.0), ((1, 2), 0.0), ((2, 1), 0.0), ((2, 6), 0.0), ((2, 3), 0.0), ((3, 2), 0.0), ((3, 7), 0.0), ((4, 0), 0.0), ((4, 8), 0.0), ((4, 5), 0.0), ((5, 1), 0.0), ((5, 4), 0.0), ((5, 9), 0.0), ((5, 6), 0.0), ((6, 2), 0.0), ((6, 5), 0.0), ((6, 10), 0.0), ((6, 7), 0.0), ((7, 3), 0.0), ((7, 6), 0.0), ((7, 11), 0.0), ((8, 4), 0.0), ((8, 12), 0.0), ((8, 9), 0.0), ((9, 5), 0.0), ((9, 8), 0.0), ((9, 13), 0.0), ((9, 10), 0.0), ((10, 6), 0.0), ((10, 9), 0.0), ((10, 14), 0.0), ((10, 11), 0.0), ((11, 7), 0.0), ((11, 10), 0.0), ((11, 15), 0.0), ((12, 8), 0.0), ((12, 13), 0.0), ((13, 9), 0.0), ((13, 12), 0.0), ((13, 14), 0.0), ((14, 10), 0.0), ((14, 13), 0.0), ((14, 15), 0.0), ((15, 11), 0.0), ((15, 14), 0.0)])}), (7, 11, {'id': 23, 'weight': dict_items([((0, 4), 0.0), ((0, 1), 0.0), ((1, 0), 0.0), ((1, 5), 0.0), ((1, 2), 0.0), ((2, 1), 0.0), ((2, 6), 0.0), ((2, 3), 0.0), ((3, 2), 0.0), ((3, 7), 0.0), ((4, 0), 0.0), ((4, 8), 0.0), ((4, 5), 0.0), ((5, 1), 0.0), ((5, 4), 0.0), ((5, 9), 0.0), ((5, 6), 0.0), ((6, 2), 0.0), ((6, 5), 0.0), ((6, 10), 0.0), ((6, 7), 0.0), ((7, 3), 0.0), ((7, 6), 0.0), ((7, 11), 0.0), ((8, 4), 0.0), ((8, 12), 0.0), ((8, 9), 0.0), ((9, 5), 0.0), ((9, 8), 0.0), ((9, 13), 0.0), ((9, 10), 0.0), ((10, 6), 0.0), ((10, 9), 0.0), ((10, 14), 0.0), ((10, 11), 0.0), ((11, 7), 0.0), ((11, 10), 0.0), ((11, 15), 0.0), ((12, 8), 0.0), ((12, 13), 0.0), ((13, 9), 0.0), ((13, 12), 0.0), ((13, 14), 0.0), ((14, 10), 0.0), ((14, 13), 0.0), ((14, 15), 0.0), ((15, 11), 0.0), ((15, 14), 0.0)])}), (8, 4, {'id': 24, 'weight': dict_items([((0, 4), 0.0), ((0, 1), 0.0), ((1, 0), 0.0), ((1, 5), 0.0), ((1, 2), 0.0), ((2, 1), 0.0), ((2, 6), 0.0), ((2, 3), 0.0), ((3, 2), 0.0), ((3, 7), 0.0), ((4, 0), 0.0), ((4, 8), 0.0), ((4, 5), 0.0), ((5, 1), 0.0), ((5, 4), 0.0), ((5, 9), 0.0), ((5, 6), 0.0), ((6, 2), 0.0), ((6, 5), 0.0), ((6, 10), 0.0), ((6, 7), 0.0), ((7, 3), 0.0), ((7, 6), 0.0), ((7, 11), 0.0), ((8, 4), 0.0), ((8, 12), 0.0), ((8, 9), 0.0), ((9, 5), 0.0), ((9, 8), 0.0), ((9, 13), 0.0), ((9, 10), 0.0), ((10, 6), 0.0), ((10, 9), 0.0), ((10, 14), 0.0), ((10, 11), 0.0), ((11, 7), 0.0), ((11, 10), 0.0), ((11, 15), 0.0), ((12, 8), 0.0), ((12, 13), 0.0), ((13, 9), 0.0), ((13, 12), 0.0), ((13, 14), 0.0), ((14, 10), 0.0), ((14, 13), 0.0), ((14, 15), 0.0), ((15, 11), 0.0), ((15, 14), 0.0)])}), (8, 12, {'id': 25, 'weight': dict_items([((0, 4), 0.0), ((0, 1), 0.0), ((1, 0), 0.0), ((1, 5), 0.0), ((1, 2), 0.0), ((2, 1), 0.0), ((2, 6), 0.0), ((2, 3), 0.0), ((3, 2), 0.0), ((3, 7), 0.0), ((4, 0), 0.0), ((4, 8), 0.0), ((4, 5), 0.0), ((5, 1), 0.0), ((5, 4), 0.0), ((5, 9), 0.0), ((5, 6), 0.0), ((6, 2), 0.0), ((6, 5), 0.0), ((6, 10), 0.0), ((6, 7), 0.0), ((7, 3), 0.0), ((7, 6), 0.0), ((7, 11), 0.0), ((8, 4), 0.0), ((8, 12), 0.0), ((8, 9), 0.0), ((9, 5), 0.0), ((9, 8), 0.0), ((9, 13), 0.0), ((9, 10), 0.0), ((10, 6), 0.0), ((10, 9), 0.0), ((10, 14), 0.0), ((10, 11), 0.0), ((11, 7), 0.0), ((11, 10), 0.0), ((11, 15), 0.0), ((12, 8), 0.0), ((12, 13), 0.0), ((13, 9), 0.0), ((13, 12), 0.0), ((13, 14), 0.0), ((14, 10), 0.0), ((14, 13), 0.0), ((14, 15), 0.0), ((15, 11), 0.0), ((15, 14), 0.0)])}), (8, 9, {'id': 26, 'weight': dict_items([((0, 4), 0.0), ((0, 1), 0.0), ((1, 0), 0.0), ((1, 5), 0.0), ((1, 2), 0.0), ((2, 1), 0.0), ((2, 6), 0.0), ((2, 3), 0.0), ((3, 2), 0.0), ((3, 7), 0.0), ((4, 0), 0.0), ((4, 8), 0.0), ((4, 5), 0.0), ((5, 1), 0.0), ((5, 4), 0.0), ((5, 9), 0.0), ((5, 6), 0.0), ((6, 2), 0.0), ((6, 5), 0.0), ((6, 10), 0.0), ((6, 7), 0.0), ((7, 3), 0.0), ((7, 6), 0.0), ((7, 11), 0.0), ((8, 4), 0.0), ((8, 12), 0.0), ((8, 9), 0.0), ((9, 5), 0.0), ((9, 8), 0.0), ((9, 13), 0.0), ((9, 10), 0.0), ((10, 6), 0.0), ((10, 9), 0.0), ((10, 14), 0.0), ((10, 11), 0.0), ((11, 7), 0.0), ((11, 10), 0.0), ((11, 15), 0.0), ((12, 8), 0.0), ((12, 13), 0.0), ((13, 9), 0.0), ((13, 12), 0.0), ((13, 14), 0.0), ((14, 10), 0.0), ((14, 13), 0.0), ((14, 15), 0.0), ((15, 11), 0.0), ((15, 14), 0.0)])}), (9, 5, {'id': 27, 'weight': dict_items([((0, 4), 0.0), ((0, 1), 0.0), ((1, 0), 0.0), ((1, 5), 0.0), ((1, 2), 0.0), ((2, 1), 0.0), ((2, 6), 0.0), ((2, 3), 0.0), ((3, 2), 0.0), ((3, 7), 0.0), ((4, 0), 0.0), ((4, 8), 0.0), ((4, 5), 0.0), ((5, 1), 0.0), ((5, 4), 0.0), ((5, 9), 0.0), ((5, 6), 0.0), ((6, 2), 0.0), ((6, 5), 0.0), ((6, 10), 0.0), ((6, 7), 0.0), ((7, 3), 0.0), ((7, 6), 0.0), ((7, 11), 0.0), ((8, 4), 0.0), ((8, 12), 0.0), ((8, 9), 0.0), ((9, 5), 0.0), ((9, 8), 0.0), ((9, 13), 0.0), ((9, 10), 0.0), ((10, 6), 0.0), ((10, 9), 0.0), ((10, 14), 0.0), ((10, 11), 0.0), ((11, 7), 0.0), ((11, 10), 0.0), ((11, 15), 0.0), ((12, 8), 0.0), ((12, 13), 0.0), ((13, 9), 0.0), ((13, 12), 0.0), ((13, 14), 0.0), ((14, 10), 0.0), ((14, 13), 0.0), ((14, 15), 0.0), ((15, 11), 0.0), ((15, 14), 0.0)])}), (9, 8, {'id': 28, 'weight': dict_items([((0, 4), 0.0), ((0, 1), 0.0), ((1, 0), 0.0), ((1, 5), 0.0), ((1, 2), 0.0), ((2, 1), 0.0), ((2, 6), 0.0), ((2, 3), 0.0), ((3, 2), 0.0), ((3, 7), 0.0), ((4, 0), 0.0), ((4, 8), 0.0), ((4, 5), 0.0), ((5, 1), 0.0), ((5, 4), 0.0), ((5, 9), 0.0), ((5, 6), 0.0), ((6, 2), 0.0), ((6, 5), 0.0), ((6, 10), 0.0), ((6, 7), 0.0), ((7, 3), 0.0), ((7, 6), 0.0), ((7, 11), 0.0), ((8, 4), 0.0), ((8, 12), 0.0), ((8, 9), 0.0), ((9, 5), 0.0), ((9, 8), 0.0), ((9, 13), 0.0), ((9, 10), 0.0), ((10, 6), 0.0), ((10, 9), 0.0), ((10, 14), 0.0), ((10, 11), 0.0), ((11, 7), 0.0), ((11, 10), 0.0), ((11, 15), 0.0), ((12, 8), 0.0), ((12, 13), 0.0), ((13, 9), 0.0), ((13, 12), 0.0), ((13, 14), 0.0), ((14, 10), 0.0), ((14, 13), 0.0), ((14, 15), 0.0), ((15, 11), 0.0), ((15, 14), 0.0)])}), (9, 13, {'id': 29, 'weight': dict_items([((0, 4), 0.0), ((0, 1), 0.0), ((1, 0), 0.0), ((1, 5), 0.0), ((1, 2), 0.0), ((2, 1), 0.0), ((2, 6), 0.0), ((2, 3), 0.0), ((3, 2), 0.0), ((3, 7), 0.0), ((4, 0), 0.0), ((4, 8), 0.0), ((4, 5), 0.0), ((5, 1), 0.0), ((5, 4), 0.0), ((5, 9), 0.0), ((5, 6), 0.0), ((6, 2), 0.0), ((6, 5), 0.0), ((6, 10), 0.0), ((6, 7), 0.0), ((7, 3), 0.0), ((7, 6), 0.0), ((7, 11), 0.0), ((8, 4), 0.0), ((8, 12), 0.0), ((8, 9), 0.0), ((9, 5), 0.0), ((9, 8), 0.0), ((9, 13), 0.0), ((9, 10), 0.0), ((10, 6), 0.0), ((10, 9), 0.0), ((10, 14), 0.0), ((10, 11), 0.0), ((11, 7), 0.0), ((11, 10), 0.0), ((11, 15), 0.0), ((12, 8), 0.0), ((12, 13), 0.0), ((13, 9), 0.0), ((13, 12), 0.0), ((13, 14), 0.0), ((14, 10), 0.0), ((14, 13), 0.0), ((14, 15), 0.0), ((15, 11), 0.0), ((15, 14), 0.0)])}), (9, 10, {'id': 30, 'weight': dict_items([((0, 4), 0.0), ((0, 1), 0.0), ((1, 0), 0.0), ((1, 5), 0.0), ((1, 2), 0.0), ((2, 1), 0.0), ((2, 6), 0.0), ((2, 3), 0.0), ((3, 2), 0.0), ((3, 7), 0.0), ((4, 0), 0.0), ((4, 8), 0.0), ((4, 5), 0.0), ((5, 1), 0.0), ((5, 4), 0.0), ((5, 9), 0.0), ((5, 6), 0.0), ((6, 2), 0.0), ((6, 5), 0.0), ((6, 10), 0.0), ((6, 7), 0.0), ((7, 3), 0.0), ((7, 6), 0.0), ((7, 11), 0.0), ((8, 4), 0.0), ((8, 12), 0.0), ((8, 9), 0.0), ((9, 5), 0.0), ((9, 8), 0.0), ((9, 13), 0.0), ((9, 10), 0.0), ((10, 6), 0.0), ((10, 9), 0.0), ((10, 14), 0.0), ((10, 11), 0.0), ((11, 7), 0.0), ((11, 10), 0.0), ((11, 15), 0.0), ((12, 8), 0.0), ((12, 13), 0.0), ((13, 9), 0.0), ((13, 12), 0.0), ((13, 14), 0.0), ((14, 10), 0.0), ((14, 13), 0.0), ((14, 15), 0.0), ((15, 11), 0.0), ((15, 14), 0.0)])}), (10, 6, {'id': 31, 'weight': dict_items([((0, 4), 0.0), ((0, 1), 0.0), ((1, 0), 0.0), ((1, 5), 0.0), ((1, 2), 0.0), ((2, 1), 0.0), ((2, 6), 0.0), ((2, 3), 0.0), ((3, 2), 0.0), ((3, 7), 0.0), ((4, 0), 0.0), ((4, 8), 0.0), ((4, 5), 0.0), ((5, 1), 0.0), ((5, 4), 0.0), ((5, 9), 0.0), ((5, 6), 0.0), ((6, 2), 0.0), ((6, 5), 0.0), ((6, 10), 0.0), ((6, 7), 0.0), ((7, 3), 0.0), ((7, 6), 0.0), ((7, 11), 0.0), ((8, 4), 0.0), ((8, 12), 0.0), ((8, 9), 0.0), ((9, 5), 0.0), ((9, 8), 0.0), ((9, 13), 0.0), ((9, 10), 0.0), ((10, 6), 0.0), ((10, 9), 0.0), ((10, 14), 0.0), ((10, 11), 0.0), ((11, 7), 0.0), ((11, 10), 0.0), ((11, 15), 0.0), ((12, 8), 0.0), ((12, 13), 0.0), ((13, 9), 0.0), ((13, 12), 0.0), ((13, 14), 0.0), ((14, 10), 0.0), ((14, 13), 0.0), ((14, 15), 0.0), ((15, 11), 0.0), ((15, 14), 0.0)])}), (10, 9, {'id': 32, 'weight': dict_items([((0, 4), 0.0), ((0, 1), 0.0), ((1, 0), 0.0), ((1, 5), 0.0), ((1, 2), 0.0), ((2, 1), 0.0), ((2, 6), 0.0), ((2, 3), 0.0), ((3, 2), 0.0), ((3, 7), 0.0), ((4, 0), 0.0), ((4, 8), 0.0), ((4, 5), 0.0), ((5, 1), 0.0), ((5, 4), 0.0), ((5, 9), 0.0), ((5, 6), 0.0), ((6, 2), 0.0), ((6, 5), 0.0), ((6, 10), 0.0), ((6, 7), 0.0), ((7, 3), 0.0), ((7, 6), 0.0), ((7, 11), 0.0), ((8, 4), 0.0), ((8, 12), 0.0), ((8, 9), 0.0), ((9, 5), 0.0), ((9, 8), 0.0), ((9, 13), 0.0), ((9, 10), 0.0), ((10, 6), 0.0), ((10, 9), 0.0), ((10, 14), 0.0), ((10, 11), 0.0), ((11, 7), 0.0), ((11, 10), 0.0), ((11, 15), 0.0), ((12, 8), 0.0), ((12, 13), 0.0), ((13, 9), 0.0), ((13, 12), 0.0), ((13, 14), 0.0), ((14, 10), 0.0), ((14, 13), 0.0), ((14, 15), 0.0), ((15, 11), 0.0), ((15, 14), 0.0)])}), (10, 14, {'id': 33, 'weight': dict_items([((0, 4), 0.0), ((0, 1), 0.0), ((1, 0), 0.0), ((1, 5), 0.0), ((1, 2), 0.0), ((2, 1), 0.0), ((2, 6), 0.0), ((2, 3), 0.0), ((3, 2), 0.0), ((3, 7), 0.0), ((4, 0), 0.0), ((4, 8), 0.0), ((4, 5), 0.0), ((5, 1), 0.0), ((5, 4), 0.0), ((5, 9), 0.0), ((5, 6), 0.0), ((6, 2), 0.0), ((6, 5), 0.0), ((6, 10), 0.0), ((6, 7), 0.0), ((7, 3), 0.0), ((7, 6), 0.0), ((7, 11), 0.0), ((8, 4), 0.0), ((8, 12), 0.0), ((8, 9), 0.0), ((9, 5), 0.0), ((9, 8), 0.0), ((9, 13), 0.0), ((9, 10), 0.0), ((10, 6), 0.0), ((10, 9), 0.0), ((10, 14), 0.0), ((10, 11), 0.0), ((11, 7), 0.0), ((11, 10), 0.0), ((11, 15), 0.0), ((12, 8), 0.0), ((12, 13), 0.0), ((13, 9), 0.0), ((13, 12), 0.0), ((13, 14), 0.0), ((14, 10), 0.0), ((14, 13), 0.0), ((14, 15), 0.0), ((15, 11), 0.0), ((15, 14), 0.0)])}), (10, 11, {'id': 34, 'weight': dict_items([((0, 4), 0.0), ((0, 1), 0.0), ((1, 0), 0.0), ((1, 5), 0.0), ((1, 2), 0.0), ((2, 1), 0.0), ((2, 6), 0.0), ((2, 3), 0.0), ((3, 2), 0.0), ((3, 7), 0.0), ((4, 0), 0.0), ((4, 8), 0.0), ((4, 5), 0.0), ((5, 1), 0.0), ((5, 4), 0.0), ((5, 9), 0.0), ((5, 6), 0.0), ((6, 2), 0.0), ((6, 5), 0.0), ((6, 10), 0.0), ((6, 7), 0.0), ((7, 3), 0.0), ((7, 6), 0.0), ((7, 11), 0.0), ((8, 4), 0.0), ((8, 12), 0.0), ((8, 9), 0.0), ((9, 5), 0.0), ((9, 8), 0.0), ((9, 13), 0.0), ((9, 10), 0.0), ((10, 6), 0.0), ((10, 9), 0.0), ((10, 14), 0.0), ((10, 11), 0.0), ((11, 7), 0.0), ((11, 10), 0.0), ((11, 15), 0.0), ((12, 8), 0.0), ((12, 13), 0.0), ((13, 9), 0.0), ((13, 12), 0.0), ((13, 14), 0.0), ((14, 10), 0.0), ((14, 13), 0.0), ((14, 15), 0.0), ((15, 11), 0.0), ((15, 14), 0.0)])}), (11, 7, {'id': 35, 'weight': dict_items([((0, 4), 0.0), ((0, 1), 0.0), ((1, 0), 0.0), ((1, 5), 0.0), ((1, 2), 0.0), ((2, 1), 0.0), ((2, 6), 0.0), ((2, 3), 0.0), ((3, 2), 0.0), ((3, 7), 0.0), ((4, 0), 0.0), ((4, 8), 0.0), ((4, 5), 0.0), ((5, 1), 0.0), ((5, 4), 0.0), ((5, 9), 0.0), ((5, 6), 0.0), ((6, 2), 0.0), ((6, 5), 0.0), ((6, 10), 0.0), ((6, 7), 0.0), ((7, 3), 0.0), ((7, 6), 0.0), ((7, 11), 0.0), ((8, 4), 0.0), ((8, 12), 0.0), ((8, 9), 0.0), ((9, 5), 0.0), ((9, 8), 0.0), ((9, 13), 0.0), ((9, 10), 0.0), ((10, 6), 0.0), ((10, 9), 0.0), ((10, 14), 0.0), ((10, 11), 0.0), ((11, 7), 0.0), ((11, 10), 0.0), ((11, 15), 0.0), ((12, 8), 0.0), ((12, 13), 0.0), ((13, 9), 0.0), ((13, 12), 0.0), ((13, 14), 0.0), ((14, 10), 0.0), ((14, 13), 0.0), ((14, 15), 0.0), ((15, 11), 0.0), ((15, 14), 0.0)])}), (11, 10, {'id': 36, 'weight': dict_items([((0, 4), 0.0), ((0, 1), 0.0), ((1, 0), 0.0), ((1, 5), 0.0), ((1, 2), 0.0), ((2, 1), 0.0), ((2, 6), 0.0), ((2, 3), 0.0), ((3, 2), 0.0), ((3, 7), 0.0), ((4, 0), 0.0), ((4, 8), 0.0), ((4, 5), 0.0), ((5, 1), 0.0), ((5, 4), 0.0), ((5, 9), 0.0), ((5, 6), 0.0), ((6, 2), 0.0), ((6, 5), 0.0), ((6, 10), 0.0), ((6, 7), 0.0), ((7, 3), 0.0), ((7, 6), 0.0), ((7, 11), 0.0), ((8, 4), 0.0), ((8, 12), 0.0), ((8, 9), 0.0), ((9, 5), 0.0), ((9, 8), 0.0), ((9, 13), 0.0), ((9, 10), 0.0), ((10, 6), 0.0), ((10, 9), 0.0), ((10, 14), 0.0), ((10, 11), 0.0), ((11, 7), 0.0), ((11, 10), 0.0), ((11, 15), 0.0), ((12, 8), 0.0), ((12, 13), 0.0), ((13, 9), 0.0), ((13, 12), 0.0), ((13, 14), 0.0), ((14, 10), 0.0), ((14, 13), 0.0), ((14, 15), 0.0), ((15, 11), 0.0), ((15, 14), 0.0)])}), (11, 15, {'id': 37, 'weight': dict_items([((0, 4), 0.0), ((0, 1), 0.0), ((1, 0), 0.0), ((1, 5), 0.0), ((1, 2), 0.0), ((2, 1), 0.0), ((2, 6), 0.0), ((2, 3), 0.0), ((3, 2), 0.0), ((3, 7), 0.0), ((4, 0), 0.0), ((4, 8), 0.0), ((4, 5), 0.0), ((5, 1), 0.0), ((5, 4), 0.0), ((5, 9), 0.0), ((5, 6), 0.0), ((6, 2), 0.0), ((6, 5), 0.0), ((6, 10), 0.0), ((6, 7), 0.0), ((7, 3), 0.0), ((7, 6), 0.0), ((7, 11), 0.0), ((8, 4), 0.0), ((8, 12), 0.0), ((8, 9), 0.0), ((9, 5), 0.0), ((9, 8), 0.0), ((9, 13), 0.0), ((9, 10), 0.0), ((10, 6), 0.0), ((10, 9), 0.0), ((10, 14), 0.0), ((10, 11), 0.0), ((11, 7), 0.0), ((11, 10), 0.0), ((11, 15), 0.0), ((12, 8), 0.0), ((12, 13), 0.0), ((13, 9), 0.0), ((13, 12), 0.0), ((13, 14), 0.0), ((14, 10), 0.0), ((14, 13), 0.0), ((14, 15), 0.0), ((15, 11), 0.0), ((15, 14), 0.0)])}), (12, 8, {'id': 38, 'weight': dict_items([((0, 4), 0.0), ((0, 1), 0.0), ((1, 0), 0.0), ((1, 5), 0.0), ((1, 2), 0.0), ((2, 1), 0.0), ((2, 6), 0.0), ((2, 3), 0.0), ((3, 2), 0.0), ((3, 7), 0.0), ((4, 0), 0.0), ((4, 8), 0.0), ((4, 5), 0.0), ((5, 1), 0.0), ((5, 4), 0.0), ((5, 9), 0.0), ((5, 6), 0.0), ((6, 2), 0.0), ((6, 5), 0.0), ((6, 10), 0.0), ((6, 7), 0.0), ((7, 3), 0.0), ((7, 6), 0.0), ((7, 11), 0.0), ((8, 4), 0.0), ((8, 12), 0.0), ((8, 9), 0.0), ((9, 5), 0.0), ((9, 8), 0.0), ((9, 13), 0.0), ((9, 10), 0.0), ((10, 6), 0.0), ((10, 9), 0.0), ((10, 14), 0.0), ((10, 11), 0.0), ((11, 7), 0.0), ((11, 10), 0.0), ((11, 15), 0.0), ((12, 8), 0.0), ((12, 13), 0.0), ((13, 9), 0.0), ((13, 12), 0.0), ((13, 14), 0.0), ((14, 10), 0.0), ((14, 13), 0.0), ((14, 15), 0.0), ((15, 11), 0.0), ((15, 14), 0.0)])}), (12, 13, {'id': 39, 'weight': dict_items([((0, 4), 0.0), ((0, 1), 0.0), ((1, 0), 0.0), ((1, 5), 0.0), ((1, 2), 0.0), ((2, 1), 0.0), ((2, 6), 0.0), ((2, 3), 0.0), ((3, 2), 0.0), ((3, 7), 0.0), ((4, 0), 0.0), ((4, 8), 0.0), ((4, 5), 0.0), ((5, 1), 0.0), ((5, 4), 0.0), ((5, 9), 0.0), ((5, 6), 0.0), ((6, 2), 0.0), ((6, 5), 0.0), ((6, 10), 0.0), ((6, 7), 0.0), ((7, 3), 0.0), ((7, 6), 0.0), ((7, 11), 0.0), ((8, 4), 0.0), ((8, 12), 0.0), ((8, 9), 0.0), ((9, 5), 0.0), ((9, 8), 0.0), ((9, 13), 0.0), ((9, 10), 0.0), ((10, 6), 0.0), ((10, 9), 0.0), ((10, 14), 0.0), ((10, 11), 0.0), ((11, 7), 0.0), ((11, 10), 0.0), ((11, 15), 0.0), ((12, 8), 0.0), ((12, 13), 0.0), ((13, 9), 0.0), ((13, 12), 0.0), ((13, 14), 0.0), ((14, 10), 0.0), ((14, 13), 0.0), ((14, 15), 0.0), ((15, 11), 0.0), ((15, 14), 0.0)])}), (13, 9, {'id': 40, 'weight': dict_items([((0, 4), 0.0), ((0, 1), 0.0), ((1, 0), 0.0), ((1, 5), 0.0), ((1, 2), 0.0), ((2, 1), 0.0), ((2, 6), 0.0), ((2, 3), 0.0), ((3, 2), 0.0), ((3, 7), 0.0), ((4, 0), 0.0), ((4, 8), 0.0), ((4, 5), 0.0), ((5, 1), 0.0), ((5, 4), 0.0), ((5, 9), 0.0), ((5, 6), 0.0), ((6, 2), 0.0), ((6, 5), 0.0), ((6, 10), 0.0), ((6, 7), 0.0), ((7, 3), 0.0), ((7, 6), 0.0), ((7, 11), 0.0), ((8, 4), 0.0), ((8, 12), 0.0), ((8, 9), 0.0), ((9, 5), 0.0), ((9, 8), 0.0), ((9, 13), 0.0), ((9, 10), 0.0), ((10, 6), 0.0), ((10, 9), 0.0), ((10, 14), 0.0), ((10, 11), 0.0), ((11, 7), 0.0), ((11, 10), 0.0), ((11, 15), 0.0), ((12, 8), 0.0), ((12, 13), 0.0), ((13, 9), 0.0), ((13, 12), 0.0), ((13, 14), 0.0), ((14, 10), 0.0), ((14, 13), 0.0), ((14, 15), 0.0), ((15, 11), 0.0), ((15, 14), 0.0)])}), (13, 12, {'id': 41, 'weight': dict_items([((0, 4), 0.0), ((0, 1), 0.0), ((1, 0), 0.0), ((1, 5), 0.0), ((1, 2), 0.0), ((2, 1), 0.0), ((2, 6), 0.0), ((2, 3), 0.0), ((3, 2), 0.0), ((3, 7), 0.0), ((4, 0), 0.0), ((4, 8), 0.0), ((4, 5), 0.0), ((5, 1), 0.0), ((5, 4), 0.0), ((5, 9), 0.0), ((5, 6), 0.0), ((6, 2), 0.0), ((6, 5), 0.0), ((6, 10), 0.0), ((6, 7), 0.0), ((7, 3), 0.0), ((7, 6), 0.0), ((7, 11), 0.0), ((8, 4), 0.0), ((8, 12), 0.0), ((8, 9), 0.0), ((9, 5), 0.0), ((9, 8), 0.0), ((9, 13), 0.0), ((9, 10), 0.0), ((10, 6), 0.0), ((10, 9), 0.0), ((10, 14), 0.0), ((10, 11), 0.0), ((11, 7), 0.0), ((11, 10), 0.0), ((11, 15), 0.0), ((12, 8), 0.0), ((12, 13), 0.0), ((13, 9), 0.0), ((13, 12), 0.0), ((13, 14), 0.0), ((14, 10), 0.0), ((14, 13), 0.0), ((14, 15), 0.0), ((15, 11), 0.0), ((15, 14), 0.0)])}), (13, 14, {'id': 42, 'weight': dict_items([((0, 4), 0.0), ((0, 1), 0.0), ((1, 0), 0.0), ((1, 5), 0.0), ((1, 2), 0.0), ((2, 1), 0.0), ((2, 6), 0.0), ((2, 3), 0.0), ((3, 2), 0.0), ((3, 7), 0.0), ((4, 0), 0.0), ((4, 8), 0.0), ((4, 5), 0.0), ((5, 1), 0.0), ((5, 4), 0.0), ((5, 9), 0.0), ((5, 6), 0.0), ((6, 2), 0.0), ((6, 5), 0.0), ((6, 10), 0.0), ((6, 7), 0.0), ((7, 3), 0.0), ((7, 6), 0.0), ((7, 11), 0.0), ((8, 4), 0.0), ((8, 12), 0.0), ((8, 9), 0.0), ((9, 5), 0.0), ((9, 8), 0.0), ((9, 13), 0.0), ((9, 10), 0.0), ((10, 6), 0.0), ((10, 9), 0.0), ((10, 14), 0.0), ((10, 11), 0.0), ((11, 7), 0.0), ((11, 10), 0.0), ((11, 15), 0.0), ((12, 8), 0.0), ((12, 13), 0.0), ((13, 9), 0.0), ((13, 12), 0.0), ((13, 14), 0.0), ((14, 10), 0.0), ((14, 13), 0.0), ((14, 15), 0.0), ((15, 11), 0.0), ((15, 14), 0.0)])}), (14, 10, {'id': 43, 'weight': dict_items([((0, 4), 0.0), ((0, 1), 0.0), ((1, 0), 0.0), ((1, 5), 0.0), ((1, 2), 0.0), ((2, 1), 0.0), ((2, 6), 0.0), ((2, 3), 0.0), ((3, 2), 0.0), ((3, 7), 0.0), ((4, 0), 0.0), ((4, 8), 0.0), ((4, 5), 0.0), ((5, 1), 0.0), ((5, 4), 0.0), ((5, 9), 0.0), ((5, 6), 0.0), ((6, 2), 0.0), ((6, 5), 0.0), ((6, 10), 0.0), ((6, 7), 0.0), ((7, 3), 0.0), ((7, 6), 0.0), ((7, 11), 0.0), ((8, 4), 0.0), ((8, 12), 0.0), ((8, 9), 0.0), ((9, 5), 0.0), ((9, 8), 0.0), ((9, 13), 0.0), ((9, 10), 0.0), ((10, 6), 0.0), ((10, 9), 0.0), ((10, 14), 0.0), ((10, 11), 0.0), ((11, 7), 0.0), ((11, 10), 0.0), ((11, 15), 0.0), ((12, 8), 0.0), ((12, 13), 0.0), ((13, 9), 0.0), ((13, 12), 0.0), ((13, 14), 0.0), ((14, 10), 0.0), ((14, 13), 0.0), ((14, 15), 0.0), ((15, 11), 0.0), ((15, 14), 0.0)])}), (14, 13, {'id': 44, 'weight': dict_items([((0, 4), 0.0), ((0, 1), 0.0), ((1, 0), 0.0), ((1, 5), 0.0), ((1, 2), 0.0), ((2, 1), 0.0), ((2, 6), 0.0), ((2, 3), 0.0), ((3, 2), 0.0), ((3, 7), 0.0), ((4, 0), 0.0), ((4, 8), 0.0), ((4, 5), 0.0), ((5, 1), 0.0), ((5, 4), 0.0), ((5, 9), 0.0), ((5, 6), 0.0), ((6, 2), 0.0), ((6, 5), 0.0), ((6, 10), 0.0), ((6, 7), 0.0), ((7, 3), 0.0), ((7, 6), 0.0), ((7, 11), 0.0), ((8, 4), 0.0), ((8, 12), 0.0), ((8, 9), 0.0), ((9, 5), 0.0), ((9, 8), 0.0), ((9, 13), 0.0), ((9, 10), 0.0), ((10, 6), 0.0), ((10, 9), 0.0), ((10, 14), 0.0), ((10, 11), 0.0), ((11, 7), 0.0), ((11, 10), 0.0), ((11, 15), 0.0), ((12, 8), 0.0), ((12, 13), 0.0), ((13, 9), 0.0), ((13, 12), 0.0), ((13, 14), 0.0), ((14, 10), 0.0), ((14, 13), 0.0), ((14, 15), 0.0), ((15, 11), 0.0), ((15, 14), 0.0)])}), (14, 15, {'id': 45, 'weight': dict_items([((0, 4), 0.0), ((0, 1), 0.0), ((1, 0), 0.0), ((1, 5), 0.0), ((1, 2), 0.0), ((2, 1), 0.0), ((2, 6), 0.0), ((2, 3), 0.0), ((3, 2), 0.0), ((3, 7), 0.0), ((4, 0), 0.0), ((4, 8), 0.0), ((4, 5), 0.0), ((5, 1), 0.0), ((5, 4), 0.0), ((5, 9), 0.0), ((5, 6), 0.0), ((6, 2), 0.0), ((6, 5), 0.0), ((6, 10), 0.0), ((6, 7), 0.0), ((7, 3), 0.0), ((7, 6), 0.0), ((7, 11), 0.0), ((8, 4), 0.0), ((8, 12), 0.0), ((8, 9), 0.0), ((9, 5), 0.0), ((9, 8), 0.0), ((9, 13), 0.0), ((9, 10), 0.0), ((10, 6), 0.0), ((10, 9), 0.0), ((10, 14), 0.0), ((10, 11), 0.0), ((11, 7), 0.0), ((11, 10), 0.0), ((11, 15), 0.0), ((12, 8), 0.0), ((12, 13), 0.0), ((13, 9), 0.0), ((13, 12), 0.0), ((13, 14), 0.0), ((14, 10), 0.0), ((14, 13), 0.0), ((14, 15), 0.0), ((15, 11), 0.0), ((15, 14), 0.0)])}), (15, 11, {'id': 46, 'weight': dict_items([((0, 4), 0.0), ((0, 1), 0.0), ((1, 0), 0.0), ((1, 5), 0.0), ((1, 2), 0.0), ((2, 1), 0.0), ((2, 6), 0.0), ((2, 3), 0.0), ((3, 2), 0.0), ((3, 7), 0.0), ((4, 0), 0.0), ((4, 8), 0.0), ((4, 5), 0.0), ((5, 1), 0.0), ((5, 4), 0.0), ((5, 9), 0.0), ((5, 6), 0.0), ((6, 2), 0.0), ((6, 5), 0.0), ((6, 10), 0.0), ((6, 7), 0.0), ((7, 3), 0.0), ((7, 6), 0.0), ((7, 11), 0.0), ((8, 4), 0.0), ((8, 12), 0.0), ((8, 9), 0.0), ((9, 5), 0.0), ((9, 8), 0.0), ((9, 13), 0.0), ((9, 10), 0.0), ((10, 6), 0.0), ((10, 9), 0.0), ((10, 14), 0.0), ((10, 11), 0.0), ((11, 7), 0.0), ((11, 10), 0.0), ((11, 15), 0.0), ((12, 8), 0.0), ((12, 13), 0.0), ((13, 9), 0.0), ((13, 12), 0.0), ((13, 14), 0.0), ((14, 10), 0.0), ((14, 13), 0.0), ((14, 15), 0.0), ((15, 11), 0.0), ((15, 14), 0.0)])}), (15, 14, {'id': 47, 'weight': dict_items([((0, 4), 0.0), ((0, 1), 0.0), ((1, 0), 0.0), ((1, 5), 0.0), ((1, 2), 0.0), ((2, 1), 0.0), ((2, 6), 0.0), ((2, 3), 0.0), ((3, 2), 0.0), ((3, 7), 0.0), ((4, 0), 0.0), ((4, 8), 0.0), ((4, 5), 0.0), ((5, 1), 0.0), ((5, 4), 0.0), ((5, 9), 0.0), ((5, 6), 0.0), ((6, 2), 0.0), ((6, 5), 0.0), ((6, 10), 0.0), ((6, 7), 0.0), ((7, 3), 0.0), ((7, 6), 0.0), ((7, 11), 0.0), ((8, 4), 0.0), ((8, 12), 0.0), ((8, 9), 0.0), ((9, 5), 0.0), ((9, 8), 0.0), ((9, 13), 0.0), ((9, 10), 0.0), ((10, 6), 0.0), ((10, 9), 0.0), ((10, 14), 0.0), ((10, 11), 0.0), ((11, 7), 0.0), ((11, 10), 0.0), ((11, 15), 0.0), ((12, 8), 0.0), ((12, 13), 0.0), ((13, 9), 0.0), ((13, 12), 0.0), ((13, 14), 0.0), ((14, 10), 0.0), ((14, 13), 0.0), ((14, 15), 0.0), ((15, 11), 0.0), ((15, 14), 0.0)])})])"
      ]
     },
     "execution_count": 146,
     "metadata": {},
     "output_type": "execute_result"
    }
   ],
   "source": [
    "gg = nx.Graph()"
   ]
  },
  {
   "cell_type": "code",
   "execution_count": 141,
   "metadata": {},
   "outputs": [
    {
     "ename": "ValueError",
     "evalue": "not enough values to unpack (expected 3, got 2)",
     "output_type": "error",
     "traceback": [
      "\u001b[1;31m---------------------------------------------------------------------------\u001b[0m",
      "\u001b[1;31mValueError\u001b[0m                                Traceback (most recent call last)",
      "Cell \u001b[1;32mIn[141], line 1\u001b[0m\n\u001b[1;32m----> 1\u001b[0m nx\u001b[39m.\u001b[39mset_edge_attributes(nx_graph, \u001b[39mdict\u001b[39m(\u001b[39mzip\u001b[39m(edges, data\u001b[39m.\u001b[39mtolist())), \u001b[39m'\u001b[39m\u001b[39mweight\u001b[39m\u001b[39m'\u001b[39m)\n",
      "File \u001b[1;32mc:\\Users\\zhy\\miniconda3\\Lib\\site-packages\\networkx\\classes\\function.py:786\u001b[0m, in \u001b[0;36mset_edge_attributes\u001b[1;34m(G, values, name)\u001b[0m\n\u001b[0;32m    783\u001b[0m \u001b[39mtry\u001b[39;00m:\n\u001b[0;32m    784\u001b[0m     \u001b[39m# if `values` is a dict using `.items()` => {edge: value}\u001b[39;00m\n\u001b[0;32m    785\u001b[0m     \u001b[39mif\u001b[39;00m G\u001b[39m.\u001b[39mis_multigraph():\n\u001b[1;32m--> 786\u001b[0m         \u001b[39mfor\u001b[39;00m (u, v, key), value \u001b[39min\u001b[39;00m values\u001b[39m.\u001b[39mitems():\n\u001b[0;32m    787\u001b[0m             \u001b[39mtry\u001b[39;00m:\n\u001b[0;32m    788\u001b[0m                 G[u][v][key][name] \u001b[39m=\u001b[39m value\n",
      "\u001b[1;31mValueError\u001b[0m: not enough values to unpack (expected 3, got 2)"
     ]
    }
   ],
   "source": [
    "nx.set_edge_attributes(nx_graph, dict(zip(edges, data.tolist())), 'weight')"
   ]
  },
  {
   "cell_type": "code",
   "execution_count": 143,
   "metadata": {},
   "outputs": [
    {
     "data": {
      "text/plain": [
       "{(0,\n",
       "  4,\n",
       "  0): dict_items([((0, 4), 0.0), ((0, 1), 0.0), ((1, 0), 0.0), ((1, 5), 0.0), ((1, 2), 0.0), ((2, 1), 0.0), ((2, 6), 0.0), ((2, 3), 0.0), ((3, 2), 0.0), ((3, 7), 0.0), ((4, 0), 0.0), ((4, 8), 0.0), ((4, 5), 0.0), ((5, 1), 0.0), ((5, 4), 0.0), ((5, 9), 0.0), ((5, 6), 0.0), ((6, 2), 0.0), ((6, 5), 0.0), ((6, 10), 0.0), ((6, 7), 0.0), ((7, 3), 0.0), ((7, 6), 0.0), ((7, 11), 0.0), ((8, 4), 0.0), ((8, 12), 0.0), ((8, 9), 0.0), ((9, 5), 0.0), ((9, 8), 0.0), ((9, 13), 0.0), ((9, 10), 0.0), ((10, 6), 0.0), ((10, 9), 0.0), ((10, 14), 0.0), ((10, 11), 0.0), ((11, 7), 0.0), ((11, 10), 0.0), ((11, 15), 0.0), ((12, 8), 0.0), ((12, 13), 0.0), ((13, 9), 0.0), ((13, 12), 0.0), ((13, 14), 0.0), ((14, 10), 0.0), ((14, 13), 0.0), ((14, 15), 0.0), ((15, 11), 0.0), ((15, 14), 0.0)]),\n",
       " (0,\n",
       "  1,\n",
       "  0): dict_items([((0, 4), 0.0), ((0, 1), 0.0), ((1, 0), 0.0), ((1, 5), 0.0), ((1, 2), 0.0), ((2, 1), 0.0), ((2, 6), 0.0), ((2, 3), 0.0), ((3, 2), 0.0), ((3, 7), 0.0), ((4, 0), 0.0), ((4, 8), 0.0), ((4, 5), 0.0), ((5, 1), 0.0), ((5, 4), 0.0), ((5, 9), 0.0), ((5, 6), 0.0), ((6, 2), 0.0), ((6, 5), 0.0), ((6, 10), 0.0), ((6, 7), 0.0), ((7, 3), 0.0), ((7, 6), 0.0), ((7, 11), 0.0), ((8, 4), 0.0), ((8, 12), 0.0), ((8, 9), 0.0), ((9, 5), 0.0), ((9, 8), 0.0), ((9, 13), 0.0), ((9, 10), 0.0), ((10, 6), 0.0), ((10, 9), 0.0), ((10, 14), 0.0), ((10, 11), 0.0), ((11, 7), 0.0), ((11, 10), 0.0), ((11, 15), 0.0), ((12, 8), 0.0), ((12, 13), 0.0), ((13, 9), 0.0), ((13, 12), 0.0), ((13, 14), 0.0), ((14, 10), 0.0), ((14, 13), 0.0), ((14, 15), 0.0), ((15, 11), 0.0), ((15, 14), 0.0)]),\n",
       " (1,\n",
       "  0,\n",
       "  0): dict_items([((0, 4), 0.0), ((0, 1), 0.0), ((1, 0), 0.0), ((1, 5), 0.0), ((1, 2), 0.0), ((2, 1), 0.0), ((2, 6), 0.0), ((2, 3), 0.0), ((3, 2), 0.0), ((3, 7), 0.0), ((4, 0), 0.0), ((4, 8), 0.0), ((4, 5), 0.0), ((5, 1), 0.0), ((5, 4), 0.0), ((5, 9), 0.0), ((5, 6), 0.0), ((6, 2), 0.0), ((6, 5), 0.0), ((6, 10), 0.0), ((6, 7), 0.0), ((7, 3), 0.0), ((7, 6), 0.0), ((7, 11), 0.0), ((8, 4), 0.0), ((8, 12), 0.0), ((8, 9), 0.0), ((9, 5), 0.0), ((9, 8), 0.0), ((9, 13), 0.0), ((9, 10), 0.0), ((10, 6), 0.0), ((10, 9), 0.0), ((10, 14), 0.0), ((10, 11), 0.0), ((11, 7), 0.0), ((11, 10), 0.0), ((11, 15), 0.0), ((12, 8), 0.0), ((12, 13), 0.0), ((13, 9), 0.0), ((13, 12), 0.0), ((13, 14), 0.0), ((14, 10), 0.0), ((14, 13), 0.0), ((14, 15), 0.0), ((15, 11), 0.0), ((15, 14), 0.0)]),\n",
       " (1,\n",
       "  5,\n",
       "  0): dict_items([((0, 4), 0.0), ((0, 1), 0.0), ((1, 0), 0.0), ((1, 5), 0.0), ((1, 2), 0.0), ((2, 1), 0.0), ((2, 6), 0.0), ((2, 3), 0.0), ((3, 2), 0.0), ((3, 7), 0.0), ((4, 0), 0.0), ((4, 8), 0.0), ((4, 5), 0.0), ((5, 1), 0.0), ((5, 4), 0.0), ((5, 9), 0.0), ((5, 6), 0.0), ((6, 2), 0.0), ((6, 5), 0.0), ((6, 10), 0.0), ((6, 7), 0.0), ((7, 3), 0.0), ((7, 6), 0.0), ((7, 11), 0.0), ((8, 4), 0.0), ((8, 12), 0.0), ((8, 9), 0.0), ((9, 5), 0.0), ((9, 8), 0.0), ((9, 13), 0.0), ((9, 10), 0.0), ((10, 6), 0.0), ((10, 9), 0.0), ((10, 14), 0.0), ((10, 11), 0.0), ((11, 7), 0.0), ((11, 10), 0.0), ((11, 15), 0.0), ((12, 8), 0.0), ((12, 13), 0.0), ((13, 9), 0.0), ((13, 12), 0.0), ((13, 14), 0.0), ((14, 10), 0.0), ((14, 13), 0.0), ((14, 15), 0.0), ((15, 11), 0.0), ((15, 14), 0.0)]),\n",
       " (1,\n",
       "  2,\n",
       "  0): dict_items([((0, 4), 0.0), ((0, 1), 0.0), ((1, 0), 0.0), ((1, 5), 0.0), ((1, 2), 0.0), ((2, 1), 0.0), ((2, 6), 0.0), ((2, 3), 0.0), ((3, 2), 0.0), ((3, 7), 0.0), ((4, 0), 0.0), ((4, 8), 0.0), ((4, 5), 0.0), ((5, 1), 0.0), ((5, 4), 0.0), ((5, 9), 0.0), ((5, 6), 0.0), ((6, 2), 0.0), ((6, 5), 0.0), ((6, 10), 0.0), ((6, 7), 0.0), ((7, 3), 0.0), ((7, 6), 0.0), ((7, 11), 0.0), ((8, 4), 0.0), ((8, 12), 0.0), ((8, 9), 0.0), ((9, 5), 0.0), ((9, 8), 0.0), ((9, 13), 0.0), ((9, 10), 0.0), ((10, 6), 0.0), ((10, 9), 0.0), ((10, 14), 0.0), ((10, 11), 0.0), ((11, 7), 0.0), ((11, 10), 0.0), ((11, 15), 0.0), ((12, 8), 0.0), ((12, 13), 0.0), ((13, 9), 0.0), ((13, 12), 0.0), ((13, 14), 0.0), ((14, 10), 0.0), ((14, 13), 0.0), ((14, 15), 0.0), ((15, 11), 0.0), ((15, 14), 0.0)]),\n",
       " (2,\n",
       "  1,\n",
       "  0): dict_items([((0, 4), 0.0), ((0, 1), 0.0), ((1, 0), 0.0), ((1, 5), 0.0), ((1, 2), 0.0), ((2, 1), 0.0), ((2, 6), 0.0), ((2, 3), 0.0), ((3, 2), 0.0), ((3, 7), 0.0), ((4, 0), 0.0), ((4, 8), 0.0), ((4, 5), 0.0), ((5, 1), 0.0), ((5, 4), 0.0), ((5, 9), 0.0), ((5, 6), 0.0), ((6, 2), 0.0), ((6, 5), 0.0), ((6, 10), 0.0), ((6, 7), 0.0), ((7, 3), 0.0), ((7, 6), 0.0), ((7, 11), 0.0), ((8, 4), 0.0), ((8, 12), 0.0), ((8, 9), 0.0), ((9, 5), 0.0), ((9, 8), 0.0), ((9, 13), 0.0), ((9, 10), 0.0), ((10, 6), 0.0), ((10, 9), 0.0), ((10, 14), 0.0), ((10, 11), 0.0), ((11, 7), 0.0), ((11, 10), 0.0), ((11, 15), 0.0), ((12, 8), 0.0), ((12, 13), 0.0), ((13, 9), 0.0), ((13, 12), 0.0), ((13, 14), 0.0), ((14, 10), 0.0), ((14, 13), 0.0), ((14, 15), 0.0), ((15, 11), 0.0), ((15, 14), 0.0)]),\n",
       " (2,\n",
       "  6,\n",
       "  0): dict_items([((0, 4), 0.0), ((0, 1), 0.0), ((1, 0), 0.0), ((1, 5), 0.0), ((1, 2), 0.0), ((2, 1), 0.0), ((2, 6), 0.0), ((2, 3), 0.0), ((3, 2), 0.0), ((3, 7), 0.0), ((4, 0), 0.0), ((4, 8), 0.0), ((4, 5), 0.0), ((5, 1), 0.0), ((5, 4), 0.0), ((5, 9), 0.0), ((5, 6), 0.0), ((6, 2), 0.0), ((6, 5), 0.0), ((6, 10), 0.0), ((6, 7), 0.0), ((7, 3), 0.0), ((7, 6), 0.0), ((7, 11), 0.0), ((8, 4), 0.0), ((8, 12), 0.0), ((8, 9), 0.0), ((9, 5), 0.0), ((9, 8), 0.0), ((9, 13), 0.0), ((9, 10), 0.0), ((10, 6), 0.0), ((10, 9), 0.0), ((10, 14), 0.0), ((10, 11), 0.0), ((11, 7), 0.0), ((11, 10), 0.0), ((11, 15), 0.0), ((12, 8), 0.0), ((12, 13), 0.0), ((13, 9), 0.0), ((13, 12), 0.0), ((13, 14), 0.0), ((14, 10), 0.0), ((14, 13), 0.0), ((14, 15), 0.0), ((15, 11), 0.0), ((15, 14), 0.0)]),\n",
       " (2,\n",
       "  3,\n",
       "  0): dict_items([((0, 4), 0.0), ((0, 1), 0.0), ((1, 0), 0.0), ((1, 5), 0.0), ((1, 2), 0.0), ((2, 1), 0.0), ((2, 6), 0.0), ((2, 3), 0.0), ((3, 2), 0.0), ((3, 7), 0.0), ((4, 0), 0.0), ((4, 8), 0.0), ((4, 5), 0.0), ((5, 1), 0.0), ((5, 4), 0.0), ((5, 9), 0.0), ((5, 6), 0.0), ((6, 2), 0.0), ((6, 5), 0.0), ((6, 10), 0.0), ((6, 7), 0.0), ((7, 3), 0.0), ((7, 6), 0.0), ((7, 11), 0.0), ((8, 4), 0.0), ((8, 12), 0.0), ((8, 9), 0.0), ((9, 5), 0.0), ((9, 8), 0.0), ((9, 13), 0.0), ((9, 10), 0.0), ((10, 6), 0.0), ((10, 9), 0.0), ((10, 14), 0.0), ((10, 11), 0.0), ((11, 7), 0.0), ((11, 10), 0.0), ((11, 15), 0.0), ((12, 8), 0.0), ((12, 13), 0.0), ((13, 9), 0.0), ((13, 12), 0.0), ((13, 14), 0.0), ((14, 10), 0.0), ((14, 13), 0.0), ((14, 15), 0.0), ((15, 11), 0.0), ((15, 14), 0.0)]),\n",
       " (3,\n",
       "  2,\n",
       "  0): dict_items([((0, 4), 0.0), ((0, 1), 0.0), ((1, 0), 0.0), ((1, 5), 0.0), ((1, 2), 0.0), ((2, 1), 0.0), ((2, 6), 0.0), ((2, 3), 0.0), ((3, 2), 0.0), ((3, 7), 0.0), ((4, 0), 0.0), ((4, 8), 0.0), ((4, 5), 0.0), ((5, 1), 0.0), ((5, 4), 0.0), ((5, 9), 0.0), ((5, 6), 0.0), ((6, 2), 0.0), ((6, 5), 0.0), ((6, 10), 0.0), ((6, 7), 0.0), ((7, 3), 0.0), ((7, 6), 0.0), ((7, 11), 0.0), ((8, 4), 0.0), ((8, 12), 0.0), ((8, 9), 0.0), ((9, 5), 0.0), ((9, 8), 0.0), ((9, 13), 0.0), ((9, 10), 0.0), ((10, 6), 0.0), ((10, 9), 0.0), ((10, 14), 0.0), ((10, 11), 0.0), ((11, 7), 0.0), ((11, 10), 0.0), ((11, 15), 0.0), ((12, 8), 0.0), ((12, 13), 0.0), ((13, 9), 0.0), ((13, 12), 0.0), ((13, 14), 0.0), ((14, 10), 0.0), ((14, 13), 0.0), ((14, 15), 0.0), ((15, 11), 0.0), ((15, 14), 0.0)]),\n",
       " (3,\n",
       "  7,\n",
       "  0): dict_items([((0, 4), 0.0), ((0, 1), 0.0), ((1, 0), 0.0), ((1, 5), 0.0), ((1, 2), 0.0), ((2, 1), 0.0), ((2, 6), 0.0), ((2, 3), 0.0), ((3, 2), 0.0), ((3, 7), 0.0), ((4, 0), 0.0), ((4, 8), 0.0), ((4, 5), 0.0), ((5, 1), 0.0), ((5, 4), 0.0), ((5, 9), 0.0), ((5, 6), 0.0), ((6, 2), 0.0), ((6, 5), 0.0), ((6, 10), 0.0), ((6, 7), 0.0), ((7, 3), 0.0), ((7, 6), 0.0), ((7, 11), 0.0), ((8, 4), 0.0), ((8, 12), 0.0), ((8, 9), 0.0), ((9, 5), 0.0), ((9, 8), 0.0), ((9, 13), 0.0), ((9, 10), 0.0), ((10, 6), 0.0), ((10, 9), 0.0), ((10, 14), 0.0), ((10, 11), 0.0), ((11, 7), 0.0), ((11, 10), 0.0), ((11, 15), 0.0), ((12, 8), 0.0), ((12, 13), 0.0), ((13, 9), 0.0), ((13, 12), 0.0), ((13, 14), 0.0), ((14, 10), 0.0), ((14, 13), 0.0), ((14, 15), 0.0), ((15, 11), 0.0), ((15, 14), 0.0)]),\n",
       " (4,\n",
       "  0,\n",
       "  0): dict_items([((0, 4), 0.0), ((0, 1), 0.0), ((1, 0), 0.0), ((1, 5), 0.0), ((1, 2), 0.0), ((2, 1), 0.0), ((2, 6), 0.0), ((2, 3), 0.0), ((3, 2), 0.0), ((3, 7), 0.0), ((4, 0), 0.0), ((4, 8), 0.0), ((4, 5), 0.0), ((5, 1), 0.0), ((5, 4), 0.0), ((5, 9), 0.0), ((5, 6), 0.0), ((6, 2), 0.0), ((6, 5), 0.0), ((6, 10), 0.0), ((6, 7), 0.0), ((7, 3), 0.0), ((7, 6), 0.0), ((7, 11), 0.0), ((8, 4), 0.0), ((8, 12), 0.0), ((8, 9), 0.0), ((9, 5), 0.0), ((9, 8), 0.0), ((9, 13), 0.0), ((9, 10), 0.0), ((10, 6), 0.0), ((10, 9), 0.0), ((10, 14), 0.0), ((10, 11), 0.0), ((11, 7), 0.0), ((11, 10), 0.0), ((11, 15), 0.0), ((12, 8), 0.0), ((12, 13), 0.0), ((13, 9), 0.0), ((13, 12), 0.0), ((13, 14), 0.0), ((14, 10), 0.0), ((14, 13), 0.0), ((14, 15), 0.0), ((15, 11), 0.0), ((15, 14), 0.0)]),\n",
       " (4,\n",
       "  8,\n",
       "  0): dict_items([((0, 4), 0.0), ((0, 1), 0.0), ((1, 0), 0.0), ((1, 5), 0.0), ((1, 2), 0.0), ((2, 1), 0.0), ((2, 6), 0.0), ((2, 3), 0.0), ((3, 2), 0.0), ((3, 7), 0.0), ((4, 0), 0.0), ((4, 8), 0.0), ((4, 5), 0.0), ((5, 1), 0.0), ((5, 4), 0.0), ((5, 9), 0.0), ((5, 6), 0.0), ((6, 2), 0.0), ((6, 5), 0.0), ((6, 10), 0.0), ((6, 7), 0.0), ((7, 3), 0.0), ((7, 6), 0.0), ((7, 11), 0.0), ((8, 4), 0.0), ((8, 12), 0.0), ((8, 9), 0.0), ((9, 5), 0.0), ((9, 8), 0.0), ((9, 13), 0.0), ((9, 10), 0.0), ((10, 6), 0.0), ((10, 9), 0.0), ((10, 14), 0.0), ((10, 11), 0.0), ((11, 7), 0.0), ((11, 10), 0.0), ((11, 15), 0.0), ((12, 8), 0.0), ((12, 13), 0.0), ((13, 9), 0.0), ((13, 12), 0.0), ((13, 14), 0.0), ((14, 10), 0.0), ((14, 13), 0.0), ((14, 15), 0.0), ((15, 11), 0.0), ((15, 14), 0.0)]),\n",
       " (4,\n",
       "  5,\n",
       "  0): dict_items([((0, 4), 0.0), ((0, 1), 0.0), ((1, 0), 0.0), ((1, 5), 0.0), ((1, 2), 0.0), ((2, 1), 0.0), ((2, 6), 0.0), ((2, 3), 0.0), ((3, 2), 0.0), ((3, 7), 0.0), ((4, 0), 0.0), ((4, 8), 0.0), ((4, 5), 0.0), ((5, 1), 0.0), ((5, 4), 0.0), ((5, 9), 0.0), ((5, 6), 0.0), ((6, 2), 0.0), ((6, 5), 0.0), ((6, 10), 0.0), ((6, 7), 0.0), ((7, 3), 0.0), ((7, 6), 0.0), ((7, 11), 0.0), ((8, 4), 0.0), ((8, 12), 0.0), ((8, 9), 0.0), ((9, 5), 0.0), ((9, 8), 0.0), ((9, 13), 0.0), ((9, 10), 0.0), ((10, 6), 0.0), ((10, 9), 0.0), ((10, 14), 0.0), ((10, 11), 0.0), ((11, 7), 0.0), ((11, 10), 0.0), ((11, 15), 0.0), ((12, 8), 0.0), ((12, 13), 0.0), ((13, 9), 0.0), ((13, 12), 0.0), ((13, 14), 0.0), ((14, 10), 0.0), ((14, 13), 0.0), ((14, 15), 0.0), ((15, 11), 0.0), ((15, 14), 0.0)]),\n",
       " (5,\n",
       "  1,\n",
       "  0): dict_items([((0, 4), 0.0), ((0, 1), 0.0), ((1, 0), 0.0), ((1, 5), 0.0), ((1, 2), 0.0), ((2, 1), 0.0), ((2, 6), 0.0), ((2, 3), 0.0), ((3, 2), 0.0), ((3, 7), 0.0), ((4, 0), 0.0), ((4, 8), 0.0), ((4, 5), 0.0), ((5, 1), 0.0), ((5, 4), 0.0), ((5, 9), 0.0), ((5, 6), 0.0), ((6, 2), 0.0), ((6, 5), 0.0), ((6, 10), 0.0), ((6, 7), 0.0), ((7, 3), 0.0), ((7, 6), 0.0), ((7, 11), 0.0), ((8, 4), 0.0), ((8, 12), 0.0), ((8, 9), 0.0), ((9, 5), 0.0), ((9, 8), 0.0), ((9, 13), 0.0), ((9, 10), 0.0), ((10, 6), 0.0), ((10, 9), 0.0), ((10, 14), 0.0), ((10, 11), 0.0), ((11, 7), 0.0), ((11, 10), 0.0), ((11, 15), 0.0), ((12, 8), 0.0), ((12, 13), 0.0), ((13, 9), 0.0), ((13, 12), 0.0), ((13, 14), 0.0), ((14, 10), 0.0), ((14, 13), 0.0), ((14, 15), 0.0), ((15, 11), 0.0), ((15, 14), 0.0)]),\n",
       " (5,\n",
       "  4,\n",
       "  0): dict_items([((0, 4), 0.0), ((0, 1), 0.0), ((1, 0), 0.0), ((1, 5), 0.0), ((1, 2), 0.0), ((2, 1), 0.0), ((2, 6), 0.0), ((2, 3), 0.0), ((3, 2), 0.0), ((3, 7), 0.0), ((4, 0), 0.0), ((4, 8), 0.0), ((4, 5), 0.0), ((5, 1), 0.0), ((5, 4), 0.0), ((5, 9), 0.0), ((5, 6), 0.0), ((6, 2), 0.0), ((6, 5), 0.0), ((6, 10), 0.0), ((6, 7), 0.0), ((7, 3), 0.0), ((7, 6), 0.0), ((7, 11), 0.0), ((8, 4), 0.0), ((8, 12), 0.0), ((8, 9), 0.0), ((9, 5), 0.0), ((9, 8), 0.0), ((9, 13), 0.0), ((9, 10), 0.0), ((10, 6), 0.0), ((10, 9), 0.0), ((10, 14), 0.0), ((10, 11), 0.0), ((11, 7), 0.0), ((11, 10), 0.0), ((11, 15), 0.0), ((12, 8), 0.0), ((12, 13), 0.0), ((13, 9), 0.0), ((13, 12), 0.0), ((13, 14), 0.0), ((14, 10), 0.0), ((14, 13), 0.0), ((14, 15), 0.0), ((15, 11), 0.0), ((15, 14), 0.0)]),\n",
       " (5,\n",
       "  9,\n",
       "  0): dict_items([((0, 4), 0.0), ((0, 1), 0.0), ((1, 0), 0.0), ((1, 5), 0.0), ((1, 2), 0.0), ((2, 1), 0.0), ((2, 6), 0.0), ((2, 3), 0.0), ((3, 2), 0.0), ((3, 7), 0.0), ((4, 0), 0.0), ((4, 8), 0.0), ((4, 5), 0.0), ((5, 1), 0.0), ((5, 4), 0.0), ((5, 9), 0.0), ((5, 6), 0.0), ((6, 2), 0.0), ((6, 5), 0.0), ((6, 10), 0.0), ((6, 7), 0.0), ((7, 3), 0.0), ((7, 6), 0.0), ((7, 11), 0.0), ((8, 4), 0.0), ((8, 12), 0.0), ((8, 9), 0.0), ((9, 5), 0.0), ((9, 8), 0.0), ((9, 13), 0.0), ((9, 10), 0.0), ((10, 6), 0.0), ((10, 9), 0.0), ((10, 14), 0.0), ((10, 11), 0.0), ((11, 7), 0.0), ((11, 10), 0.0), ((11, 15), 0.0), ((12, 8), 0.0), ((12, 13), 0.0), ((13, 9), 0.0), ((13, 12), 0.0), ((13, 14), 0.0), ((14, 10), 0.0), ((14, 13), 0.0), ((14, 15), 0.0), ((15, 11), 0.0), ((15, 14), 0.0)]),\n",
       " (5,\n",
       "  6,\n",
       "  0): dict_items([((0, 4), 0.0), ((0, 1), 0.0), ((1, 0), 0.0), ((1, 5), 0.0), ((1, 2), 0.0), ((2, 1), 0.0), ((2, 6), 0.0), ((2, 3), 0.0), ((3, 2), 0.0), ((3, 7), 0.0), ((4, 0), 0.0), ((4, 8), 0.0), ((4, 5), 0.0), ((5, 1), 0.0), ((5, 4), 0.0), ((5, 9), 0.0), ((5, 6), 0.0), ((6, 2), 0.0), ((6, 5), 0.0), ((6, 10), 0.0), ((6, 7), 0.0), ((7, 3), 0.0), ((7, 6), 0.0), ((7, 11), 0.0), ((8, 4), 0.0), ((8, 12), 0.0), ((8, 9), 0.0), ((9, 5), 0.0), ((9, 8), 0.0), ((9, 13), 0.0), ((9, 10), 0.0), ((10, 6), 0.0), ((10, 9), 0.0), ((10, 14), 0.0), ((10, 11), 0.0), ((11, 7), 0.0), ((11, 10), 0.0), ((11, 15), 0.0), ((12, 8), 0.0), ((12, 13), 0.0), ((13, 9), 0.0), ((13, 12), 0.0), ((13, 14), 0.0), ((14, 10), 0.0), ((14, 13), 0.0), ((14, 15), 0.0), ((15, 11), 0.0), ((15, 14), 0.0)]),\n",
       " (6,\n",
       "  2,\n",
       "  0): dict_items([((0, 4), 0.0), ((0, 1), 0.0), ((1, 0), 0.0), ((1, 5), 0.0), ((1, 2), 0.0), ((2, 1), 0.0), ((2, 6), 0.0), ((2, 3), 0.0), ((3, 2), 0.0), ((3, 7), 0.0), ((4, 0), 0.0), ((4, 8), 0.0), ((4, 5), 0.0), ((5, 1), 0.0), ((5, 4), 0.0), ((5, 9), 0.0), ((5, 6), 0.0), ((6, 2), 0.0), ((6, 5), 0.0), ((6, 10), 0.0), ((6, 7), 0.0), ((7, 3), 0.0), ((7, 6), 0.0), ((7, 11), 0.0), ((8, 4), 0.0), ((8, 12), 0.0), ((8, 9), 0.0), ((9, 5), 0.0), ((9, 8), 0.0), ((9, 13), 0.0), ((9, 10), 0.0), ((10, 6), 0.0), ((10, 9), 0.0), ((10, 14), 0.0), ((10, 11), 0.0), ((11, 7), 0.0), ((11, 10), 0.0), ((11, 15), 0.0), ((12, 8), 0.0), ((12, 13), 0.0), ((13, 9), 0.0), ((13, 12), 0.0), ((13, 14), 0.0), ((14, 10), 0.0), ((14, 13), 0.0), ((14, 15), 0.0), ((15, 11), 0.0), ((15, 14), 0.0)]),\n",
       " (6,\n",
       "  5,\n",
       "  0): dict_items([((0, 4), 0.0), ((0, 1), 0.0), ((1, 0), 0.0), ((1, 5), 0.0), ((1, 2), 0.0), ((2, 1), 0.0), ((2, 6), 0.0), ((2, 3), 0.0), ((3, 2), 0.0), ((3, 7), 0.0), ((4, 0), 0.0), ((4, 8), 0.0), ((4, 5), 0.0), ((5, 1), 0.0), ((5, 4), 0.0), ((5, 9), 0.0), ((5, 6), 0.0), ((6, 2), 0.0), ((6, 5), 0.0), ((6, 10), 0.0), ((6, 7), 0.0), ((7, 3), 0.0), ((7, 6), 0.0), ((7, 11), 0.0), ((8, 4), 0.0), ((8, 12), 0.0), ((8, 9), 0.0), ((9, 5), 0.0), ((9, 8), 0.0), ((9, 13), 0.0), ((9, 10), 0.0), ((10, 6), 0.0), ((10, 9), 0.0), ((10, 14), 0.0), ((10, 11), 0.0), ((11, 7), 0.0), ((11, 10), 0.0), ((11, 15), 0.0), ((12, 8), 0.0), ((12, 13), 0.0), ((13, 9), 0.0), ((13, 12), 0.0), ((13, 14), 0.0), ((14, 10), 0.0), ((14, 13), 0.0), ((14, 15), 0.0), ((15, 11), 0.0), ((15, 14), 0.0)]),\n",
       " (6,\n",
       "  10,\n",
       "  0): dict_items([((0, 4), 0.0), ((0, 1), 0.0), ((1, 0), 0.0), ((1, 5), 0.0), ((1, 2), 0.0), ((2, 1), 0.0), ((2, 6), 0.0), ((2, 3), 0.0), ((3, 2), 0.0), ((3, 7), 0.0), ((4, 0), 0.0), ((4, 8), 0.0), ((4, 5), 0.0), ((5, 1), 0.0), ((5, 4), 0.0), ((5, 9), 0.0), ((5, 6), 0.0), ((6, 2), 0.0), ((6, 5), 0.0), ((6, 10), 0.0), ((6, 7), 0.0), ((7, 3), 0.0), ((7, 6), 0.0), ((7, 11), 0.0), ((8, 4), 0.0), ((8, 12), 0.0), ((8, 9), 0.0), ((9, 5), 0.0), ((9, 8), 0.0), ((9, 13), 0.0), ((9, 10), 0.0), ((10, 6), 0.0), ((10, 9), 0.0), ((10, 14), 0.0), ((10, 11), 0.0), ((11, 7), 0.0), ((11, 10), 0.0), ((11, 15), 0.0), ((12, 8), 0.0), ((12, 13), 0.0), ((13, 9), 0.0), ((13, 12), 0.0), ((13, 14), 0.0), ((14, 10), 0.0), ((14, 13), 0.0), ((14, 15), 0.0), ((15, 11), 0.0), ((15, 14), 0.0)]),\n",
       " (6,\n",
       "  7,\n",
       "  0): dict_items([((0, 4), 0.0), ((0, 1), 0.0), ((1, 0), 0.0), ((1, 5), 0.0), ((1, 2), 0.0), ((2, 1), 0.0), ((2, 6), 0.0), ((2, 3), 0.0), ((3, 2), 0.0), ((3, 7), 0.0), ((4, 0), 0.0), ((4, 8), 0.0), ((4, 5), 0.0), ((5, 1), 0.0), ((5, 4), 0.0), ((5, 9), 0.0), ((5, 6), 0.0), ((6, 2), 0.0), ((6, 5), 0.0), ((6, 10), 0.0), ((6, 7), 0.0), ((7, 3), 0.0), ((7, 6), 0.0), ((7, 11), 0.0), ((8, 4), 0.0), ((8, 12), 0.0), ((8, 9), 0.0), ((9, 5), 0.0), ((9, 8), 0.0), ((9, 13), 0.0), ((9, 10), 0.0), ((10, 6), 0.0), ((10, 9), 0.0), ((10, 14), 0.0), ((10, 11), 0.0), ((11, 7), 0.0), ((11, 10), 0.0), ((11, 15), 0.0), ((12, 8), 0.0), ((12, 13), 0.0), ((13, 9), 0.0), ((13, 12), 0.0), ((13, 14), 0.0), ((14, 10), 0.0), ((14, 13), 0.0), ((14, 15), 0.0), ((15, 11), 0.0), ((15, 14), 0.0)]),\n",
       " (7,\n",
       "  3,\n",
       "  0): dict_items([((0, 4), 0.0), ((0, 1), 0.0), ((1, 0), 0.0), ((1, 5), 0.0), ((1, 2), 0.0), ((2, 1), 0.0), ((2, 6), 0.0), ((2, 3), 0.0), ((3, 2), 0.0), ((3, 7), 0.0), ((4, 0), 0.0), ((4, 8), 0.0), ((4, 5), 0.0), ((5, 1), 0.0), ((5, 4), 0.0), ((5, 9), 0.0), ((5, 6), 0.0), ((6, 2), 0.0), ((6, 5), 0.0), ((6, 10), 0.0), ((6, 7), 0.0), ((7, 3), 0.0), ((7, 6), 0.0), ((7, 11), 0.0), ((8, 4), 0.0), ((8, 12), 0.0), ((8, 9), 0.0), ((9, 5), 0.0), ((9, 8), 0.0), ((9, 13), 0.0), ((9, 10), 0.0), ((10, 6), 0.0), ((10, 9), 0.0), ((10, 14), 0.0), ((10, 11), 0.0), ((11, 7), 0.0), ((11, 10), 0.0), ((11, 15), 0.0), ((12, 8), 0.0), ((12, 13), 0.0), ((13, 9), 0.0), ((13, 12), 0.0), ((13, 14), 0.0), ((14, 10), 0.0), ((14, 13), 0.0), ((14, 15), 0.0), ((15, 11), 0.0), ((15, 14), 0.0)]),\n",
       " (7,\n",
       "  6,\n",
       "  0): dict_items([((0, 4), 0.0), ((0, 1), 0.0), ((1, 0), 0.0), ((1, 5), 0.0), ((1, 2), 0.0), ((2, 1), 0.0), ((2, 6), 0.0), ((2, 3), 0.0), ((3, 2), 0.0), ((3, 7), 0.0), ((4, 0), 0.0), ((4, 8), 0.0), ((4, 5), 0.0), ((5, 1), 0.0), ((5, 4), 0.0), ((5, 9), 0.0), ((5, 6), 0.0), ((6, 2), 0.0), ((6, 5), 0.0), ((6, 10), 0.0), ((6, 7), 0.0), ((7, 3), 0.0), ((7, 6), 0.0), ((7, 11), 0.0), ((8, 4), 0.0), ((8, 12), 0.0), ((8, 9), 0.0), ((9, 5), 0.0), ((9, 8), 0.0), ((9, 13), 0.0), ((9, 10), 0.0), ((10, 6), 0.0), ((10, 9), 0.0), ((10, 14), 0.0), ((10, 11), 0.0), ((11, 7), 0.0), ((11, 10), 0.0), ((11, 15), 0.0), ((12, 8), 0.0), ((12, 13), 0.0), ((13, 9), 0.0), ((13, 12), 0.0), ((13, 14), 0.0), ((14, 10), 0.0), ((14, 13), 0.0), ((14, 15), 0.0), ((15, 11), 0.0), ((15, 14), 0.0)]),\n",
       " (7,\n",
       "  11,\n",
       "  0): dict_items([((0, 4), 0.0), ((0, 1), 0.0), ((1, 0), 0.0), ((1, 5), 0.0), ((1, 2), 0.0), ((2, 1), 0.0), ((2, 6), 0.0), ((2, 3), 0.0), ((3, 2), 0.0), ((3, 7), 0.0), ((4, 0), 0.0), ((4, 8), 0.0), ((4, 5), 0.0), ((5, 1), 0.0), ((5, 4), 0.0), ((5, 9), 0.0), ((5, 6), 0.0), ((6, 2), 0.0), ((6, 5), 0.0), ((6, 10), 0.0), ((6, 7), 0.0), ((7, 3), 0.0), ((7, 6), 0.0), ((7, 11), 0.0), ((8, 4), 0.0), ((8, 12), 0.0), ((8, 9), 0.0), ((9, 5), 0.0), ((9, 8), 0.0), ((9, 13), 0.0), ((9, 10), 0.0), ((10, 6), 0.0), ((10, 9), 0.0), ((10, 14), 0.0), ((10, 11), 0.0), ((11, 7), 0.0), ((11, 10), 0.0), ((11, 15), 0.0), ((12, 8), 0.0), ((12, 13), 0.0), ((13, 9), 0.0), ((13, 12), 0.0), ((13, 14), 0.0), ((14, 10), 0.0), ((14, 13), 0.0), ((14, 15), 0.0), ((15, 11), 0.0), ((15, 14), 0.0)]),\n",
       " (8,\n",
       "  4,\n",
       "  0): dict_items([((0, 4), 0.0), ((0, 1), 0.0), ((1, 0), 0.0), ((1, 5), 0.0), ((1, 2), 0.0), ((2, 1), 0.0), ((2, 6), 0.0), ((2, 3), 0.0), ((3, 2), 0.0), ((3, 7), 0.0), ((4, 0), 0.0), ((4, 8), 0.0), ((4, 5), 0.0), ((5, 1), 0.0), ((5, 4), 0.0), ((5, 9), 0.0), ((5, 6), 0.0), ((6, 2), 0.0), ((6, 5), 0.0), ((6, 10), 0.0), ((6, 7), 0.0), ((7, 3), 0.0), ((7, 6), 0.0), ((7, 11), 0.0), ((8, 4), 0.0), ((8, 12), 0.0), ((8, 9), 0.0), ((9, 5), 0.0), ((9, 8), 0.0), ((9, 13), 0.0), ((9, 10), 0.0), ((10, 6), 0.0), ((10, 9), 0.0), ((10, 14), 0.0), ((10, 11), 0.0), ((11, 7), 0.0), ((11, 10), 0.0), ((11, 15), 0.0), ((12, 8), 0.0), ((12, 13), 0.0), ((13, 9), 0.0), ((13, 12), 0.0), ((13, 14), 0.0), ((14, 10), 0.0), ((14, 13), 0.0), ((14, 15), 0.0), ((15, 11), 0.0), ((15, 14), 0.0)]),\n",
       " (8,\n",
       "  12,\n",
       "  0): dict_items([((0, 4), 0.0), ((0, 1), 0.0), ((1, 0), 0.0), ((1, 5), 0.0), ((1, 2), 0.0), ((2, 1), 0.0), ((2, 6), 0.0), ((2, 3), 0.0), ((3, 2), 0.0), ((3, 7), 0.0), ((4, 0), 0.0), ((4, 8), 0.0), ((4, 5), 0.0), ((5, 1), 0.0), ((5, 4), 0.0), ((5, 9), 0.0), ((5, 6), 0.0), ((6, 2), 0.0), ((6, 5), 0.0), ((6, 10), 0.0), ((6, 7), 0.0), ((7, 3), 0.0), ((7, 6), 0.0), ((7, 11), 0.0), ((8, 4), 0.0), ((8, 12), 0.0), ((8, 9), 0.0), ((9, 5), 0.0), ((9, 8), 0.0), ((9, 13), 0.0), ((9, 10), 0.0), ((10, 6), 0.0), ((10, 9), 0.0), ((10, 14), 0.0), ((10, 11), 0.0), ((11, 7), 0.0), ((11, 10), 0.0), ((11, 15), 0.0), ((12, 8), 0.0), ((12, 13), 0.0), ((13, 9), 0.0), ((13, 12), 0.0), ((13, 14), 0.0), ((14, 10), 0.0), ((14, 13), 0.0), ((14, 15), 0.0), ((15, 11), 0.0), ((15, 14), 0.0)]),\n",
       " (8,\n",
       "  9,\n",
       "  0): dict_items([((0, 4), 0.0), ((0, 1), 0.0), ((1, 0), 0.0), ((1, 5), 0.0), ((1, 2), 0.0), ((2, 1), 0.0), ((2, 6), 0.0), ((2, 3), 0.0), ((3, 2), 0.0), ((3, 7), 0.0), ((4, 0), 0.0), ((4, 8), 0.0), ((4, 5), 0.0), ((5, 1), 0.0), ((5, 4), 0.0), ((5, 9), 0.0), ((5, 6), 0.0), ((6, 2), 0.0), ((6, 5), 0.0), ((6, 10), 0.0), ((6, 7), 0.0), ((7, 3), 0.0), ((7, 6), 0.0), ((7, 11), 0.0), ((8, 4), 0.0), ((8, 12), 0.0), ((8, 9), 0.0), ((9, 5), 0.0), ((9, 8), 0.0), ((9, 13), 0.0), ((9, 10), 0.0), ((10, 6), 0.0), ((10, 9), 0.0), ((10, 14), 0.0), ((10, 11), 0.0), ((11, 7), 0.0), ((11, 10), 0.0), ((11, 15), 0.0), ((12, 8), 0.0), ((12, 13), 0.0), ((13, 9), 0.0), ((13, 12), 0.0), ((13, 14), 0.0), ((14, 10), 0.0), ((14, 13), 0.0), ((14, 15), 0.0), ((15, 11), 0.0), ((15, 14), 0.0)]),\n",
       " (9,\n",
       "  5,\n",
       "  0): dict_items([((0, 4), 0.0), ((0, 1), 0.0), ((1, 0), 0.0), ((1, 5), 0.0), ((1, 2), 0.0), ((2, 1), 0.0), ((2, 6), 0.0), ((2, 3), 0.0), ((3, 2), 0.0), ((3, 7), 0.0), ((4, 0), 0.0), ((4, 8), 0.0), ((4, 5), 0.0), ((5, 1), 0.0), ((5, 4), 0.0), ((5, 9), 0.0), ((5, 6), 0.0), ((6, 2), 0.0), ((6, 5), 0.0), ((6, 10), 0.0), ((6, 7), 0.0), ((7, 3), 0.0), ((7, 6), 0.0), ((7, 11), 0.0), ((8, 4), 0.0), ((8, 12), 0.0), ((8, 9), 0.0), ((9, 5), 0.0), ((9, 8), 0.0), ((9, 13), 0.0), ((9, 10), 0.0), ((10, 6), 0.0), ((10, 9), 0.0), ((10, 14), 0.0), ((10, 11), 0.0), ((11, 7), 0.0), ((11, 10), 0.0), ((11, 15), 0.0), ((12, 8), 0.0), ((12, 13), 0.0), ((13, 9), 0.0), ((13, 12), 0.0), ((13, 14), 0.0), ((14, 10), 0.0), ((14, 13), 0.0), ((14, 15), 0.0), ((15, 11), 0.0), ((15, 14), 0.0)]),\n",
       " (9,\n",
       "  8,\n",
       "  0): dict_items([((0, 4), 0.0), ((0, 1), 0.0), ((1, 0), 0.0), ((1, 5), 0.0), ((1, 2), 0.0), ((2, 1), 0.0), ((2, 6), 0.0), ((2, 3), 0.0), ((3, 2), 0.0), ((3, 7), 0.0), ((4, 0), 0.0), ((4, 8), 0.0), ((4, 5), 0.0), ((5, 1), 0.0), ((5, 4), 0.0), ((5, 9), 0.0), ((5, 6), 0.0), ((6, 2), 0.0), ((6, 5), 0.0), ((6, 10), 0.0), ((6, 7), 0.0), ((7, 3), 0.0), ((7, 6), 0.0), ((7, 11), 0.0), ((8, 4), 0.0), ((8, 12), 0.0), ((8, 9), 0.0), ((9, 5), 0.0), ((9, 8), 0.0), ((9, 13), 0.0), ((9, 10), 0.0), ((10, 6), 0.0), ((10, 9), 0.0), ((10, 14), 0.0), ((10, 11), 0.0), ((11, 7), 0.0), ((11, 10), 0.0), ((11, 15), 0.0), ((12, 8), 0.0), ((12, 13), 0.0), ((13, 9), 0.0), ((13, 12), 0.0), ((13, 14), 0.0), ((14, 10), 0.0), ((14, 13), 0.0), ((14, 15), 0.0), ((15, 11), 0.0), ((15, 14), 0.0)]),\n",
       " (9,\n",
       "  13,\n",
       "  0): dict_items([((0, 4), 0.0), ((0, 1), 0.0), ((1, 0), 0.0), ((1, 5), 0.0), ((1, 2), 0.0), ((2, 1), 0.0), ((2, 6), 0.0), ((2, 3), 0.0), ((3, 2), 0.0), ((3, 7), 0.0), ((4, 0), 0.0), ((4, 8), 0.0), ((4, 5), 0.0), ((5, 1), 0.0), ((5, 4), 0.0), ((5, 9), 0.0), ((5, 6), 0.0), ((6, 2), 0.0), ((6, 5), 0.0), ((6, 10), 0.0), ((6, 7), 0.0), ((7, 3), 0.0), ((7, 6), 0.0), ((7, 11), 0.0), ((8, 4), 0.0), ((8, 12), 0.0), ((8, 9), 0.0), ((9, 5), 0.0), ((9, 8), 0.0), ((9, 13), 0.0), ((9, 10), 0.0), ((10, 6), 0.0), ((10, 9), 0.0), ((10, 14), 0.0), ((10, 11), 0.0), ((11, 7), 0.0), ((11, 10), 0.0), ((11, 15), 0.0), ((12, 8), 0.0), ((12, 13), 0.0), ((13, 9), 0.0), ((13, 12), 0.0), ((13, 14), 0.0), ((14, 10), 0.0), ((14, 13), 0.0), ((14, 15), 0.0), ((15, 11), 0.0), ((15, 14), 0.0)]),\n",
       " (9,\n",
       "  10,\n",
       "  0): dict_items([((0, 4), 0.0), ((0, 1), 0.0), ((1, 0), 0.0), ((1, 5), 0.0), ((1, 2), 0.0), ((2, 1), 0.0), ((2, 6), 0.0), ((2, 3), 0.0), ((3, 2), 0.0), ((3, 7), 0.0), ((4, 0), 0.0), ((4, 8), 0.0), ((4, 5), 0.0), ((5, 1), 0.0), ((5, 4), 0.0), ((5, 9), 0.0), ((5, 6), 0.0), ((6, 2), 0.0), ((6, 5), 0.0), ((6, 10), 0.0), ((6, 7), 0.0), ((7, 3), 0.0), ((7, 6), 0.0), ((7, 11), 0.0), ((8, 4), 0.0), ((8, 12), 0.0), ((8, 9), 0.0), ((9, 5), 0.0), ((9, 8), 0.0), ((9, 13), 0.0), ((9, 10), 0.0), ((10, 6), 0.0), ((10, 9), 0.0), ((10, 14), 0.0), ((10, 11), 0.0), ((11, 7), 0.0), ((11, 10), 0.0), ((11, 15), 0.0), ((12, 8), 0.0), ((12, 13), 0.0), ((13, 9), 0.0), ((13, 12), 0.0), ((13, 14), 0.0), ((14, 10), 0.0), ((14, 13), 0.0), ((14, 15), 0.0), ((15, 11), 0.0), ((15, 14), 0.0)]),\n",
       " (10,\n",
       "  6,\n",
       "  0): dict_items([((0, 4), 0.0), ((0, 1), 0.0), ((1, 0), 0.0), ((1, 5), 0.0), ((1, 2), 0.0), ((2, 1), 0.0), ((2, 6), 0.0), ((2, 3), 0.0), ((3, 2), 0.0), ((3, 7), 0.0), ((4, 0), 0.0), ((4, 8), 0.0), ((4, 5), 0.0), ((5, 1), 0.0), ((5, 4), 0.0), ((5, 9), 0.0), ((5, 6), 0.0), ((6, 2), 0.0), ((6, 5), 0.0), ((6, 10), 0.0), ((6, 7), 0.0), ((7, 3), 0.0), ((7, 6), 0.0), ((7, 11), 0.0), ((8, 4), 0.0), ((8, 12), 0.0), ((8, 9), 0.0), ((9, 5), 0.0), ((9, 8), 0.0), ((9, 13), 0.0), ((9, 10), 0.0), ((10, 6), 0.0), ((10, 9), 0.0), ((10, 14), 0.0), ((10, 11), 0.0), ((11, 7), 0.0), ((11, 10), 0.0), ((11, 15), 0.0), ((12, 8), 0.0), ((12, 13), 0.0), ((13, 9), 0.0), ((13, 12), 0.0), ((13, 14), 0.0), ((14, 10), 0.0), ((14, 13), 0.0), ((14, 15), 0.0), ((15, 11), 0.0), ((15, 14), 0.0)]),\n",
       " (10,\n",
       "  9,\n",
       "  0): dict_items([((0, 4), 0.0), ((0, 1), 0.0), ((1, 0), 0.0), ((1, 5), 0.0), ((1, 2), 0.0), ((2, 1), 0.0), ((2, 6), 0.0), ((2, 3), 0.0), ((3, 2), 0.0), ((3, 7), 0.0), ((4, 0), 0.0), ((4, 8), 0.0), ((4, 5), 0.0), ((5, 1), 0.0), ((5, 4), 0.0), ((5, 9), 0.0), ((5, 6), 0.0), ((6, 2), 0.0), ((6, 5), 0.0), ((6, 10), 0.0), ((6, 7), 0.0), ((7, 3), 0.0), ((7, 6), 0.0), ((7, 11), 0.0), ((8, 4), 0.0), ((8, 12), 0.0), ((8, 9), 0.0), ((9, 5), 0.0), ((9, 8), 0.0), ((9, 13), 0.0), ((9, 10), 0.0), ((10, 6), 0.0), ((10, 9), 0.0), ((10, 14), 0.0), ((10, 11), 0.0), ((11, 7), 0.0), ((11, 10), 0.0), ((11, 15), 0.0), ((12, 8), 0.0), ((12, 13), 0.0), ((13, 9), 0.0), ((13, 12), 0.0), ((13, 14), 0.0), ((14, 10), 0.0), ((14, 13), 0.0), ((14, 15), 0.0), ((15, 11), 0.0), ((15, 14), 0.0)]),\n",
       " (10,\n",
       "  14,\n",
       "  0): dict_items([((0, 4), 0.0), ((0, 1), 0.0), ((1, 0), 0.0), ((1, 5), 0.0), ((1, 2), 0.0), ((2, 1), 0.0), ((2, 6), 0.0), ((2, 3), 0.0), ((3, 2), 0.0), ((3, 7), 0.0), ((4, 0), 0.0), ((4, 8), 0.0), ((4, 5), 0.0), ((5, 1), 0.0), ((5, 4), 0.0), ((5, 9), 0.0), ((5, 6), 0.0), ((6, 2), 0.0), ((6, 5), 0.0), ((6, 10), 0.0), ((6, 7), 0.0), ((7, 3), 0.0), ((7, 6), 0.0), ((7, 11), 0.0), ((8, 4), 0.0), ((8, 12), 0.0), ((8, 9), 0.0), ((9, 5), 0.0), ((9, 8), 0.0), ((9, 13), 0.0), ((9, 10), 0.0), ((10, 6), 0.0), ((10, 9), 0.0), ((10, 14), 0.0), ((10, 11), 0.0), ((11, 7), 0.0), ((11, 10), 0.0), ((11, 15), 0.0), ((12, 8), 0.0), ((12, 13), 0.0), ((13, 9), 0.0), ((13, 12), 0.0), ((13, 14), 0.0), ((14, 10), 0.0), ((14, 13), 0.0), ((14, 15), 0.0), ((15, 11), 0.0), ((15, 14), 0.0)]),\n",
       " (10,\n",
       "  11,\n",
       "  0): dict_items([((0, 4), 0.0), ((0, 1), 0.0), ((1, 0), 0.0), ((1, 5), 0.0), ((1, 2), 0.0), ((2, 1), 0.0), ((2, 6), 0.0), ((2, 3), 0.0), ((3, 2), 0.0), ((3, 7), 0.0), ((4, 0), 0.0), ((4, 8), 0.0), ((4, 5), 0.0), ((5, 1), 0.0), ((5, 4), 0.0), ((5, 9), 0.0), ((5, 6), 0.0), ((6, 2), 0.0), ((6, 5), 0.0), ((6, 10), 0.0), ((6, 7), 0.0), ((7, 3), 0.0), ((7, 6), 0.0), ((7, 11), 0.0), ((8, 4), 0.0), ((8, 12), 0.0), ((8, 9), 0.0), ((9, 5), 0.0), ((9, 8), 0.0), ((9, 13), 0.0), ((9, 10), 0.0), ((10, 6), 0.0), ((10, 9), 0.0), ((10, 14), 0.0), ((10, 11), 0.0), ((11, 7), 0.0), ((11, 10), 0.0), ((11, 15), 0.0), ((12, 8), 0.0), ((12, 13), 0.0), ((13, 9), 0.0), ((13, 12), 0.0), ((13, 14), 0.0), ((14, 10), 0.0), ((14, 13), 0.0), ((14, 15), 0.0), ((15, 11), 0.0), ((15, 14), 0.0)]),\n",
       " (11,\n",
       "  7,\n",
       "  0): dict_items([((0, 4), 0.0), ((0, 1), 0.0), ((1, 0), 0.0), ((1, 5), 0.0), ((1, 2), 0.0), ((2, 1), 0.0), ((2, 6), 0.0), ((2, 3), 0.0), ((3, 2), 0.0), ((3, 7), 0.0), ((4, 0), 0.0), ((4, 8), 0.0), ((4, 5), 0.0), ((5, 1), 0.0), ((5, 4), 0.0), ((5, 9), 0.0), ((5, 6), 0.0), ((6, 2), 0.0), ((6, 5), 0.0), ((6, 10), 0.0), ((6, 7), 0.0), ((7, 3), 0.0), ((7, 6), 0.0), ((7, 11), 0.0), ((8, 4), 0.0), ((8, 12), 0.0), ((8, 9), 0.0), ((9, 5), 0.0), ((9, 8), 0.0), ((9, 13), 0.0), ((9, 10), 0.0), ((10, 6), 0.0), ((10, 9), 0.0), ((10, 14), 0.0), ((10, 11), 0.0), ((11, 7), 0.0), ((11, 10), 0.0), ((11, 15), 0.0), ((12, 8), 0.0), ((12, 13), 0.0), ((13, 9), 0.0), ((13, 12), 0.0), ((13, 14), 0.0), ((14, 10), 0.0), ((14, 13), 0.0), ((14, 15), 0.0), ((15, 11), 0.0), ((15, 14), 0.0)]),\n",
       " (11,\n",
       "  10,\n",
       "  0): dict_items([((0, 4), 0.0), ((0, 1), 0.0), ((1, 0), 0.0), ((1, 5), 0.0), ((1, 2), 0.0), ((2, 1), 0.0), ((2, 6), 0.0), ((2, 3), 0.0), ((3, 2), 0.0), ((3, 7), 0.0), ((4, 0), 0.0), ((4, 8), 0.0), ((4, 5), 0.0), ((5, 1), 0.0), ((5, 4), 0.0), ((5, 9), 0.0), ((5, 6), 0.0), ((6, 2), 0.0), ((6, 5), 0.0), ((6, 10), 0.0), ((6, 7), 0.0), ((7, 3), 0.0), ((7, 6), 0.0), ((7, 11), 0.0), ((8, 4), 0.0), ((8, 12), 0.0), ((8, 9), 0.0), ((9, 5), 0.0), ((9, 8), 0.0), ((9, 13), 0.0), ((9, 10), 0.0), ((10, 6), 0.0), ((10, 9), 0.0), ((10, 14), 0.0), ((10, 11), 0.0), ((11, 7), 0.0), ((11, 10), 0.0), ((11, 15), 0.0), ((12, 8), 0.0), ((12, 13), 0.0), ((13, 9), 0.0), ((13, 12), 0.0), ((13, 14), 0.0), ((14, 10), 0.0), ((14, 13), 0.0), ((14, 15), 0.0), ((15, 11), 0.0), ((15, 14), 0.0)]),\n",
       " (11,\n",
       "  15,\n",
       "  0): dict_items([((0, 4), 0.0), ((0, 1), 0.0), ((1, 0), 0.0), ((1, 5), 0.0), ((1, 2), 0.0), ((2, 1), 0.0), ((2, 6), 0.0), ((2, 3), 0.0), ((3, 2), 0.0), ((3, 7), 0.0), ((4, 0), 0.0), ((4, 8), 0.0), ((4, 5), 0.0), ((5, 1), 0.0), ((5, 4), 0.0), ((5, 9), 0.0), ((5, 6), 0.0), ((6, 2), 0.0), ((6, 5), 0.0), ((6, 10), 0.0), ((6, 7), 0.0), ((7, 3), 0.0), ((7, 6), 0.0), ((7, 11), 0.0), ((8, 4), 0.0), ((8, 12), 0.0), ((8, 9), 0.0), ((9, 5), 0.0), ((9, 8), 0.0), ((9, 13), 0.0), ((9, 10), 0.0), ((10, 6), 0.0), ((10, 9), 0.0), ((10, 14), 0.0), ((10, 11), 0.0), ((11, 7), 0.0), ((11, 10), 0.0), ((11, 15), 0.0), ((12, 8), 0.0), ((12, 13), 0.0), ((13, 9), 0.0), ((13, 12), 0.0), ((13, 14), 0.0), ((14, 10), 0.0), ((14, 13), 0.0), ((14, 15), 0.0), ((15, 11), 0.0), ((15, 14), 0.0)]),\n",
       " (12,\n",
       "  8,\n",
       "  0): dict_items([((0, 4), 0.0), ((0, 1), 0.0), ((1, 0), 0.0), ((1, 5), 0.0), ((1, 2), 0.0), ((2, 1), 0.0), ((2, 6), 0.0), ((2, 3), 0.0), ((3, 2), 0.0), ((3, 7), 0.0), ((4, 0), 0.0), ((4, 8), 0.0), ((4, 5), 0.0), ((5, 1), 0.0), ((5, 4), 0.0), ((5, 9), 0.0), ((5, 6), 0.0), ((6, 2), 0.0), ((6, 5), 0.0), ((6, 10), 0.0), ((6, 7), 0.0), ((7, 3), 0.0), ((7, 6), 0.0), ((7, 11), 0.0), ((8, 4), 0.0), ((8, 12), 0.0), ((8, 9), 0.0), ((9, 5), 0.0), ((9, 8), 0.0), ((9, 13), 0.0), ((9, 10), 0.0), ((10, 6), 0.0), ((10, 9), 0.0), ((10, 14), 0.0), ((10, 11), 0.0), ((11, 7), 0.0), ((11, 10), 0.0), ((11, 15), 0.0), ((12, 8), 0.0), ((12, 13), 0.0), ((13, 9), 0.0), ((13, 12), 0.0), ((13, 14), 0.0), ((14, 10), 0.0), ((14, 13), 0.0), ((14, 15), 0.0), ((15, 11), 0.0), ((15, 14), 0.0)]),\n",
       " (12,\n",
       "  13,\n",
       "  0): dict_items([((0, 4), 0.0), ((0, 1), 0.0), ((1, 0), 0.0), ((1, 5), 0.0), ((1, 2), 0.0), ((2, 1), 0.0), ((2, 6), 0.0), ((2, 3), 0.0), ((3, 2), 0.0), ((3, 7), 0.0), ((4, 0), 0.0), ((4, 8), 0.0), ((4, 5), 0.0), ((5, 1), 0.0), ((5, 4), 0.0), ((5, 9), 0.0), ((5, 6), 0.0), ((6, 2), 0.0), ((6, 5), 0.0), ((6, 10), 0.0), ((6, 7), 0.0), ((7, 3), 0.0), ((7, 6), 0.0), ((7, 11), 0.0), ((8, 4), 0.0), ((8, 12), 0.0), ((8, 9), 0.0), ((9, 5), 0.0), ((9, 8), 0.0), ((9, 13), 0.0), ((9, 10), 0.0), ((10, 6), 0.0), ((10, 9), 0.0), ((10, 14), 0.0), ((10, 11), 0.0), ((11, 7), 0.0), ((11, 10), 0.0), ((11, 15), 0.0), ((12, 8), 0.0), ((12, 13), 0.0), ((13, 9), 0.0), ((13, 12), 0.0), ((13, 14), 0.0), ((14, 10), 0.0), ((14, 13), 0.0), ((14, 15), 0.0), ((15, 11), 0.0), ((15, 14), 0.0)]),\n",
       " (13,\n",
       "  9,\n",
       "  0): dict_items([((0, 4), 0.0), ((0, 1), 0.0), ((1, 0), 0.0), ((1, 5), 0.0), ((1, 2), 0.0), ((2, 1), 0.0), ((2, 6), 0.0), ((2, 3), 0.0), ((3, 2), 0.0), ((3, 7), 0.0), ((4, 0), 0.0), ((4, 8), 0.0), ((4, 5), 0.0), ((5, 1), 0.0), ((5, 4), 0.0), ((5, 9), 0.0), ((5, 6), 0.0), ((6, 2), 0.0), ((6, 5), 0.0), ((6, 10), 0.0), ((6, 7), 0.0), ((7, 3), 0.0), ((7, 6), 0.0), ((7, 11), 0.0), ((8, 4), 0.0), ((8, 12), 0.0), ((8, 9), 0.0), ((9, 5), 0.0), ((9, 8), 0.0), ((9, 13), 0.0), ((9, 10), 0.0), ((10, 6), 0.0), ((10, 9), 0.0), ((10, 14), 0.0), ((10, 11), 0.0), ((11, 7), 0.0), ((11, 10), 0.0), ((11, 15), 0.0), ((12, 8), 0.0), ((12, 13), 0.0), ((13, 9), 0.0), ((13, 12), 0.0), ((13, 14), 0.0), ((14, 10), 0.0), ((14, 13), 0.0), ((14, 15), 0.0), ((15, 11), 0.0), ((15, 14), 0.0)]),\n",
       " (13,\n",
       "  12,\n",
       "  0): dict_items([((0, 4), 0.0), ((0, 1), 0.0), ((1, 0), 0.0), ((1, 5), 0.0), ((1, 2), 0.0), ((2, 1), 0.0), ((2, 6), 0.0), ((2, 3), 0.0), ((3, 2), 0.0), ((3, 7), 0.0), ((4, 0), 0.0), ((4, 8), 0.0), ((4, 5), 0.0), ((5, 1), 0.0), ((5, 4), 0.0), ((5, 9), 0.0), ((5, 6), 0.0), ((6, 2), 0.0), ((6, 5), 0.0), ((6, 10), 0.0), ((6, 7), 0.0), ((7, 3), 0.0), ((7, 6), 0.0), ((7, 11), 0.0), ((8, 4), 0.0), ((8, 12), 0.0), ((8, 9), 0.0), ((9, 5), 0.0), ((9, 8), 0.0), ((9, 13), 0.0), ((9, 10), 0.0), ((10, 6), 0.0), ((10, 9), 0.0), ((10, 14), 0.0), ((10, 11), 0.0), ((11, 7), 0.0), ((11, 10), 0.0), ((11, 15), 0.0), ((12, 8), 0.0), ((12, 13), 0.0), ((13, 9), 0.0), ((13, 12), 0.0), ((13, 14), 0.0), ((14, 10), 0.0), ((14, 13), 0.0), ((14, 15), 0.0), ((15, 11), 0.0), ((15, 14), 0.0)]),\n",
       " (13,\n",
       "  14,\n",
       "  0): dict_items([((0, 4), 0.0), ((0, 1), 0.0), ((1, 0), 0.0), ((1, 5), 0.0), ((1, 2), 0.0), ((2, 1), 0.0), ((2, 6), 0.0), ((2, 3), 0.0), ((3, 2), 0.0), ((3, 7), 0.0), ((4, 0), 0.0), ((4, 8), 0.0), ((4, 5), 0.0), ((5, 1), 0.0), ((5, 4), 0.0), ((5, 9), 0.0), ((5, 6), 0.0), ((6, 2), 0.0), ((6, 5), 0.0), ((6, 10), 0.0), ((6, 7), 0.0), ((7, 3), 0.0), ((7, 6), 0.0), ((7, 11), 0.0), ((8, 4), 0.0), ((8, 12), 0.0), ((8, 9), 0.0), ((9, 5), 0.0), ((9, 8), 0.0), ((9, 13), 0.0), ((9, 10), 0.0), ((10, 6), 0.0), ((10, 9), 0.0), ((10, 14), 0.0), ((10, 11), 0.0), ((11, 7), 0.0), ((11, 10), 0.0), ((11, 15), 0.0), ((12, 8), 0.0), ((12, 13), 0.0), ((13, 9), 0.0), ((13, 12), 0.0), ((13, 14), 0.0), ((14, 10), 0.0), ((14, 13), 0.0), ((14, 15), 0.0), ((15, 11), 0.0), ((15, 14), 0.0)]),\n",
       " (14,\n",
       "  10,\n",
       "  0): dict_items([((0, 4), 0.0), ((0, 1), 0.0), ((1, 0), 0.0), ((1, 5), 0.0), ((1, 2), 0.0), ((2, 1), 0.0), ((2, 6), 0.0), ((2, 3), 0.0), ((3, 2), 0.0), ((3, 7), 0.0), ((4, 0), 0.0), ((4, 8), 0.0), ((4, 5), 0.0), ((5, 1), 0.0), ((5, 4), 0.0), ((5, 9), 0.0), ((5, 6), 0.0), ((6, 2), 0.0), ((6, 5), 0.0), ((6, 10), 0.0), ((6, 7), 0.0), ((7, 3), 0.0), ((7, 6), 0.0), ((7, 11), 0.0), ((8, 4), 0.0), ((8, 12), 0.0), ((8, 9), 0.0), ((9, 5), 0.0), ((9, 8), 0.0), ((9, 13), 0.0), ((9, 10), 0.0), ((10, 6), 0.0), ((10, 9), 0.0), ((10, 14), 0.0), ((10, 11), 0.0), ((11, 7), 0.0), ((11, 10), 0.0), ((11, 15), 0.0), ((12, 8), 0.0), ((12, 13), 0.0), ((13, 9), 0.0), ((13, 12), 0.0), ((13, 14), 0.0), ((14, 10), 0.0), ((14, 13), 0.0), ((14, 15), 0.0), ((15, 11), 0.0), ((15, 14), 0.0)]),\n",
       " (14,\n",
       "  13,\n",
       "  0): dict_items([((0, 4), 0.0), ((0, 1), 0.0), ((1, 0), 0.0), ((1, 5), 0.0), ((1, 2), 0.0), ((2, 1), 0.0), ((2, 6), 0.0), ((2, 3), 0.0), ((3, 2), 0.0), ((3, 7), 0.0), ((4, 0), 0.0), ((4, 8), 0.0), ((4, 5), 0.0), ((5, 1), 0.0), ((5, 4), 0.0), ((5, 9), 0.0), ((5, 6), 0.0), ((6, 2), 0.0), ((6, 5), 0.0), ((6, 10), 0.0), ((6, 7), 0.0), ((7, 3), 0.0), ((7, 6), 0.0), ((7, 11), 0.0), ((8, 4), 0.0), ((8, 12), 0.0), ((8, 9), 0.0), ((9, 5), 0.0), ((9, 8), 0.0), ((9, 13), 0.0), ((9, 10), 0.0), ((10, 6), 0.0), ((10, 9), 0.0), ((10, 14), 0.0), ((10, 11), 0.0), ((11, 7), 0.0), ((11, 10), 0.0), ((11, 15), 0.0), ((12, 8), 0.0), ((12, 13), 0.0), ((13, 9), 0.0), ((13, 12), 0.0), ((13, 14), 0.0), ((14, 10), 0.0), ((14, 13), 0.0), ((14, 15), 0.0), ((15, 11), 0.0), ((15, 14), 0.0)]),\n",
       " (14,\n",
       "  15,\n",
       "  0): dict_items([((0, 4), 0.0), ((0, 1), 0.0), ((1, 0), 0.0), ((1, 5), 0.0), ((1, 2), 0.0), ((2, 1), 0.0), ((2, 6), 0.0), ((2, 3), 0.0), ((3, 2), 0.0), ((3, 7), 0.0), ((4, 0), 0.0), ((4, 8), 0.0), ((4, 5), 0.0), ((5, 1), 0.0), ((5, 4), 0.0), ((5, 9), 0.0), ((5, 6), 0.0), ((6, 2), 0.0), ((6, 5), 0.0), ((6, 10), 0.0), ((6, 7), 0.0), ((7, 3), 0.0), ((7, 6), 0.0), ((7, 11), 0.0), ((8, 4), 0.0), ((8, 12), 0.0), ((8, 9), 0.0), ((9, 5), 0.0), ((9, 8), 0.0), ((9, 13), 0.0), ((9, 10), 0.0), ((10, 6), 0.0), ((10, 9), 0.0), ((10, 14), 0.0), ((10, 11), 0.0), ((11, 7), 0.0), ((11, 10), 0.0), ((11, 15), 0.0), ((12, 8), 0.0), ((12, 13), 0.0), ((13, 9), 0.0), ((13, 12), 0.0), ((13, 14), 0.0), ((14, 10), 0.0), ((14, 13), 0.0), ((14, 15), 0.0), ((15, 11), 0.0), ((15, 14), 0.0)]),\n",
       " (15,\n",
       "  11,\n",
       "  0): dict_items([((0, 4), 0.0), ((0, 1), 0.0), ((1, 0), 0.0), ((1, 5), 0.0), ((1, 2), 0.0), ((2, 1), 0.0), ((2, 6), 0.0), ((2, 3), 0.0), ((3, 2), 0.0), ((3, 7), 0.0), ((4, 0), 0.0), ((4, 8), 0.0), ((4, 5), 0.0), ((5, 1), 0.0), ((5, 4), 0.0), ((5, 9), 0.0), ((5, 6), 0.0), ((6, 2), 0.0), ((6, 5), 0.0), ((6, 10), 0.0), ((6, 7), 0.0), ((7, 3), 0.0), ((7, 6), 0.0), ((7, 11), 0.0), ((8, 4), 0.0), ((8, 12), 0.0), ((8, 9), 0.0), ((9, 5), 0.0), ((9, 8), 0.0), ((9, 13), 0.0), ((9, 10), 0.0), ((10, 6), 0.0), ((10, 9), 0.0), ((10, 14), 0.0), ((10, 11), 0.0), ((11, 7), 0.0), ((11, 10), 0.0), ((11, 15), 0.0), ((12, 8), 0.0), ((12, 13), 0.0), ((13, 9), 0.0), ((13, 12), 0.0), ((13, 14), 0.0), ((14, 10), 0.0), ((14, 13), 0.0), ((14, 15), 0.0), ((15, 11), 0.0), ((15, 14), 0.0)]),\n",
       " (15,\n",
       "  14,\n",
       "  0): dict_items([((0, 4), 0.0), ((0, 1), 0.0), ((1, 0), 0.0), ((1, 5), 0.0), ((1, 2), 0.0), ((2, 1), 0.0), ((2, 6), 0.0), ((2, 3), 0.0), ((3, 2), 0.0), ((3, 7), 0.0), ((4, 0), 0.0), ((4, 8), 0.0), ((4, 5), 0.0), ((5, 1), 0.0), ((5, 4), 0.0), ((5, 9), 0.0), ((5, 6), 0.0), ((6, 2), 0.0), ((6, 5), 0.0), ((6, 10), 0.0), ((6, 7), 0.0), ((7, 3), 0.0), ((7, 6), 0.0), ((7, 11), 0.0), ((8, 4), 0.0), ((8, 12), 0.0), ((8, 9), 0.0), ((9, 5), 0.0), ((9, 8), 0.0), ((9, 13), 0.0), ((9, 10), 0.0), ((10, 6), 0.0), ((10, 9), 0.0), ((10, 14), 0.0), ((10, 11), 0.0), ((11, 7), 0.0), ((11, 10), 0.0), ((11, 15), 0.0), ((12, 8), 0.0), ((12, 13), 0.0), ((13, 9), 0.0), ((13, 12), 0.0), ((13, 14), 0.0), ((14, 10), 0.0), ((14, 13), 0.0), ((14, 15), 0.0), ((15, 11), 0.0), ((15, 14), 0.0)])}"
      ]
     },
     "execution_count": 143,
     "metadata": {},
     "output_type": "execute_result"
    }
   ],
   "source": [
    "nx.get_edge_attributes(nx_graph,'weight')\n"
   ]
  },
  {
   "cell_type": "code",
   "execution_count": 139,
   "metadata": {},
   "outputs": [
    {
     "data": {
      "text/plain": [
       "{(0, 4): 0.0,\n",
       " (0, 1): 0.0,\n",
       " (1, 0): 0.0,\n",
       " (1, 5): 0.0,\n",
       " (1, 2): 0.0,\n",
       " (2, 1): 0.0,\n",
       " (2, 6): 0.0,\n",
       " (2, 3): 0.0,\n",
       " (3, 2): 0.0,\n",
       " (3, 7): 0.0,\n",
       " (4, 0): 0.0,\n",
       " (4, 8): 0.0,\n",
       " (4, 5): 0.0,\n",
       " (5, 1): 0.0,\n",
       " (5, 4): 0.0,\n",
       " (5, 9): 0.0,\n",
       " (5, 6): 0.0,\n",
       " (6, 2): 0.0,\n",
       " (6, 5): 0.0,\n",
       " (6, 10): 0.0,\n",
       " (6, 7): 0.0,\n",
       " (7, 3): 0.0,\n",
       " (7, 6): 0.0,\n",
       " (7, 11): 0.0,\n",
       " (8, 4): 0.0,\n",
       " (8, 12): 0.0,\n",
       " (8, 9): 0.0,\n",
       " (9, 5): 0.0,\n",
       " (9, 8): 0.0,\n",
       " (9, 13): 0.0,\n",
       " (9, 10): 0.0,\n",
       " (10, 6): 0.0,\n",
       " (10, 9): 0.0,\n",
       " (10, 14): 0.0,\n",
       " (10, 11): 0.0,\n",
       " (11, 7): 0.0,\n",
       " (11, 10): 0.0,\n",
       " (11, 15): 0.0,\n",
       " (12, 8): 0.0,\n",
       " (12, 13): 0.0,\n",
       " (13, 9): 0.0,\n",
       " (13, 12): 0.0,\n",
       " (13, 14): 0.0,\n",
       " (14, 10): 0.0,\n",
       " (14, 13): 0.0,\n",
       " (14, 15): 0.0,\n",
       " (15, 11): 0.0,\n",
       " (15, 14): 0.0}"
      ]
     },
     "execution_count": 139,
     "metadata": {},
     "output_type": "execute_result"
    }
   ],
   "source": [
    "dict(zip(edges, data.tolist()))"
   ]
  },
  {
   "cell_type": "code",
   "execution_count": 140,
   "metadata": {},
   "outputs": [
    {
     "data": {
      "text/plain": [
       "OutMultiEdgeDataView([(0, 4), (0, 1), (1, 0), (1, 5), (1, 2), (2, 1), (2, 6), (2, 3), (3, 2), (3, 7), (4, 0), (4, 8), (4, 5), (5, 1), (5, 4), (5, 9), (5, 6), (6, 2), (6, 5), (6, 10), (6, 7), (7, 3), (7, 6), (7, 11), (8, 4), (8, 12), (8, 9), (9, 5), (9, 8), (9, 13), (9, 10), (10, 6), (10, 9), (10, 14), (10, 11), (11, 7), (11, 10), (11, 15), (12, 8), (12, 13), (13, 9), (13, 12), (13, 14), (14, 10), (14, 13), (14, 15), (15, 11), (15, 14)])"
      ]
     },
     "execution_count": 140,
     "metadata": {},
     "output_type": "execute_result"
    }
   ],
   "source": [
    "nx_graph.edges()"
   ]
  },
  {
   "cell_type": "code",
   "execution_count": 131,
   "metadata": {},
   "outputs": [],
   "source": [
    "a = dict(zip(edges, data.numpy()))"
   ]
  },
  {
   "cell_type": "code",
   "execution_count": 130,
   "metadata": {},
   "outputs": [
    {
     "ename": "ValueError",
     "evalue": "not enough values to unpack (expected 3, got 2)",
     "output_type": "error",
     "traceback": [
      "\u001b[1;31m---------------------------------------------------------------------------\u001b[0m",
      "\u001b[1;31mValueError\u001b[0m                                Traceback (most recent call last)",
      "Cell \u001b[1;32mIn[130], line 1\u001b[0m\n\u001b[1;32m----> 1\u001b[0m nx\u001b[39m.\u001b[39mset_edge_attributes(nx_graph, a, \u001b[39m'\u001b[39m\u001b[39mweight\u001b[39m\u001b[39m'\u001b[39m)\n",
      "File \u001b[1;32mc:\\Users\\zhy\\miniconda3\\Lib\\site-packages\\networkx\\classes\\function.py:786\u001b[0m, in \u001b[0;36mset_edge_attributes\u001b[1;34m(G, values, name)\u001b[0m\n\u001b[0;32m    783\u001b[0m \u001b[39mtry\u001b[39;00m:\n\u001b[0;32m    784\u001b[0m     \u001b[39m# if `values` is a dict using `.items()` => {edge: value}\u001b[39;00m\n\u001b[0;32m    785\u001b[0m     \u001b[39mif\u001b[39;00m G\u001b[39m.\u001b[39mis_multigraph():\n\u001b[1;32m--> 786\u001b[0m         \u001b[39mfor\u001b[39;00m (u, v, key), value \u001b[39min\u001b[39;00m values\u001b[39m.\u001b[39mitems():\n\u001b[0;32m    787\u001b[0m             \u001b[39mtry\u001b[39;00m:\n\u001b[0;32m    788\u001b[0m                 G[u][v][key][name] \u001b[39m=\u001b[39m value\n",
      "\u001b[1;31mValueError\u001b[0m: not enough values to unpack (expected 3, got 2)"
     ]
    }
   ],
   "source": [
    "nx.set_edge_attributes(nx_graph, a.items(), 'weight')"
   ]
  },
  {
   "cell_type": "code",
   "execution_count": 135,
   "metadata": {},
   "outputs": [
    {
     "data": {
      "text/plain": [
       "[0.0,\n",
       " 0.0,\n",
       " 0.0,\n",
       " 0.0,\n",
       " 0.0,\n",
       " 0.0,\n",
       " 0.0,\n",
       " 0.0,\n",
       " 0.0,\n",
       " 0.0,\n",
       " 0.0,\n",
       " 0.0,\n",
       " 0.0,\n",
       " 0.0,\n",
       " 0.0,\n",
       " 0.0,\n",
       " 0.0,\n",
       " 0.0,\n",
       " 0.0,\n",
       " 0.0,\n",
       " 0.0,\n",
       " 0.0,\n",
       " 0.0,\n",
       " 0.0,\n",
       " 0.0,\n",
       " 0.0,\n",
       " 0.0,\n",
       " 0.0,\n",
       " 0.0,\n",
       " 0.0,\n",
       " 0.0,\n",
       " 0.0,\n",
       " 0.0,\n",
       " 0.0,\n",
       " 0.0,\n",
       " 0.0,\n",
       " 0.0,\n",
       " 0.0,\n",
       " 0.0,\n",
       " 0.0,\n",
       " 0.0,\n",
       " 0.0,\n",
       " 0.0,\n",
       " 0.0,\n",
       " 0.0,\n",
       " 0.0,\n",
       " 0.0,\n",
       " 0.0]"
      ]
     },
     "execution_count": 135,
     "metadata": {},
     "output_type": "execute_result"
    }
   ],
   "source": [
    "data.tolist()"
   ]
  },
  {
   "cell_type": "code",
   "execution_count": 102,
   "metadata": {},
   "outputs": [
    {
     "data": {
      "text/plain": [
       "(tensor([ 0,  0,  1,  1,  1,  2,  2,  2,  3,  3,  4,  4,  4,  5,  5,  5,  5,  6,\n",
       "          6,  6,  6,  7,  7,  7,  8,  8,  8,  9,  9,  9,  9, 10, 10, 10, 10, 11,\n",
       "         11, 11, 12, 12, 13, 13, 13, 14, 14, 14, 15, 15]),\n",
       " tensor([ 4,  1,  0,  5,  2,  1,  6,  3,  2,  7,  0,  8,  5,  1,  4,  9,  6,  2,\n",
       "          5, 10,  7,  3,  6, 11,  4, 12,  9,  5,  8, 13, 10,  6,  9, 14, 11,  7,\n",
       "         10, 15,  8, 13,  9, 12, 14, 10, 13, 15, 11, 14]))"
      ]
     },
     "execution_count": 102,
     "metadata": {},
     "output_type": "execute_result"
    }
   ],
   "source": [
    "d.edges()"
   ]
  },
  {
   "cell_type": "code",
   "execution_count": 103,
   "metadata": {},
   "outputs": [
    {
     "name": "stdout",
     "output_type": "stream",
     "text": [
      "(tensor([ 0,  0,  1,  1,  1,  2,  2,  2,  3,  3,  4,  4,  4,  5,  5,  5,  5,  6,\n",
      "         6,  6,  6,  7,  7,  7,  8,  8,  8,  9,  9,  9,  9, 10, 10, 10, 10, 11,\n",
      "        11, 11, 12, 12, 13, 13, 13, 14, 14, 14, 15, 15]), tensor([ 4,  1,  0,  5,  2,  1,  6,  3,  2,  7,  0,  8,  5,  1,  4,  9,  6,  2,\n",
      "         5, 10,  7,  3,  6, 11,  4, 12,  9,  5,  8, 13, 10,  6,  9, 14, 11,  7,\n",
      "        10, 15,  8, 13,  9, 12, 14, 10, 13, 15, 11, 14]))\n",
      "[(0, 4), (0, 1), (1, 0), (1, 5), (1, 2), (2, 1), (2, 6), (2, 3), (3, 2), (3, 7), (4, 0), (4, 8), (4, 5), (5, 1), (5, 4), (5, 9), (5, 6), (6, 2), (6, 5), (6, 10), (6, 7), (7, 3), (7, 6), (7, 11), (8, 4), (8, 12), (8, 9), (9, 5), (9, 8), (9, 13), (9, 10), (10, 6), (10, 9), (10, 14), (10, 11), (11, 7), (11, 10), (11, 15), (12, 8), (12, 13), (13, 9), (13, 12), (13, 14), (14, 10), (14, 13), (14, 15), (15, 11), (15, 14)]\n",
      "[(0, 4), (0, 1), (1, 0), (1, 5), (1, 2), (2, 1), (2, 6), (2, 3), (3, 2), (3, 7), (4, 0), (4, 8), (4, 5), (5, 1), (5, 4), (5, 9), (5, 6), (6, 2), (6, 5), (6, 10), (6, 7), (7, 3), (7, 6), (7, 11), (8, 4), (8, 12), (8, 9), (9, 5), (9, 8), (9, 13), (9, 10), (10, 6), (10, 9), (10, 14), (10, 11), (11, 7), (11, 10), (11, 15), (12, 8), (12, 13), (13, 9), (13, 12), (13, 14), (14, 10), (14, 13), (14, 15), (15, 11), (15, 14)]\n",
      "{(0, 4): 0.0, (0, 1): 0.0, (1, 0): 0.0, (1, 5): 0.0, (1, 2): 0.0, (2, 1): 0.0, (2, 6): 0.0, (2, 3): 0.0, (3, 2): 0.0, (3, 7): 0.0, (4, 0): 0.0, (4, 8): 0.0, (4, 5): 0.0, (5, 1): 0.0, (5, 4): 0.0, (5, 9): 0.0, (5, 6): 0.0, (6, 2): 0.0, (6, 5): 0.0, (6, 10): 0.0, (6, 7): 0.0, (7, 3): 0.0, (7, 6): 0.0, (7, 11): 0.0, (8, 4): 0.0, (8, 12): 0.0, (8, 9): 0.0, (9, 5): 0.0, (9, 8): 0.0, (9, 13): 0.0, (9, 10): 0.0, (10, 6): 0.0, (10, 9): 0.0, (10, 14): 0.0, (10, 11): 0.0, (11, 7): 0.0, (11, 10): 0.0, (11, 15): 0.0, (12, 8): 0.0, (12, 13): 0.0, (13, 9): 0.0, (13, 12): 0.0, (13, 14): 0.0, (14, 10): 0.0, (14, 13): 0.0, (14, 15): 0.0, (15, 11): 0.0, (15, 14): 0.0}\n"
     ]
    },
    {
     "ename": "ValueError",
     "evalue": "not enough values to unpack (expected 3, got 2)",
     "output_type": "error",
     "traceback": [
      "\u001b[1;31m---------------------------------------------------------------------------\u001b[0m",
      "\u001b[1;31mValueError\u001b[0m                                Traceback (most recent call last)",
      "Cell \u001b[1;32mIn[103], line 1\u001b[0m\n\u001b[1;32m----> 1\u001b[0m dgl_to_networkx(d)\n",
      "Cell \u001b[1;32mIn[100], line 26\u001b[0m, in \u001b[0;36mdgl_to_networkx\u001b[1;34m(g)\u001b[0m\n\u001b[0;32m     24\u001b[0m \u001b[39mfor\u001b[39;00m efeat, data \u001b[39min\u001b[39;00m g\u001b[39m.\u001b[39medata\u001b[39m.\u001b[39mitems():\n\u001b[0;32m     25\u001b[0m     \u001b[39mprint\u001b[39m( \u001b[39mdict\u001b[39m(\u001b[39mzip\u001b[39m(edges, data\u001b[39m.\u001b[39mnumpy())))\n\u001b[1;32m---> 26\u001b[0m     nx\u001b[39m.\u001b[39mset_edge_attributes(nx_graph, \u001b[39mdict\u001b[39m(\u001b[39mzip\u001b[39m(edges, data\u001b[39m.\u001b[39mnumpy())), efeat)\n\u001b[0;32m     27\u001b[0m nx_graph \u001b[39m=\u001b[39m nx_graph\u001b[39m.\u001b[39mto_undirected()\n\u001b[0;32m     28\u001b[0m \u001b[39mreturn\u001b[39;00m nx_graph\n",
      "File \u001b[1;32mc:\\Users\\zhy\\miniconda3\\Lib\\site-packages\\networkx\\classes\\function.py:786\u001b[0m, in \u001b[0;36mset_edge_attributes\u001b[1;34m(G, values, name)\u001b[0m\n\u001b[0;32m    783\u001b[0m \u001b[39mtry\u001b[39;00m:\n\u001b[0;32m    784\u001b[0m     \u001b[39m# if `values` is a dict using `.items()` => {edge: value}\u001b[39;00m\n\u001b[0;32m    785\u001b[0m     \u001b[39mif\u001b[39;00m G\u001b[39m.\u001b[39mis_multigraph():\n\u001b[1;32m--> 786\u001b[0m         \u001b[39mfor\u001b[39;00m (u, v, key), value \u001b[39min\u001b[39;00m values\u001b[39m.\u001b[39mitems():\n\u001b[0;32m    787\u001b[0m             \u001b[39mtry\u001b[39;00m:\n\u001b[0;32m    788\u001b[0m                 G[u][v][key][name] \u001b[39m=\u001b[39m value\n",
      "\u001b[1;31mValueError\u001b[0m: not enough values to unpack (expected 3, got 2)"
     ]
    }
   ],
   "source": [
    "dgl_to_networkx(d)"
   ]
  },
  {
   "cell_type": "code",
   "execution_count": 64,
   "metadata": {},
   "outputs": [
    {
     "data": {
      "text/plain": [
       "{}"
      ]
     },
     "execution_count": 64,
     "metadata": {},
     "output_type": "execute_result"
    }
   ],
   "source": [
    "g.nodes[0]"
   ]
  },
  {
   "cell_type": "code",
   "execution_count": 65,
   "metadata": {},
   "outputs": [
    {
     "data": {
      "text/plain": [
       "Graph(num_nodes=16, num_edges=48,\n",
       "      ndata_schemes={}\n",
       "      edata_schemes={})"
      ]
     },
     "execution_count": 65,
     "metadata": {},
     "output_type": "execute_result"
    }
   ],
   "source": [
    "networkx_to_dgl(g)"
   ]
  },
  {
   "cell_type": "code",
   "execution_count": 66,
   "metadata": {},
   "outputs": [
    {
     "name": "stdout",
     "output_type": "stream",
     "text": [
      "{(0, 4): 2.0, (0, 1): 3.0, (1, 0): 3.0, (1, 5): 2.0, (1, 2): 3.0, (2, 1): 4.0, (2, 6): 4.0, (2, 3): 3.0, (3, 2): 3.0, (3, 7): 4.0, (4, 0): 4.0, (4, 8): 3.0, (4, 5): 2.0, (5, 1): 3.0, (5, 4): 3.0, (5, 9): 2.0}\n"
     ]
    },
    {
     "ename": "ValueError",
     "evalue": "not enough values to unpack (expected 3, got 2)",
     "output_type": "error",
     "traceback": [
      "\u001b[1;31m---------------------------------------------------------------------------\u001b[0m",
      "\u001b[1;31mValueError\u001b[0m                                Traceback (most recent call last)",
      "Cell \u001b[1;32mIn[66], line 1\u001b[0m\n\u001b[1;32m----> 1\u001b[0m dgl_to_networkx(d)\n",
      "Cell \u001b[1;32mIn[63], line 23\u001b[0m, in \u001b[0;36mdgl_to_networkx\u001b[1;34m(g)\u001b[0m\n\u001b[0;32m     21\u001b[0m \u001b[39mfor\u001b[39;00m efeat, data \u001b[39min\u001b[39;00m g\u001b[39m.\u001b[39mndata\u001b[39m.\u001b[39mitems():\n\u001b[0;32m     22\u001b[0m     \u001b[39mprint\u001b[39m( \u001b[39mdict\u001b[39m(\u001b[39mzip\u001b[39m(edges, data\u001b[39m.\u001b[39mnumpy())))\n\u001b[1;32m---> 23\u001b[0m     nx\u001b[39m.\u001b[39mset_edge_attributes(nx_graph, \u001b[39mdict\u001b[39m(\u001b[39mzip\u001b[39m(edges, data\u001b[39m.\u001b[39mnumpy())), efeat)\n\u001b[0;32m     24\u001b[0m nx_graph \u001b[39m=\u001b[39m nx_graph\u001b[39m.\u001b[39mto_undirected()\n\u001b[0;32m     25\u001b[0m \u001b[39mreturn\u001b[39;00m nx_graph\n",
      "File \u001b[1;32mc:\\Users\\zhy\\miniconda3\\Lib\\site-packages\\networkx\\classes\\function.py:786\u001b[0m, in \u001b[0;36mset_edge_attributes\u001b[1;34m(G, values, name)\u001b[0m\n\u001b[0;32m    783\u001b[0m \u001b[39mtry\u001b[39;00m:\n\u001b[0;32m    784\u001b[0m     \u001b[39m# if `values` is a dict using `.items()` => {edge: value}\u001b[39;00m\n\u001b[0;32m    785\u001b[0m     \u001b[39mif\u001b[39;00m G\u001b[39m.\u001b[39mis_multigraph():\n\u001b[1;32m--> 786\u001b[0m         \u001b[39mfor\u001b[39;00m (u, v, key), value \u001b[39min\u001b[39;00m values\u001b[39m.\u001b[39mitems():\n\u001b[0;32m    787\u001b[0m             \u001b[39mtry\u001b[39;00m:\n\u001b[0;32m    788\u001b[0m                 G[u][v][key][name] \u001b[39m=\u001b[39m value\n",
      "\u001b[1;31mValueError\u001b[0m: not enough values to unpack (expected 3, got 2)"
     ]
    }
   ],
   "source": [
    "dgl_to_networkx(d)"
   ]
  },
  {
   "cell_type": "code",
   "execution_count": 62,
   "metadata": {},
   "outputs": [
    {
     "data": {
      "text/plain": [
       "array([[ 0,  0,  1,  1,  1,  2,  2,  2,  3,  3,  4,  4,  4,  5,  5,  5,\n",
       "         5,  6,  6,  6,  6,  7,  7,  7,  8,  8,  8,  9,  9,  9,  9, 10,\n",
       "        10, 10, 10, 11, 11, 11, 12, 12, 13, 13, 13, 14, 14, 14, 15, 15],\n",
       "       [ 4,  1,  0,  5,  2,  1,  6,  3,  2,  7,  0,  8,  5,  1,  4,  9,\n",
       "         6,  2,  5, 10,  7,  3,  6, 11,  4, 12,  9,  5,  8, 13, 10,  6,\n",
       "         9, 14, 11,  7, 10, 15,  8, 13,  9, 12, 14, 10, 13, 15, 11, 14]],\n",
       "      dtype=int64)"
      ]
     },
     "execution_count": 62,
     "metadata": {},
     "output_type": "execute_result"
    }
   ],
   "source": [
    "edges"
   ]
  },
  {
   "cell_type": "code",
   "execution_count": 57,
   "metadata": {},
   "outputs": [
    {
     "data": {
      "text/plain": [
       "[(0, 4),\n",
       " (0, 1),\n",
       " (1, 0),\n",
       " (1, 5),\n",
       " (1, 2),\n",
       " (2, 1),\n",
       " (2, 6),\n",
       " (2, 3),\n",
       " (3, 2),\n",
       " (3, 7),\n",
       " (4, 0),\n",
       " (4, 8),\n",
       " (4, 5),\n",
       " (5, 1),\n",
       " (5, 4),\n",
       " (5, 9),\n",
       " (5, 6),\n",
       " (6, 2),\n",
       " (6, 5),\n",
       " (6, 10),\n",
       " (6, 7),\n",
       " (7, 3),\n",
       " (7, 6),\n",
       " (7, 11),\n",
       " (8, 4),\n",
       " (8, 12),\n",
       " (8, 9),\n",
       " (9, 5),\n",
       " (9, 8),\n",
       " (9, 13),\n",
       " (9, 10),\n",
       " (10, 6),\n",
       " (10, 9),\n",
       " (10, 14),\n",
       " (10, 11),\n",
       " (11, 7),\n",
       " (11, 10),\n",
       " (11, 15),\n",
       " (12, 8),\n",
       " (12, 13),\n",
       " (13, 9),\n",
       " (13, 12),\n",
       " (13, 14),\n",
       " (14, 10),\n",
       " (14, 13),\n",
       " (14, 15),\n",
       " (15, 11),\n",
       " (15, 14)]"
      ]
     },
     "execution_count": 57,
     "metadata": {},
     "output_type": "execute_result"
    }
   ],
   "source": [
    "edges = torch.stack(d.edges()).numpy()\n",
    "list(zip(*edges))"
   ]
  },
  {
   "cell_type": "code",
   "execution_count": null,
   "metadata": {},
   "outputs": [],
   "source": []
  },
  {
   "cell_type": "code",
   "execution_count": 54,
   "metadata": {},
   "outputs": [
    {
     "name": "stdout",
     "output_type": "stream",
     "text": [
      "[0 4]\n",
      "[0 1]\n",
      "[1 0]\n",
      "[1 5]\n",
      "[1 2]\n",
      "[2 1]\n",
      "[2 6]\n",
      "[2 3]\n",
      "[3 2]\n",
      "[3 7]\n",
      "[4 0]\n",
      "[4 8]\n",
      "[4 5]\n",
      "[5 1]\n",
      "[5 4]\n",
      "[5 9]\n",
      "[5 6]\n",
      "[6 2]\n",
      "[6 5]\n",
      "[ 6 10]\n",
      "[6 7]\n",
      "[7 3]\n",
      "[7 6]\n",
      "[ 7 11]\n",
      "[8 4]\n",
      "[ 8 12]\n",
      "[8 9]\n",
      "[9 5]\n",
      "[9 8]\n",
      "[ 9 13]\n",
      "[ 9 10]\n",
      "[10  6]\n",
      "[10  9]\n",
      "[10 14]\n",
      "[10 11]\n",
      "[11  7]\n",
      "[11 10]\n",
      "[11 15]\n",
      "[12  8]\n",
      "[12 13]\n",
      "[13  9]\n",
      "[13 12]\n",
      "[13 14]\n",
      "[14 10]\n",
      "[14 13]\n",
      "[14 15]\n",
      "[15 11]\n",
      "[15 14]\n"
     ]
    }
   ],
   "source": [
    "for edge in edges: print(edge)"
   ]
  },
  {
   "cell_type": "code",
   "execution_count": 18,
   "metadata": {},
   "outputs": [
    {
     "data": {
      "text/plain": [
       "[(tensor(0), tensor(4)),\n",
       " (tensor(0), tensor(1)),\n",
       " (tensor(1), tensor(0)),\n",
       " (tensor(1), tensor(5)),\n",
       " (tensor(1), tensor(2)),\n",
       " (tensor(2), tensor(1)),\n",
       " (tensor(2), tensor(6)),\n",
       " (tensor(2), tensor(3)),\n",
       " (tensor(3), tensor(2)),\n",
       " (tensor(3), tensor(7)),\n",
       " (tensor(4), tensor(0)),\n",
       " (tensor(4), tensor(8)),\n",
       " (tensor(4), tensor(5)),\n",
       " (tensor(5), tensor(1)),\n",
       " (tensor(5), tensor(4)),\n",
       " (tensor(5), tensor(9)),\n",
       " (tensor(5), tensor(6)),\n",
       " (tensor(6), tensor(2)),\n",
       " (tensor(6), tensor(5)),\n",
       " (tensor(6), tensor(10)),\n",
       " (tensor(6), tensor(7)),\n",
       " (tensor(7), tensor(3)),\n",
       " (tensor(7), tensor(6)),\n",
       " (tensor(7), tensor(11)),\n",
       " (tensor(8), tensor(4)),\n",
       " (tensor(8), tensor(12)),\n",
       " (tensor(8), tensor(9)),\n",
       " (tensor(9), tensor(5)),\n",
       " (tensor(9), tensor(8)),\n",
       " (tensor(9), tensor(13)),\n",
       " (tensor(9), tensor(10)),\n",
       " (tensor(10), tensor(6)),\n",
       " (tensor(10), tensor(9)),\n",
       " (tensor(10), tensor(14)),\n",
       " (tensor(10), tensor(11)),\n",
       " (tensor(11), tensor(7)),\n",
       " (tensor(11), tensor(10)),\n",
       " (tensor(11), tensor(15)),\n",
       " (tensor(12), tensor(8)),\n",
       " (tensor(12), tensor(13)),\n",
       " (tensor(13), tensor(9)),\n",
       " (tensor(13), tensor(12)),\n",
       " (tensor(13), tensor(14)),\n",
       " (tensor(14), tensor(10)),\n",
       " (tensor(14), tensor(13)),\n",
       " (tensor(14), tensor(15)),\n",
       " (tensor(15), tensor(11)),\n",
       " (tensor(15), tensor(14))]"
      ]
     },
     "execution_count": 18,
     "metadata": {},
     "output_type": "execute_result"
    }
   ],
   "source": [
    "list(zip(*d.edges()))"
   ]
  },
  {
   "cell_type": "code",
   "execution_count": null,
   "metadata": {},
   "outputs": [],
   "source": []
  },
  {
   "cell_type": "code",
   "execution_count": null,
   "metadata": {},
   "outputs": [],
   "source": []
  },
  {
   "cell_type": "code",
   "execution_count": 157,
   "metadata": {},
   "outputs": [],
   "source": [
    "# d.ndata['h']"
   ]
  },
  {
   "cell_type": "code",
   "execution_count": 158,
   "metadata": {},
   "outputs": [
    {
     "name": "stdout",
     "output_type": "stream",
     "text": [
      "torch.Size([48])\n"
     ]
    }
   ],
   "source": [
    "def update_edges(edges):\n",
    "    print(edges.data['e'].size())\n",
    "    # if edges.src['h'] % 2 == 0 and edges.dst['h'] % 2 == 0:\n",
    "    return {'e': (edges.src['h'] + edges.dst['h']) % 2}\n",
    "\n",
    "d.apply_edges(update_edges)"
   ]
  },
  {
   "cell_type": "code",
   "execution_count": 159,
   "metadata": {},
   "outputs": [],
   "source": [
    "nx.set_node_attributes(g, 0, 'stage')"
   ]
  },
  {
   "cell_type": "code",
   "execution_count": 164,
   "metadata": {},
   "outputs": [
    {
     "data": {
      "text/plain": [
       "{(0, 0): 0,\n",
       " (0, 1): 0,\n",
       " (0, 2): 0,\n",
       " (0, 3): 0,\n",
       " (1, 0): 0,\n",
       " (1, 1): 0,\n",
       " (1, 2): 0,\n",
       " (1, 3): 0,\n",
       " (2, 0): 0,\n",
       " (2, 1): 0,\n",
       " (2, 2): 0,\n",
       " (2, 3): 0,\n",
       " (3, 0): 0,\n",
       " (3, 1): 0,\n",
       " (3, 2): 0,\n",
       " (3, 3): 0}"
      ]
     },
     "execution_count": 164,
     "metadata": {},
     "output_type": "execute_result"
    }
   ],
   "source": [
    "nx.get_node_attributes(g, 'stage')"
   ]
  },
  {
   "cell_type": "code",
   "execution_count": 161,
   "metadata": {},
   "outputs": [],
   "source": [
    "attr = nx.get_node_attributes(g, 'stage')"
   ]
  },
  {
   "cell_type": "code",
   "execution_count": 165,
   "metadata": {},
   "outputs": [],
   "source": [
    "attr[(0,0)] = 100"
   ]
  },
  {
   "cell_type": "code",
   "execution_count": 170,
   "metadata": {},
   "outputs": [
    {
     "ename": "AttributeError",
     "evalue": "'dict' object has no attribute 'data'",
     "output_type": "error",
     "traceback": [
      "\u001b[1;31m---------------------------------------------------------------------------\u001b[0m",
      "\u001b[1;31mAttributeError\u001b[0m                            Traceback (most recent call last)",
      "Cell \u001b[1;32mIn[170], line 1\u001b[0m\n\u001b[1;32m----> 1\u001b[0m g\u001b[39m.\u001b[39mnodes[(\u001b[39m0\u001b[39m,\u001b[39m0\u001b[39m)]\u001b[39m.\u001b[39mdata(\u001b[39m'\u001b[39m\u001b[39mstage\u001b[39m\u001b[39m'\u001b[39m)\n",
      "\u001b[1;31mAttributeError\u001b[0m: 'dict' object has no attribute 'data'"
     ]
    }
   ],
   "source": [
    "g.nodes[(0,0)].data('stage')"
   ]
  },
  {
   "cell_type": "code",
   "execution_count": null,
   "metadata": {},
   "outputs": [],
   "source": []
  },
  {
   "cell_type": "code",
   "execution_count": 174,
   "metadata": {},
   "outputs": [
    {
     "data": {
      "text/plain": [
       "True"
      ]
     },
     "execution_count": 174,
     "metadata": {},
     "output_type": "execute_result"
    }
   ],
   "source": [
    "not any([0,0,0])"
   ]
  },
  {
   "cell_type": "code",
   "execution_count": 55,
   "metadata": {},
   "outputs": [],
   "source": [
    "def xor_iterable(*args):\n",
    "    \"\"\"XOR of an iterable\"\"\"\n",
    "    return sum(args) % 2\n"
   ]
  },
  {
   "cell_type": "code",
   "execution_count": 56,
   "metadata": {},
   "outputs": [
    {
     "data": {
      "text/plain": [
       "1"
      ]
     },
     "execution_count": 56,
     "metadata": {},
     "output_type": "execute_result"
    }
   ],
   "source": [
    "xor_iterable(1,*[1,2,3])"
   ]
  },
  {
   "cell_type": "code",
   "execution_count": null,
   "metadata": {},
   "outputs": [],
   "source": []
  },
  {
   "cell_type": "code",
   "execution_count": 48,
   "metadata": {},
   "outputs": [],
   "source": [
    "from enum import Enum\n",
    "class Stage(Enum):\n",
    "    GROWING = 0\n",
    "    MERGING = 1\n",
    "    CHECKING = 2"
   ]
  },
  {
   "cell_type": "code",
   "execution_count": 53,
   "metadata": {},
   "outputs": [],
   "source": [
    "nx.set_node_attributes(g, Stage.GROWING, 'stage')"
   ]
  },
  {
   "cell_type": "code",
   "execution_count": null,
   "metadata": {},
   "outputs": [],
   "source": []
  },
  {
   "cell_type": "markdown",
   "metadata": {},
   "source": [
    "---"
   ]
  },
  {
   "cell_type": "code",
   "execution_count": 111,
   "metadata": {},
   "outputs": [],
   "source": [
    "from pprint import pprint"
   ]
  },
  {
   "cell_type": "code",
   "execution_count": 152,
   "metadata": {},
   "outputs": [],
   "source": [
    "# g = dgl.graph((torch.tensor([0, 1]), torch.tensor([2, 3])))\n",
    "g = dgl.from_networkx(nx.Graph([(0,2), (1,3), (2,3)]))\n",
    "g.ndata['id'] = torch.tensor([0, 1, 2, 3])\n",
    "g.ndata['parent'] = torch.tensor([0, 1, 0, 1])\n",
    "g.ndata['cid'] = torch.tensor([0, 1, 0, 1])\n",
    "g.ndata['st_odd'] = torch.tensor([1, 1, 0, 1])\n",
    "g.ndata['odd'] = torch.tensor([1, 1, 1, 1])"
   ]
  },
  {
   "cell_type": "code",
   "execution_count": 153,
   "metadata": {},
   "outputs": [
    {
     "name": "stdout",
     "output_type": "stream",
     "text": [
      "tensor([[0],\n",
      "        [1]]) tensor([0, 1]) tensor([0, 1])\n",
      "tensor([[0, 1],\n",
      "        [0, 1]]) tensor([0, 1]) tensor([0, 0])\n"
     ]
    }
   ],
   "source": [
    "# d.update_all(dgl.function.copy_u('h', out='m'), dgl.function.sum(msg='m', out='h'))\n",
    "\n",
    "def msg_func(edges):\n",
    "    return {'m_cid': edges.src['cid'], 'm_id': edges.src['id']}\n",
    "\n",
    "\n",
    "def reduce_func(nodes):\n",
    "    # print(nodes.mailbox['m'].size(), nodes.mailbox['m'])\n",
    "    # print(nodes.mailbox['m_cid'], nodes.data['cid'],torch.min(nodes.mailbox['m_cid'].min(1)[0], nodes.data['cid']))\n",
    "    print(nodes.mailbox['m_cid'].min(1)[0], nodes.data['cid'])\n",
    "    return {'cid': torch.min(nodes.mailbox['m_cid'].min(1)[0], nodes.data['cid']),\n",
    "            'parent': torch.min(nodes.mailbox['m_id'].min(1)[0], nodes.data['parent'])}\n",
    "\n",
    "    # return {'cid': torch.min(nodes.mailbox['m'], 1), 'parent': ...}\n",
    "g.update_all(msg_func, reduce_func)"
   ]
  },
  {
   "cell_type": "code",
   "execution_count": 154,
   "metadata": {},
   "outputs": [
    {
     "name": "stdout",
     "output_type": "stream",
     "text": [
      "{'id': tensor([0, 1, 2, 3]), 'parent': tensor([0, 1, 0, 1]), 'cid': tensor([0, 1, 0, 0]), 'st_odd': tensor([1, 1, 0, 1]), 'odd': tensor([1, 1, 1, 1])}\n"
     ]
    }
   ],
   "source": [
    "pprint(g.ndata)"
   ]
  },
  {
   "cell_type": "code",
   "execution_count": 109,
   "metadata": {},
   "outputs": [
    {
     "data": {
      "text/plain": [
       "tensor([0, 0, 2, 3])"
      ]
     },
     "execution_count": 109,
     "metadata": {},
     "output_type": "execute_result"
    }
   ],
   "source": [
    "g.ndata['parent']"
   ]
  },
  {
   "cell_type": "code",
   "execution_count": 139,
   "metadata": {},
   "outputs": [
    {
     "data": {
      "text/plain": [
       "tensor([ 2,  3, 10])"
      ]
     },
     "execution_count": 139,
     "metadata": {},
     "output_type": "execute_result"
    }
   ],
   "source": [
    "torch.clamp_min(torch.arange(9).reshape(3,3).min(1), torch.tensor([2,3,10]).view(-1,1)).min(1)[0]"
   ]
  },
  {
   "cell_type": "code",
   "execution_count": 148,
   "metadata": {},
   "outputs": [
    {
     "data": {
      "text/plain": [
       "tensor([0, 1, 6])"
      ]
     },
     "execution_count": 148,
     "metadata": {},
     "output_type": "execute_result"
    }
   ],
   "source": [
    "torch.min(torch.arange(9).reshape(3,3).min(1)[0], torch.tensor([2,1,10]))\n",
    "\n"
   ]
  },
  {
   "cell_type": "code",
   "execution_count": 142,
   "metadata": {},
   "outputs": [
    {
     "data": {
      "text/plain": [
       "tensor([[0, 1, 2],\n",
       "        [3, 4, 5],\n",
       "        [6, 7, 8]])"
      ]
     },
     "execution_count": 142,
     "metadata": {},
     "output_type": "execute_result"
    }
   ],
   "source": [
    "torch.arange(9).reshape(3,3)"
   ]
  },
  {
   "cell_type": "code",
   "execution_count": 141,
   "metadata": {},
   "outputs": [
    {
     "data": {
      "text/plain": [
       "tensor([[0, 1],\n",
       "        [1, 1]])"
      ]
     },
     "execution_count": 141,
     "metadata": {},
     "output_type": "execute_result"
    }
   ],
   "source": [
    "torch.clamp_min(torch.tensor([[0, 1], [0, 1]]), torch.tensor([0,1]).view(-1,1))"
   ]
  },
  {
   "cell_type": "code",
   "execution_count": 71,
   "metadata": {},
   "outputs": [
    {
     "name": "stdout",
     "output_type": "stream",
     "text": [
      "\u001b[1;31mDocstring:\u001b[0m <no docstring>\n",
      "\u001b[1;31mType:\u001b[0m      builtin_function_or_method"
     ]
    }
   ],
   "source": [
    "?torch.clamp_min"
   ]
  },
  {
   "cell_type": "code",
   "execution_count": 96,
   "metadata": {},
   "outputs": [
    {
     "data": {
      "text/plain": [
       "tensor([1, 2, 3])"
      ]
     },
     "execution_count": 96,
     "metadata": {},
     "output_type": "execute_result"
    }
   ],
   "source": [
    "torch.clamp_min(torch.tensor([1,2,3]), torch.tensor([1,2,1]))"
   ]
  },
  {
   "cell_type": "code",
   "execution_count": null,
   "metadata": {},
   "outputs": [],
   "source": []
  },
  {
   "cell_type": "code",
   "execution_count": null,
   "metadata": {},
   "outputs": [],
   "source": []
  }
 ],
 "metadata": {
  "kernelspec": {
   "display_name": "base",
   "language": "python",
   "name": "python3"
  },
  "language_info": {
   "codemirror_mode": {
    "name": "ipython",
    "version": 3
   },
   "file_extension": ".py",
   "mimetype": "text/x-python",
   "name": "python",
   "nbconvert_exporter": "python",
   "pygments_lexer": "ipython3",
   "version": "3.11.4"
  },
  "orig_nbformat": 4
 },
 "nbformat": 4,
 "nbformat_minor": 2
}
