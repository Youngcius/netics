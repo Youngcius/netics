{
 "cells": [
  {
   "cell_type": "code",
   "execution_count": 13,
   "id": "initial_id",
   "metadata": {
    "collapsed": true,
    "ExecuteTime": {
     "end_time": "2023-08-29T15:43:54.769224Z",
     "start_time": "2023-08-29T15:43:54.762369Z"
    }
   },
   "outputs": [
    {
     "data": {
      "text/plain": "False"
     },
     "execution_count": 13,
     "metadata": {},
     "output_type": "execute_result"
    }
   ],
   "source": [
    "import matplotlib.pyplot as plt\n",
    "import torch\n",
    "import json\n",
    "import time\n",
    "import numpy as np\n",
    "import matplotlib.pyplot as plt\n",
    "from tqdm import tqdm\n",
    "from netics.unionfind import mono, dist, gpu\n",
    "from netics import utils\n",
    "# (monolithic, distributed, gpu, utils)\n",
    "\n",
    "from rich import console\n",
    "\n",
    "console = console.Console()\n",
    "torch.cuda.is_available()"
   ]
  },
  {
   "cell_type": "markdown",
   "source": [
    "Compare performance of Monolithic UF Decoder (on CPU) and GPU UF Decoder (on GPU)"
   ],
   "metadata": {
    "collapsed": false
   },
   "id": "b34af5c4c23d6fdc"
  },
  {
   "cell_type": "markdown",
   "source": [
    "**Repetition code**"
   ],
   "metadata": {
    "collapsed": false
   },
   "id": "ed20162fa86e81f2"
  },
  {
   "cell_type": "code",
   "execution_count": 6,
   "outputs": [],
   "source": [
    "with open('./bench/edge_weights.json', 'r') as f:\n",
    "    weights = json.load(f)"
   ],
   "metadata": {
    "collapsed": false,
    "ExecuteTime": {
     "end_time": "2023-08-29T15:35:53.858784Z",
     "start_time": "2023-08-29T15:35:53.854902Z"
    }
   },
   "id": "7f6b6de1290fbece"
  },
  {
   "cell_type": "code",
   "execution_count": 8,
   "outputs": [],
   "source": [
    "def avg_cpu_rep_decoding_time(d, r, trials=10):\n",
    "    g = utils.gene_rep_decoding_graph(d, r, **weights)\n",
    "    times = []\n",
    "    for _ in tqdm(range(trials)):\n",
    "        utils.sample_errors(g)\n",
    "        d_cpu = mono.MonoRepDecoder(g, d, r)\n",
    "        start_time = time.time()\n",
    "        d_cpu.decode()\n",
    "        times.append(time.time() - start_time)\n",
    "    return np.mean(times)\n",
    "\n",
    "\n",
    "def avg_gpu_rep_decoding_time(d, r, trials=10):\n",
    "    g = utils.gene_rep_decoding_graph(d, r, **weights)\n",
    "    times = []\n",
    "    for _ in tqdm(range(trials)):\n",
    "        utils.sample_errors(g)\n",
    "        d_gpu = gpu.GPURepDecoder(g, d, r)\n",
    "        start_time = time.time()\n",
    "        d_gpu.decode()\n",
    "        times.append(time.time() - start_time)\n",
    "    return np.mean(times)"
   ],
   "metadata": {
    "collapsed": false,
    "ExecuteTime": {
     "end_time": "2023-08-29T15:37:57.766324Z",
     "start_time": "2023-08-29T15:37:57.757401Z"
    }
   },
   "id": "aed250573c119bfb"
  },
  {
   "cell_type": "code",
   "execution_count": 9,
   "outputs": [
    {
     "name": "stderr",
     "output_type": "stream",
     "text": [
      "100%|██████████| 100/100 [00:04<00:00, 23.32it/s]\n"
     ]
    },
    {
     "data": {
      "text/plain": "0.017265949249267578"
     },
     "execution_count": 9,
     "metadata": {},
     "output_type": "execute_result"
    }
   ],
   "source": [
    "avg_cpu_rep_decoding_time(11, 50, 100)"
   ],
   "metadata": {
    "collapsed": false,
    "ExecuteTime": {
     "end_time": "2023-08-29T15:38:23.671248Z",
     "start_time": "2023-08-29T15:38:19.309502Z"
    }
   },
   "id": "e6c8aba69908a659"
  },
  {
   "cell_type": "code",
   "execution_count": 10,
   "outputs": [
    {
     "name": "stderr",
     "output_type": "stream",
     "text": [
      "100%|██████████| 10/10 [00:15<00:00,  1.56s/it]\n"
     ]
    },
    {
     "data": {
      "text/plain": "1.4877259731292725"
     },
     "execution_count": 10,
     "metadata": {},
     "output_type": "execute_result"
    }
   ],
   "source": [
    "avg_gpu_rep_decoding_time(11, 50, 10)"
   ],
   "metadata": {
    "collapsed": false,
    "ExecuteTime": {
     "end_time": "2023-08-29T15:38:40.747472Z",
     "start_time": "2023-08-29T15:38:25.109906Z"
    }
   },
   "id": "e5648435ee76ebb9"
  },
  {
   "cell_type": "code",
   "execution_count": 11,
   "outputs": [
    {
     "name": "stdout",
     "output_type": "stream",
     "text": [
      "Decoding d=11 r=20\n"
     ]
    },
    {
     "name": "stderr",
     "output_type": "stream",
     "text": [
      "100%|██████████| 100/100 [00:01<00:00, 61.00it/s]\n",
      "100%|██████████| 100/100 [01:19<00:00,  1.26it/s]\n"
     ]
    },
    {
     "name": "stdout",
     "output_type": "stream",
     "text": [
      "CPU: 0.01 s, GPU: 0.76 s\n",
      "\n",
      "Decoding d=11 r=50\n"
     ]
    },
    {
     "name": "stderr",
     "output_type": "stream",
     "text": [
      "100%|██████████| 40/40 [00:01<00:00, 23.64it/s]\n",
      "100%|██████████| 40/40 [00:53<00:00,  1.35s/it]\n"
     ]
    },
    {
     "name": "stdout",
     "output_type": "stream",
     "text": [
      "CPU: 0.02 s, GPU: 1.28 s\n",
      "\n",
      "Decoding d=11 r=500\n"
     ]
    },
    {
     "name": "stderr",
     "output_type": "stream",
     "text": [
      "100%|██████████| 4/4 [00:01<00:00,  2.23it/s]\n",
      "100%|██████████| 4/4 [00:26<00:00,  6.69s/it]\n"
     ]
    },
    {
     "name": "stdout",
     "output_type": "stream",
     "text": [
      "CPU: 0.18 s, GPU: 5.95 s\n",
      "\n",
      "Decoding d=11 r=1000\n"
     ]
    },
    {
     "name": "stderr",
     "output_type": "stream",
     "text": [
      "100%|██████████| 2/2 [00:02<00:00,  1.05s/it]\n",
      "100%|██████████| 2/2 [00:19<00:00,  9.78s/it]\n"
     ]
    },
    {
     "name": "stdout",
     "output_type": "stream",
     "text": [
      "CPU: 0.49 s, GPU: 8.39 s\n",
      "\n",
      "Decoding d=11 r=2000\n"
     ]
    },
    {
     "name": "stderr",
     "output_type": "stream",
     "text": [
      "100%|██████████| 1/1 [00:02<00:00,  2.07s/it]\n",
      "100%|██████████| 1/1 [00:16<00:00, 16.97s/it]"
     ]
    },
    {
     "name": "stdout",
     "output_type": "stream",
     "text": [
      "CPU: 0.91 s, GPU: 14.34 s\n"
     ]
    },
    {
     "name": "stderr",
     "output_type": "stream",
     "text": [
      "\n"
     ]
    }
   ],
   "source": [
    "d = 11\n",
    "rounds = [20, 50, 500, 1000, 2000]\n",
    "times_cpu = []\n",
    "times_gpu = []\n",
    "for r in rounds:\n",
    "    print('Decoding d={} r={}'.format(d, r))\n",
    "    times_cpu.append(avg_cpu_rep_decoding_time(d, r, trials=np.ceil(2e3 / r).astype(int)))\n",
    "    times_gpu.append(avg_gpu_rep_decoding_time(d, r, trials=np.ceil(2e3 / r).astype(int)))\n",
    "    print('CPU: {:.2f} s, GPU: {:.2f} s'.format(times_cpu[-1], times_gpu[-1]))\n",
    "    print()"
   ],
   "metadata": {
    "collapsed": false,
    "ExecuteTime": {
     "end_time": "2023-08-29T15:43:41.780113Z",
     "start_time": "2023-08-29T15:40:11.663387Z"
    }
   },
   "id": "ca0f5ca5efee712b"
  },
  {
   "cell_type": "code",
   "execution_count": 14,
   "outputs": [
    {
     "data": {
      "text/plain": "<Figure size 1000x300 with 2 Axes>",
      "image/png": "[encoded data removed]"
     },
     "metadata": {},
     "output_type": "display_data"
    }
   ],
   "source": [
    "plt.figure(figsize=(10, 3))\n",
    "\n",
    "plt.subplot(1, 2, 1)\n",
    "plt.plot(rounds, times_cpu, 'o-', label='CPU')\n",
    "plt.legend()\n",
    "plt.xscale('log')\n",
    "plt.xlabel('Round')\n",
    "plt.ylabel('Time (s)')\n",
    "\n",
    "plt.subplot(1, 2, 2)\n",
    "plt.plot(rounds, times_gpu, 'o-', label='GPU')\n",
    "plt.legend()\n",
    "plt.xscale('log')\n",
    "plt.xlabel('Round')\n",
    "\n",
    "plt.suptitle('CPU v.s. GPU latency (d={} repetition code)'.format(d))\n",
    "plt.show()"
   ],
   "metadata": {
    "collapsed": false,
    "ExecuteTime": {
     "end_time": "2023-08-29T15:43:59.685243Z",
     "start_time": "2023-08-29T15:43:59.288243Z"
    }
   },
   "id": "ba4bf6d35c9b10e8"
  },
  {
   "cell_type": "markdown",
   "source": [
    "**Surfacec code**"
   ],
   "metadata": {
    "collapsed": false
   },
   "id": "6e002a574ef2e4eb"
  },
  {
   "cell_type": "code",
   "execution_count": 15,
   "outputs": [],
   "source": [
    "p_data = 0.01\n",
    "p_meas = 0.05\n",
    "\n",
    "\n",
    "def avg_cpu_surf_decoding_time(d, r, trials=10):\n",
    "    g = utils.gene_surf_decoding_graph(d, r, p_data, p_meas)\n",
    "    times = []\n",
    "    for _ in tqdm(range(trials)):\n",
    "        utils.sample_errors(g)\n",
    "        d_cpu = mono.MonoSurfDecoder(g, d, r)\n",
    "        start_time = time.time()\n",
    "        d_cpu.decode()\n",
    "        times.append(time.time() - start_time)\n",
    "    return np.mean(times)\n",
    "\n",
    "\n",
    "def avg_gpu_surf_decoding_time(d, r, trials=10):\n",
    "    g = utils.gene_surf_decoding_graph(d, r, p_data, p_meas)\n",
    "    times = []\n",
    "    for _ in tqdm(range(trials)):\n",
    "        utils.sample_errors(g)\n",
    "        d_gpu = gpu.GPUSurfDecoder(g, d, r)\n",
    "        start_time = time.time()\n",
    "        d_gpu.decode()\n",
    "        times.append(time.time() - start_time)\n",
    "    return np.mean(times)"
   ],
   "metadata": {
    "collapsed": false,
    "ExecuteTime": {
     "end_time": "2023-08-29T15:44:07.620281Z",
     "start_time": "2023-08-29T15:44:07.616006Z"
    }
   },
   "id": "36dc7b5009bb9a8d"
  },
  {
   "cell_type": "code",
   "execution_count": 16,
   "outputs": [
    {
     "name": "stdout",
     "output_type": "stream",
     "text": [
      "Decoding d=11, r=11\n"
     ]
    },
    {
     "name": "stderr",
     "output_type": "stream",
     "text": [
      "100%|██████████| 91/91 [00:06<00:00, 14.98it/s]\n",
      "100%|██████████| 91/91 [00:48<00:00,  1.88it/s]\n"
     ]
    },
    {
     "name": "stdout",
     "output_type": "stream",
     "text": [
      "CPU: 0.02 s, GPU: 0.44 s\n",
      "\n",
      "Decoding d=15, r=15\n"
     ]
    },
    {
     "name": "stderr",
     "output_type": "stream",
     "text": [
      "100%|██████████| 67/67 [00:09<00:00,  6.84it/s]\n",
      "100%|██████████| 67/67 [01:08<00:00,  1.02s/it]\n"
     ]
    },
    {
     "name": "stdout",
     "output_type": "stream",
     "text": [
      "CPU: 0.06 s, GPU: 0.78 s\n",
      "\n",
      "Decoding d=19, r=19\n"
     ]
    },
    {
     "name": "stderr",
     "output_type": "stream",
     "text": [
      "100%|██████████| 53/53 [00:16<00:00,  3.29it/s]\n",
      "100%|██████████| 53/53 [01:26<00:00,  1.64s/it]\n"
     ]
    },
    {
     "name": "stdout",
     "output_type": "stream",
     "text": [
      "CPU: 0.13 s, GPU: 1.20 s\n",
      "\n",
      "Decoding d=23, r=23\n"
     ]
    },
    {
     "name": "stderr",
     "output_type": "stream",
     "text": [
      "100%|██████████| 44/44 [00:24<00:00,  1.82it/s]\n",
      "100%|██████████| 44/44 [01:55<00:00,  2.62s/it]\n"
     ]
    },
    {
     "name": "stdout",
     "output_type": "stream",
     "text": [
      "CPU: 0.23 s, GPU: 1.79 s\n",
      "\n",
      "Decoding d=27, r=27\n"
     ]
    },
    {
     "name": "stderr",
     "output_type": "stream",
     "text": [
      "100%|██████████| 38/38 [00:32<00:00,  1.15it/s]\n",
      "100%|██████████| 38/38 [02:49<00:00,  4.45s/it]\n"
     ]
    },
    {
     "name": "stdout",
     "output_type": "stream",
     "text": [
      "CPU: 0.38 s, GPU: 3.15 s\n",
      "\n",
      "Decoding d=31, r=31\n"
     ]
    },
    {
     "name": "stderr",
     "output_type": "stream",
     "text": [
      "100%|██████████| 33/33 [00:53<00:00,  1.61s/it]\n",
      "100%|██████████| 33/33 [03:35<00:00,  6.52s/it]\n"
     ]
    },
    {
     "name": "stdout",
     "output_type": "stream",
     "text": [
      "CPU: 0.85 s, GPU: 4.52 s\n",
      "\n",
      "Decoding d=35, r=35\n"
     ]
    },
    {
     "name": "stderr",
     "output_type": "stream",
     "text": [
      "100%|██████████| 29/29 [01:00<00:00,  2.07s/it]\n",
      "100%|██████████| 29/29 [04:07<00:00,  8.55s/it]\n"
     ]
    },
    {
     "name": "stdout",
     "output_type": "stream",
     "text": [
      "CPU: 1.02 s, GPU: 5.81 s\n",
      "\n",
      "Decoding d=39, r=39\n"
     ]
    },
    {
     "name": "stderr",
     "output_type": "stream",
     "text": [
      "100%|██████████| 26/26 [01:36<00:00,  3.71s/it]\n",
      "100%|██████████| 26/26 [05:42<00:00, 13.19s/it]\n"
     ]
    },
    {
     "name": "stdout",
     "output_type": "stream",
     "text": [
      "CPU: 2.21 s, GPU: 9.38 s\n",
      "\n",
      "Decoding d=43, r=43\n"
     ]
    },
    {
     "name": "stderr",
     "output_type": "stream",
     "text": [
      " 29%|██▉       | 7/24 [00:30<01:13,  4.34s/it]\n"
     ]
    },
    {
     "ename": "KeyboardInterrupt",
     "evalue": "",
     "output_type": "error",
     "traceback": [
      "\u001B[0;31m---------------------------------------------------------------------------\u001B[0m",
      "\u001B[0;31mKeyboardInterrupt\u001B[0m                         Traceback (most recent call last)",
      "Cell \u001B[0;32mIn[16], line 7\u001B[0m\n\u001B[1;32m      5\u001B[0m r \u001B[38;5;241m=\u001B[39m d\n\u001B[1;32m      6\u001B[0m \u001B[38;5;28mprint\u001B[39m(\u001B[38;5;124m'\u001B[39m\u001B[38;5;124mDecoding d=\u001B[39m\u001B[38;5;132;01m{}\u001B[39;00m\u001B[38;5;124m, r=\u001B[39m\u001B[38;5;132;01m{}\u001B[39;00m\u001B[38;5;124m'\u001B[39m\u001B[38;5;241m.\u001B[39mformat(d, r))\n\u001B[0;32m----> 7\u001B[0m times_cpu\u001B[38;5;241m.\u001B[39mappend(\u001B[43mavg_cpu_surf_decoding_time\u001B[49m\u001B[43m(\u001B[49m\u001B[43md\u001B[49m\u001B[43m,\u001B[49m\u001B[43m \u001B[49m\u001B[43mr\u001B[49m\u001B[43m,\u001B[49m\u001B[43m \u001B[49m\u001B[43mtrials\u001B[49m\u001B[38;5;241;43m=\u001B[39;49m\u001B[43mnp\u001B[49m\u001B[38;5;241;43m.\u001B[39;49m\u001B[43mceil\u001B[49m\u001B[43m(\u001B[49m\u001B[38;5;241;43m1e3\u001B[39;49m\u001B[43m \u001B[49m\u001B[38;5;241;43m/\u001B[39;49m\u001B[43m \u001B[49m\u001B[43mr\u001B[49m\u001B[43m)\u001B[49m\u001B[38;5;241;43m.\u001B[39;49m\u001B[43mastype\u001B[49m\u001B[43m(\u001B[49m\u001B[38;5;28;43mint\u001B[39;49m\u001B[43m)\u001B[49m\u001B[43m)\u001B[49m)\n\u001B[1;32m      8\u001B[0m times_gpu\u001B[38;5;241m.\u001B[39mappend(avg_gpu_surf_decoding_time(d, r, trials\u001B[38;5;241m=\u001B[39mnp\u001B[38;5;241m.\u001B[39mceil(\u001B[38;5;241m1e3\u001B[39m \u001B[38;5;241m/\u001B[39m r)\u001B[38;5;241m.\u001B[39mastype(\u001B[38;5;28mint\u001B[39m)))\n\u001B[1;32m      9\u001B[0m \u001B[38;5;28mprint\u001B[39m(\u001B[38;5;124m'\u001B[39m\u001B[38;5;124mCPU: \u001B[39m\u001B[38;5;132;01m{:.2f}\u001B[39;00m\u001B[38;5;124m s, GPU: \u001B[39m\u001B[38;5;132;01m{:.2f}\u001B[39;00m\u001B[38;5;124m s\u001B[39m\u001B[38;5;124m'\u001B[39m\u001B[38;5;241m.\u001B[39mformat(times_cpu[\u001B[38;5;241m-\u001B[39m\u001B[38;5;241m1\u001B[39m], times_gpu[\u001B[38;5;241m-\u001B[39m\u001B[38;5;241m1\u001B[39m]))\n",
      "Cell \u001B[0;32mIn[15], line 9\u001B[0m, in \u001B[0;36mavg_cpu_surf_decoding_time\u001B[0;34m(d, r, trials)\u001B[0m\n\u001B[1;32m      7\u001B[0m \u001B[38;5;28;01mfor\u001B[39;00m _ \u001B[38;5;129;01min\u001B[39;00m tqdm(\u001B[38;5;28mrange\u001B[39m(trials)):\n\u001B[1;32m      8\u001B[0m     utils\u001B[38;5;241m.\u001B[39msample_errors(g)\n\u001B[0;32m----> 9\u001B[0m     d_cpu \u001B[38;5;241m=\u001B[39m \u001B[43mmonolithic\u001B[49m\u001B[38;5;241;43m.\u001B[39;49m\u001B[43mMonoSurfDecoder\u001B[49m\u001B[43m(\u001B[49m\u001B[43mg\u001B[49m\u001B[43m,\u001B[49m\u001B[43m \u001B[49m\u001B[43md\u001B[49m\u001B[43m,\u001B[49m\u001B[43m \u001B[49m\u001B[43mr\u001B[49m\u001B[43m)\u001B[49m\n\u001B[1;32m     10\u001B[0m     start_time \u001B[38;5;241m=\u001B[39m time\u001B[38;5;241m.\u001B[39mtime()\n\u001B[1;32m     11\u001B[0m     d_cpu\u001B[38;5;241m.\u001B[39mdecode()\n",
      "File \u001B[0;32m~/git-projects/qec-decoding/unionfind/monolithic.py:147\u001B[0m, in \u001B[0;36mMonoSurfDecoder.__init__\u001B[0;34m(self, decoding_graph, code_distance, num_rounds)\u001B[0m\n\u001B[1;32m    146\u001B[0m \u001B[38;5;28;01mdef\u001B[39;00m \u001B[38;5;21m__init__\u001B[39m(\u001B[38;5;28mself\u001B[39m, decoding_graph: nx\u001B[38;5;241m.\u001B[39mGraph, code_distance: \u001B[38;5;28mint\u001B[39m, num_rounds: \u001B[38;5;28mint\u001B[39m):\n\u001B[0;32m--> 147\u001B[0m     \u001B[38;5;28;43msuper\u001B[39;49m\u001B[43m(\u001B[49m\u001B[43m)\u001B[49m\u001B[38;5;241;43m.\u001B[39;49m\u001B[38;5;21;43m__init__\u001B[39;49m\u001B[43m(\u001B[49m\u001B[43mdecoding_graph\u001B[49m\u001B[43m,\u001B[49m\u001B[43m \u001B[49m\u001B[43mcode_distance\u001B[49m\u001B[43m,\u001B[49m\u001B[43m \u001B[49m\u001B[43mnum_rounds\u001B[49m\u001B[43m)\u001B[49m\n",
      "File \u001B[0;32m~/git-projects/qec-decoding/unionfind/monolithic.py:41\u001B[0m, in \u001B[0;36mMonoDecoder.__init__\u001B[0;34m(self, decoding_graph, code_distance, num_rounds)\u001B[0m\n\u001B[1;32m     39\u001B[0m \u001B[38;5;28;01mdef\u001B[39;00m \u001B[38;5;21m__init__\u001B[39m(\u001B[38;5;28mself\u001B[39m, decoding_graph: nx\u001B[38;5;241m.\u001B[39mGraph, code_distance: \u001B[38;5;28mint\u001B[39m, num_rounds: \u001B[38;5;28mint\u001B[39m) \u001B[38;5;241m-\u001B[39m\u001B[38;5;241m>\u001B[39m \u001B[38;5;28;01mNone\u001B[39;00m:\n\u001B[1;32m     40\u001B[0m     \u001B[38;5;28msuper\u001B[39m()\u001B[38;5;241m.\u001B[39m\u001B[38;5;21m__init__\u001B[39m(decoding_graph, code_distance, num_rounds)\n\u001B[0;32m---> 41\u001B[0m     \u001B[38;5;28mself\u001B[39m\u001B[38;5;241m.\u001B[39mnodes: List[Node] \u001B[38;5;241m=\u001B[39m [Node(node_id, \u001B[38;5;241m1\u001B[39m) \u001B[38;5;28;01mif\u001B[39;00m \u001B[38;5;28mself\u001B[39m\u001B[38;5;241m.\u001B[39mdecoding_graph\u001B[38;5;241m.\u001B[39mnodes[node_id][\u001B[38;5;124m'\u001B[39m\u001B[38;5;124mmeas\u001B[39m\u001B[38;5;124m'\u001B[39m] \u001B[38;5;28;01melse\u001B[39;00m Node(node_id, \u001B[38;5;241m0\u001B[39m)\n\u001B[1;32m     42\u001B[0m                               \u001B[38;5;28;01mfor\u001B[39;00m node_id \u001B[38;5;129;01min\u001B[39;00m \u001B[38;5;28mrange\u001B[39m(\u001B[38;5;28mself\u001B[39m\u001B[38;5;241m.\u001B[39mdecoding_graph\u001B[38;5;241m.\u001B[39mnumber_of_nodes())]\n\u001B[1;32m     43\u001B[0m     \u001B[38;5;28mself\u001B[39m\u001B[38;5;241m.\u001B[39mclusters: Set[Node] \u001B[38;5;241m=\u001B[39m \u001B[38;5;28mset\u001B[39m([node \u001B[38;5;28;01mfor\u001B[39;00m node \u001B[38;5;129;01min\u001B[39;00m \u001B[38;5;28mself\u001B[39m\u001B[38;5;241m.\u001B[39mnodes \u001B[38;5;28;01mif\u001B[39;00m node\u001B[38;5;241m.\u001B[39mmeas \u001B[38;5;241m==\u001B[39m \u001B[38;5;241m1\u001B[39m])\n\u001B[1;32m     44\u001B[0m     \u001B[38;5;66;03m# fully_grown_edges + growing_edges is the set of all edges\u001B[39;00m\n",
      "File \u001B[0;32m~/git-projects/qec-decoding/unionfind/monolithic.py:41\u001B[0m, in \u001B[0;36m<listcomp>\u001B[0;34m(.0)\u001B[0m\n\u001B[1;32m     39\u001B[0m \u001B[38;5;28;01mdef\u001B[39;00m \u001B[38;5;21m__init__\u001B[39m(\u001B[38;5;28mself\u001B[39m, decoding_graph: nx\u001B[38;5;241m.\u001B[39mGraph, code_distance: \u001B[38;5;28mint\u001B[39m, num_rounds: \u001B[38;5;28mint\u001B[39m) \u001B[38;5;241m-\u001B[39m\u001B[38;5;241m>\u001B[39m \u001B[38;5;28;01mNone\u001B[39;00m:\n\u001B[1;32m     40\u001B[0m     \u001B[38;5;28msuper\u001B[39m()\u001B[38;5;241m.\u001B[39m\u001B[38;5;21m__init__\u001B[39m(decoding_graph, code_distance, num_rounds)\n\u001B[0;32m---> 41\u001B[0m     \u001B[38;5;28mself\u001B[39m\u001B[38;5;241m.\u001B[39mnodes: List[Node] \u001B[38;5;241m=\u001B[39m [Node(node_id, \u001B[38;5;241m1\u001B[39m) \u001B[38;5;28;01mif\u001B[39;00m \u001B[38;5;28mself\u001B[39m\u001B[38;5;241m.\u001B[39mdecoding_graph\u001B[38;5;241m.\u001B[39mnodes[node_id][\u001B[38;5;124m'\u001B[39m\u001B[38;5;124mmeas\u001B[39m\u001B[38;5;124m'\u001B[39m] \u001B[38;5;28;01melse\u001B[39;00m \u001B[43mNode\u001B[49m\u001B[43m(\u001B[49m\u001B[43mnode_id\u001B[49m\u001B[43m,\u001B[49m\u001B[43m \u001B[49m\u001B[38;5;241;43m0\u001B[39;49m\u001B[43m)\u001B[49m\n\u001B[1;32m     42\u001B[0m                               \u001B[38;5;28;01mfor\u001B[39;00m node_id \u001B[38;5;129;01min\u001B[39;00m \u001B[38;5;28mrange\u001B[39m(\u001B[38;5;28mself\u001B[39m\u001B[38;5;241m.\u001B[39mdecoding_graph\u001B[38;5;241m.\u001B[39mnumber_of_nodes())]\n\u001B[1;32m     43\u001B[0m     \u001B[38;5;28mself\u001B[39m\u001B[38;5;241m.\u001B[39mclusters: Set[Node] \u001B[38;5;241m=\u001B[39m \u001B[38;5;28mset\u001B[39m([node \u001B[38;5;28;01mfor\u001B[39;00m node \u001B[38;5;129;01min\u001B[39;00m \u001B[38;5;28mself\u001B[39m\u001B[38;5;241m.\u001B[39mnodes \u001B[38;5;28;01mif\u001B[39;00m node\u001B[38;5;241m.\u001B[39mmeas \u001B[38;5;241m==\u001B[39m \u001B[38;5;241m1\u001B[39m])\n\u001B[1;32m     44\u001B[0m     \u001B[38;5;66;03m# fully_grown_edges + growing_edges is the set of all edges\u001B[39;00m\n",
      "File \u001B[0;32m~/git-projects/qec-decoding/unionfind/monolithic.py:15\u001B[0m, in \u001B[0;36mNode.__init__\u001B[0;34m(self, node_id, meas)\u001B[0m\n\u001B[1;32m     14\u001B[0m \u001B[38;5;28;01mdef\u001B[39;00m \u001B[38;5;21m__init__\u001B[39m(\u001B[38;5;28mself\u001B[39m, node_id, meas):\n\u001B[0;32m---> 15\u001B[0m     \u001B[38;5;28mself\u001B[39m\u001B[38;5;241m.\u001B[39mid \u001B[38;5;241m=\u001B[39m node_id\n\u001B[1;32m     16\u001B[0m     \u001B[38;5;28mself\u001B[39m\u001B[38;5;241m.\u001B[39mmeas \u001B[38;5;241m=\u001B[39m meas\n\u001B[1;32m     17\u001B[0m     \u001B[38;5;28mself\u001B[39m\u001B[38;5;241m.\u001B[39mparent \u001B[38;5;241m=\u001B[39m \u001B[38;5;28mself\u001B[39m\n",
      "\u001B[0;31mKeyboardInterrupt\u001B[0m: "
     ]
    }
   ],
   "source": [
    "distances = list(range(11, 52, 4))\n",
    "times_cpu = []\n",
    "times_gpu = []\n",
    "for d in distances:\n",
    "    r = d\n",
    "    print('Decoding d={}, r={}'.format(d, r))\n",
    "    times_cpu.append(avg_cpu_surf_decoding_time(d, r, trials=np.ceil(1e3 / r).astype(int)))\n",
    "    times_gpu.append(avg_gpu_surf_decoding_time(d, r, trials=np.ceil(1e3 / r).astype(int)))\n",
    "    print('CPU: {:.2f} s, GPU: {:.2f} s'.format(times_cpu[-1], times_gpu[-1]))\n",
    "    print()"
   ],
   "metadata": {
    "collapsed": false,
    "ExecuteTime": {
     "end_time": "2023-08-29T16:12:53.032128Z",
     "start_time": "2023-08-29T15:45:18.635028Z"
    }
   },
   "id": "c53103b8a64dea2"
  },
  {
   "cell_type": "code",
   "execution_count": 20,
   "outputs": [],
   "source": [
    "distances = np.array(distances)\n",
    "times_cpu = np.array(times_cpu)\n",
    "times_gpu = np.array(times_gpu)"
   ],
   "metadata": {
    "collapsed": false,
    "ExecuteTime": {
     "end_time": "2023-08-29T16:13:23.298418Z",
     "start_time": "2023-08-29T16:13:23.291671Z"
    }
   },
   "id": "b634b75261a61b78"
  },
  {
   "cell_type": "code",
   "execution_count": 21,
   "outputs": [
    {
     "data": {
      "text/plain": "<Figure size 1000x300 with 2 Axes>",
      "image/png": "[encoded data removed]"
     },
     "metadata": {},
     "output_type": "display_data"
    }
   ],
   "source": [
    "plt.figure(figsize=(10, 3))\n",
    "\n",
    "plt.subplot(1, 2, 1)\n",
    "plt.plot(distances, times_cpu, 'o-', label='CPU')\n",
    "plt.legend()\n",
    "plt.xticks(distances)\n",
    "plt.xlabel('Distance')\n",
    "plt.ylabel('Time (s)')\n",
    "\n",
    "plt.subplot(1, 2, 2)\n",
    "plt.plot(distances, times_gpu, 'o-', label='GPU')\n",
    "plt.legend()\n",
    "plt.xticks(distances)\n",
    "plt.xlabel('Distance')\n",
    "\n",
    "plt.suptitle('CPU v.s. GPU latency (p_data={}, p_meas={} surface code)'.format(p_data, p_meas))\n",
    "plt.show()"
   ],
   "metadata": {
    "collapsed": false,
    "ExecuteTime": {
     "end_time": "2023-08-29T16:13:24.559047Z",
     "start_time": "2023-08-29T16:13:24.418777Z"
    }
   },
   "id": "d6f4c9cc93f4c85a"
  },
  {
   "cell_type": "code",
   "execution_count": null,
   "outputs": [],
   "source": [],
   "metadata": {
    "collapsed": false
   },
   "id": "5b7fb5aba5a3b502"
  }
 ],
 "metadata": {
  "kernelspec": {
   "display_name": "Python 3",
   "language": "python",
   "name": "python3"
  },
  "language_info": {
   "codemirror_mode": {
    "name": "ipython",
    "version": 2
   },
   "file_extension": ".py",
   "mimetype": "text/x-python",
   "name": "python",
   "nbconvert_exporter": "python",
   "pygments_lexer": "ipython2",
   "version": "2.7.6"
  }
 },
 "nbformat": 4,
 "nbformat_minor": 5
}
